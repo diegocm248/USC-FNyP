{
 "cells": [
  {
   "cell_type": "markdown",
   "metadata": {
    "slideshow": {
     "slide_type": "slide"
    }
   },
   "source": [
    "# A quick look at Particle Physics -\n"
   ]
  },
  {
   "cell_type": "code",
   "execution_count": 1,
   "metadata": {
    "slideshow": {
     "slide_type": "fragment"
    }
   },
   "outputs": [
    {
     "name": "stdout",
     "output_type": "stream",
     "text": [
      " Last version  Thu Apr 10 09:27:15 2025\n"
     ]
    }
   ],
   "source": [
    "import time\n",
    "print(' Last version ', time.asctime() )"
   ]
  },
  {
   "cell_type": "markdown",
   "metadata": {
    "slideshow": {
     "slide_type": "slide"
    }
   },
   "source": [
    "*Who is this man?*\n",
    "\n",
    "| |\n",
    "|:--:|\n",
    "| <img src=\"./imgs/div_borges.jpg\" width = 100 align=\"center\">|\n",
    "\n",
    "Read his mathematical short stories about laberithms, mirrors, bifurcations, maps...\n",
    "\n",
    "\"There is a tribu where names do not exits. Things are named by they properties, their adjectives...\"\n",
    "\n",
    "He lived in Geneva!\n"
   ]
  },
  {
   "cell_type": "markdown",
   "metadata": {},
   "source": [
    "## CERN is here\n",
    "\n",
    "| |\n",
    "|:--:|\n",
    "| <img src=\"./imgs/div_CERN_logo.png\" width = 120 align=\"center\">|\n",
    "\n",
    "[CERN](https://www.home.cern/about) is the world's largest particle physics laboratory.\n",
    "\n",
    "Hundreds of crucial discoveries and measurements in particle physics have been made at CERN.\n",
    "\n",
    "It is one of the most successful examples of a European collaboration."
   ]
  },
  {
   "cell_type": "markdown",
   "metadata": {
    "slideshow": {
     "slide_type": "slide"
    }
   },
   "source": [
    "## What is particle Physics\n",
    "\n",
    "  Is the part of Physics that study the most elementary elements of Nature and its interactions.\n",
    "\n",
    "### Escale of Particle Physics\n",
    "\n",
    "\n",
    "\n",
    "\n",
    "| |\n",
    "|:--:|\n",
    "| <img src=\"./imgs/intro_distances_scale.jpg\" width = 500 align=\"center\">|\n",
    "\n",
    "We look for distance bellow $10^{-15}$ m, That is quite small\n"
   ]
  },
  {
   "cell_type": "markdown",
   "metadata": {
    "slideshow": {
     "slide_type": "slide"
    }
   },
   "source": [
    "Matter is composed of atoms\n",
    "\n",
    "The Atom is \"like a solar system\"\n",
    "\n",
    "with nucleus in the center, that have the mass, and electrons, 'orbiting'\n",
    "\n",
    "| |\n",
    "|:--:|\n",
    "| <img src=\"./imgs/div_atom.jpg\" width = 300 align=\"center\">|\n",
    "\n"
   ]
  },
  {
   "cell_type": "markdown",
   "metadata": {
    "slideshow": {
     "slide_type": "slide"
    }
   },
   "source": [
    "If the glob with be an atom, all its weights will be at the center in a very small point (the nucleus) and the electrons will be like fly\n",
    "\n",
    "| | | | \n",
    "|:--:| :--: | :--: |\n",
    "| <img src=\"./imgs/div_CERN_globe.jpg\" width = 150 align=\"center\"> | <img src=\"./imgs/div_peso_nucleo.png\" width = 150 align=\"center\"> |  <img src=\"./imgs/div_mosca.png\" width = 100 align=\"center\"> |"
   ]
  },
  {
   "cell_type": "markdown",
   "metadata": {
    "slideshow": {
     "slide_type": "slide"
    }
   },
   "source": [
    "To study 'inside' one particle we need anothe as a 'probe'. \n",
    "\n",
    "But Quantum Mechanics tells us that to reach smaller distance you need probes with higher and higher energies.\n",
    "\n",
    "Relation of distance and energy:\n",
    "  \n",
    "  || Atómica | Nuclear | Partículas|\n",
    "  | -- | --       | --     | --        |\n",
    "  distancia (m)|  $10^{-10}$ | $10^{-14}$ | $10^{-18}$ |\n",
    "  Energía (eV) |  $1$ | $10^{6}$ | $10^{9-11}$ |\n",
    "  |          | $\\mathcal{O}$(eV) | $\\mathcal{O}$ (MeV) | $\\mathcal{O}$(GeV-TeV) |          \n",
    "\n",
    "\n",
    "The basic energy is eV, that is the energy of the attachment of electrons in light atoms.\n",
    "\n",
    "Particle Physics study very small distances $10^{-15}$ m or very large energies GeV or TeV $10^{12}$ eV\n"
   ]
  },
  {
   "cell_type": "markdown",
   "metadata": {
    "slideshow": {
     "slide_type": "slide"
    }
   },
   "source": [
    "Probing with electrons the nucleon and proton we discover they were made of another more elementary particle: *quarks*!\n",
    "\n",
    "| |  |\n",
    "|:--:| :--:|\n",
    "| <img src=\"./imgs/div_quarks_discov.png\" width = 240 align=\"center\"> | <img src=\"./imgs/div_nucleons_quarks.jpg\" width = 300 align=\"center\">| \n",
    "\n",
    "Electrons are 'still' elementary"
   ]
  },
  {
   "cell_type": "markdown",
   "metadata": {
    "slideshow": {
     "slide_type": "slide"
    }
   },
   "source": [
    "### Methodology\n",
    "\n",
    "We are very primitive: we study interaction with two types of experiments: target and collision experiments\n",
    "\n",
    "\n",
    "| | | \n",
    "|:--:| :--: |\n",
    "| <img src=\"./imgs/intro_dispersion.png\" width = 300 align=\"center\">| <img src=\"./imgs/intro_colision.png\" width = 300 align=\"center\">|\n",
    "| Targer | Colision |\n",
    "\n",
    "We smash bunch of particles at high energy with a targer or between them, and observe and measure what happens!\n"
   ]
  },
  {
   "cell_type": "markdown",
   "metadata": {
    "slideshow": {
     "slide_type": "slide"
    }
   },
   "source": [
    "| | | \n",
    "|:--:| :--: |\n",
    "| <img src=\"./imgs/div_indio.jpg\" width = 200 align=\"center\">| <img src=\"./imgs/div_train_crash.jpg\" width = 400 align=\"center\">|\n",
    "| Target | Colision |"
   ]
  },
  {
   "cell_type": "markdown",
   "metadata": {
    "slideshow": {
     "slide_type": "slide"
    }
   },
   "source": [
    "### How to accelerate particles?\n",
    "\n",
    "\n",
    "* We can construct acelerators, for example the  **LHC** [[>]](https://www.youtube.com/watch?v=pQhbhpU9Wrg) where we crush trains of protons agains trains of protons at TeV energies\n",
    "\n",
    "* In the cosmos there are *natural accelerator* that send to the Earth bunch or particles, the IceCube [[>]](https://www.youtube.com/watch?v=D50LNnioXQc) look for high energy neutrinos."
   ]
  },
  {
   "cell_type": "markdown",
   "metadata": {
    "slideshow": {
     "slide_type": "slide"
    }
   },
   "source": [
    "### Particles at High Energy\n",
    "\n",
    "But during the first seconds of the Universe, the particles where so high energy.\n",
    "\n",
    "| |\n",
    "| :--: |\n",
    "| <img src=\"./imgs/intro_universe_history_2.jpg\" width = 500 align=\"center\"> |\n",
    "|  [PDG]|\n",
    "\n",
    "The Universe started with a Big Band but now goes 'zen' and quiet as time pass.\n"
   ]
  },
  {
   "cell_type": "markdown",
   "metadata": {
    "slideshow": {
     "slide_type": "slide"
    }
   },
   "source": [
    "When the Universe got slightly cold, particles formed first neucleons, protons, then nucleous, then athoms, and finally stars and galaxies.\n",
    "\n",
    "Now we know some particle decay, they convert to others, for example:\n",
    "\n",
    "$$\n",
    "n \\to p + e + \\bar{\\nu}_e\n",
    "$$\n",
    "\n",
    "And we are very, very lucky!!\n",
    "\n",
    "The neutron, after creation, lives 10 mins, enough to get time to create the first nuclei of Helium, that are stables, that took 6 mins!"
   ]
  },
  {
   "cell_type": "markdown",
   "metadata": {
    "slideshow": {
     "slide_type": "slide"
    }
   },
   "source": [
    "### The faboulous four\n",
    "\n",
    "Wait! In the neutron decay are the main particle that compose our Universe today:\n",
    "\n",
    "$$\n",
    "n \\to p + e + \\bar{\\nu}_e\n",
    "$$\n",
    "\n",
    "This is call: *beta decay*! and guided a revolution in Physics!\n",
    "\n",
    "| | \n",
    "|:--:|\n",
    "| <img src=\"./imgs/div_beta_decay.png\" width = 300 align=\"center\">| "
   ]
  },
  {
   "cell_type": "markdown",
   "metadata": {
    "slideshow": {
     "slide_type": "slide"
    }
   },
   "source": [
    "### Science is discussion:\n",
    "\n",
    "\n",
    " $$\n",
    "\\mathrm{Detectors} \\Leftrightarrow \\mathrm{Experiments} \\Leftrightarrow \\mathrm{Theories}\n",
    " $$\n",
    "\n",
    "They are essential:\n",
    "\n",
    "   * Accelerators and detector allow us to do explore new territories\n",
    "\n",
    "   * New discoveries confirm o modify the theory. \n",
    "\n",
    "   * Theories made predictions and guide the experiments\n",
    "   \n",
    "but we need also computing, engineers and physcologist!\n",
    " "
   ]
  },
  {
   "cell_type": "markdown",
   "metadata": {
    "slideshow": {
     "slide_type": "slide"
    }
   },
   "source": [
    "### The big Science\n",
    "\n",
    "The accelerator and experiments are *unique* and complex. They planning takes decades. Like [ATLAS](https://atlas.cern/) at LHC,\n",
    "\n",
    "| |\n",
    "| :--: |\n",
    "| <img src=\"./imgs/intro_atlas.jpg\" width = 500 align=\"center\"> |\n",
    "| Imagen del detector ATLAS durante su construcción [ATLAS]|\n",
    "\n",
    "In ATLAS works thousand physicist from all the World.\n"
   ]
  },
  {
   "cell_type": "markdown",
   "metadata": {
    "slideshow": {
     "slide_type": "slide"
    }
   },
   "source": [
    "### Los grandes Laboratorios\n",
    "\n",
    "The experiments takes place in large laboratories.\n",
    "\n",
    "CERN was created in the 50's of XX century to reunite and recuperate european science. Since them is a model for Science and Humanity.\n",
    "\n",
    "Do you know who is she?\n",
    "\n",
    "| |\n",
    "| :--: |\n",
    "| <img src=\"./imgs/Dr_Fabiola_Gianotti.jpg\" width = 100 align=\"center\"> |\n"
   ]
  },
  {
   "cell_type": "markdown",
   "metadata": {
    "slideshow": {
     "slide_type": "subslide"
    }
   },
   "source": [
    "\n",
    "Los principales laboratorios de partículas son:\n",
    "\n",
    "basados en aceleradores:\n",
    "  \n",
    "   * [CERN](https://home.cern) (Ginebra, Suiza).\n",
    "     \n",
    "   * [Fermilab](https://www.fnal.gov/) (Chicago, Illinois), [SLAC](https://www6.slac.stanford.edu/) (Stanford, California), [Brookhaven](https://www.bnl.gov/world/) (New York)\n",
    "     \n",
    "   * [KEK](https://www.kek.jp/en/) (Japón)\n",
    "     \n",
    "y subterráneos:\n",
    "  \n",
    "   * [LNGS](https://www.lngs.infn.it/en) (Italia), [Kamioka](http://www-sk.icrr.u-tokyo.ac.jp/index-e.html) (Japon), [SNOLAB](https://www.snolab.ca/) (Canada), [Canfranc](https://lsc-canfranc.es/) [[>](https://lsc-canfranc.es/media-videos/)] (Spain)."
   ]
  },
  {
   "cell_type": "markdown",
   "metadata": {
    "slideshow": {
     "slide_type": "slide"
    }
   },
   "source": [
    "### Aplicaciones prácticas\n",
    "\n",
    "Do you know that the [WWW](https://www.youtube.com/watch?v=sSqZ_hJu9zA) born at CERN in the late 80's?\n",
    "\n",
    "It was designed to share information between the physicist around the World.\n",
    "\n",
    "What you will do without Internet and the Web?\n"
   ]
  },
  {
   "cell_type": "markdown",
   "metadata": {
    "slideshow": {
     "slide_type": "slide"
    }
   },
   "source": [
    "## How we detect particles"
   ]
  },
  {
   "cell_type": "markdown",
   "metadata": {
    "slideshow": {
     "slide_type": "slide"
    }
   },
   "source": [
    "## Introduction to the Standard Model\n",
    "\n",
    "The Standard Model of Particle Physics is one of the greates achivements of Physics. Unfortunately it has a very poor name.\n",
    "\n",
    "It clasifies all elementary particles and the interaction between them.\n",
    "\n",
    "All we know, with the devil details, is here:  *Particle Data Group* ([PDG](https://pdg.lbl.gov/)) \n",
    "\n"
   ]
  },
  {
   "cell_type": "markdown",
   "metadata": {
    "slideshow": {
     "slide_type": "slide"
    }
   },
   "source": [
    "Let's go back to the *Beta decay*.\n",
    "\n",
    "This decay can happen in certain nucleus, a neutron convert to a proton, and an electron and neutrino leaves the nucleus. \n",
    "\n",
    "| |\n",
    "| :--: |\n",
    "| <img src=\"./imgs/div_beta_dec_nucl.png\" width = 300 align=\"center\"> |\n",
    "\n",
    "\n",
    "At the begining was a mistery!"
   ]
  },
  {
   "cell_type": "markdown",
   "metadata": {
    "slideshow": {
     "slide_type": "slide"
    }
   },
   "source": [
    "The daughter nucleous has less mass than the mother, but the energy of the electron does not have the missing energy. Where the energy go?\n",
    "\n",
    "\n",
    "| |\n",
    "|:--:|\n",
    "|<img src=\"./imgs/intro_bspectrum_1935.png\" width=200 align=\"center\">|\n",
    "| Espectro $\\beta$|\n",
    "\n",
    "Remember Einstein relation between mass and energy:\n",
    "\n",
    "$$\n",
    "E = m c^2\n",
    "$$\n",
    "\n",
    "Of course, The missing energy was taken away by the neutrino, that escaped undetected!\n"
   ]
  },
  {
   "cell_type": "markdown",
   "metadata": {
    "slideshow": {
     "slide_type": "slide"
    }
   },
   "source": [
    "[Pauli](https://en.wikipedia.org/wiki/Wolfgang_Pauli) postuó la existencia del neutrino en una histórica carta.\n",
    "\n",
    "| |\n",
    "| :--: |\n",
    "|<img src=\"./imgs/intro_Pauli_letter.jpg\" width=600 align=\"center\">|\n",
    "||"
   ]
  },
  {
   "cell_type": "markdown",
   "metadata": {
    "slideshow": {
     "slide_type": "slide"
    }
   },
   "source": [
    "B. Pontecorvo [[>]](https://www.youtube.com/watch?v=yXrHnsBgQSw&t=9s)\n",
    "proposes that maybe if there are a large flux of neutrinos and a massive target we can detect them even if they interac so fleably!\n",
    "\n",
    "F. Reines and C. L. Cowan detected the first neutrino using the flux of the neutrinos generated in the first nuclear reactor at de Savanna River, SC, EE.UU. in 1953\n",
    "\n",
    "| | \n",
    "| :--: | \n",
    "| <img src=\"./imgs/intro_cowan_reines_telegram.png\" width=350 align=\"center\">|\n"
   ]
  },
  {
   "cell_type": "markdown",
   "metadata": {
    "slideshow": {
     "slide_type": "slide"
    }
   },
   "source": [
    "For a moment everything was simple: neutron, proton, electron, neutrino\n",
    "\n",
    "\n",
    "But, looking at the interacions of cosmic rays (extra-terrestial particles) a new particle show up: the muon!!\n",
    "\n",
    "The muon was like the electron but with a larger mass. The muon is the brother of the electron!\n",
    "\n",
    "Why we need the muon? Our Universe was so simple with 4 particles!"
   ]
  },
  {
   "cell_type": "markdown",
   "metadata": {
    "slideshow": {
     "slide_type": "slide"
    }
   },
   "source": [
    "Not only that, this guy:\n",
    "\n",
    "| | \n",
    "| :--: | \n",
    "| <img src=\"./imgs/div_Paul_Dirac.jpg\" width=100 align=\"center\">|\n",
    "\n",
    "Proposed an equation for the free electron in 1932. \n",
    "\n",
    "$$\n",
    "i \\gamma^\\mu \\partial_\\mu \\Psi - m \\Psi = 0\n",
    "$$\n",
    "\n",
    "This equation is so important that you should put have as a magnet on your fridge!\n"
   ]
  },
  {
   "cell_type": "markdown",
   "metadata": {
    "slideshow": {
     "slide_type": "slide"
    }
   },
   "source": [
    "Why is so important:\n",
    "\n",
    "Dirac unified the two great revolutions: Relativity + Quantum Mechanics\n",
    "to get his equation.\n",
    "\n",
    "And he predicted that the electron was not alone.\n",
    "\n",
    "The electron should have its anti-particle, the positron. Same mass, but oposite charge.\n",
    "\n",
    "| | \n",
    "| :--: | \n",
    "| <img src=\"./imgs/div_antiparticle.png\" width=200 align=\"center\">|\n",
    "\n",
    "One year later they found the positron!\n",
    "\n",
    "But why there is no anti-particles in our Universe? Where did they go? We have no idea!!"
   ]
  },
  {
   "cell_type": "markdown",
   "metadata": {
    "slideshow": {
     "slide_type": "slide"
    }
   },
   "source": [
    "Soon they were discover so many particles and anti-particles, all unstable, that physicists went mad!!\n",
    "\n",
    "| | \n",
    "| :--: | \n",
    "| <img src=\"./imgs/div_fisico_loco.jpg\" width=300 align=\"center\">|\n"
   ]
  },
  {
   "cell_type": "markdown",
   "metadata": {
    "slideshow": {
     "slide_type": "slide"
    }
   },
   "source": [
    "| |\n",
    "|:--|\n",
    "| <img src=\"./imgs/intro_lifetimes.png\" width = 400 align=\"center\">|\n",
    "| Vida media de algunas partículas dependiendo del tipo de desintegración [MT1.1]\n"
   ]
  },
  {
   "cell_type": "markdown",
   "metadata": {
    "slideshow": {
     "slide_type": "slide"
    }
   },
   "source": [
    "But in the 60's we got peace. The physicists put order in the quaos!\n",
    "\n",
    "Particle are of two types:\n",
    "\n",
    "* **hadrons**, like the neutron and proton, that are made of **quarks**. There are only 6 quarks.\n",
    "\n",
    "* **leptons**, like the electron and the neutrino, and the muon, the muon neutrino, and the tau and the tau neutrino!\n",
    " \n",
    "Only the quarks $(u, d)$ that makes the proton and  neutron and the (e, $\\nu$) are estable!\n",
    " "
   ]
  },
  {
   "cell_type": "markdown",
   "metadata": {
    "slideshow": {
     "slide_type": "slide"
    }
   },
   "source": [
    "\n",
    "Quarks have electric charge: u (2/3), and d (-1/3), and they always show in groups never alone! they form **hadrons**.\n",
    "\n",
    "| | \n",
    "|:--:|\n",
    "| <img src=\"./imgs/div_beta_decay.png\" width = 300 align=\"center\">| "
   ]
  },
  {
   "cell_type": "markdown",
   "metadata": {
    "slideshow": {
     "slide_type": "slide"
    }
   },
   "source": [
    "These are the elementary particles in Nature:\n",
    "\n",
    "| |\n",
    "|:--:|\n",
    "|<img src=\"./imgs/intro_SM_table.png\" width = 450 align=\"center\">|\n",
    "|Las partículas del modelo estandar|\n",
    "\n"
   ]
  },
  {
   "cell_type": "markdown",
   "metadata": {
    "slideshow": {
     "slide_type": "slide"
    }
   },
   "source": [
    "There are 3 families of quarks and leptons! \n",
    "\n",
    "There are only 3. The previous CERN accelerator, a electron+positrón collider, LEP, confirmed there were only 3! Why 3? No idea...\n",
    "\n",
    "| | \n",
    "| :--: |\n",
    "|  <img src=\"./imgs/sm_zresonance.png\" width = 350 align=\"center\"> |\n",
    "| $\\sigma(e+e^+ \\to \\mathrm{hadrons})$ vs $\\sqrt{s}$ de los experimentos de LEP [PDG]|"
   ]
  },
  {
   "cell_type": "markdown",
   "metadata": {
    "slideshow": {
     "slide_type": "slide"
    }
   },
   "source": [
    "But there were a problem. The data was in agreement with the theory. But...\n",
    "\n",
    "The theory required that particle has no mass. That mass is not a property or a particle. \n",
    "\n",
    "The mass appears as a particle interact with the Higgs field! It is a characteristic of an interaction. But before the LHC noone discovered the Higgs!!!\n",
    "\n",
    "| | \n",
    "| :--: |\n",
    "|  <img src=\"./imgs/div_snow.jpg\" width = 150 align=\"center\"> |\n"
   ]
  },
  {
   "cell_type": "markdown",
   "metadata": {
    "slideshow": {
     "slide_type": "slide"
    }
   },
   "source": [
    "The theory in a T-shirt!\n",
    "\n",
    "| | \n",
    "| :--: |\n",
    "|  <img src=\"./imgs/div_SM_theory.jpg\" width = 200 align=\"center\"> |"
   ]
  },
  {
   "cell_type": "markdown",
   "metadata": {
    "slideshow": {
     "slide_type": "slide"
    }
   },
   "source": [
    "But then finally the LHC found the Higgs particle. Remember $E = m c^2$\n",
    "\n",
    "| | \n",
    "| :--: |\n",
    "|  <img src=\"./imgs/sm_higgs_CMS_ATLAS.png\" width = 500 align=\"center\"> |\n",
    "| masa invariante para $H \\to \\gamma \\gamma$ (izda, [CMS]) y $H \\to Z+ Z^* \\to 4 l$ (derecha, [ATLAS])|"
   ]
  },
  {
   "cell_type": "markdown",
   "metadata": {
    "slideshow": {
     "slide_type": "slide"
    }
   },
   "source": [
    "But there are still many misteries:\n",
    "\n",
    "* Where the anti-matter?\n",
    "\n",
    "* Why are only 3 families?\n",
    "\n",
    "* Why the Higgs interacts differently with each particle?\n",
    "\n",
    "* The neutrino is the only particle that can be its anti-particle! Because it is neutral Is it?\n",
    "\n",
    "* But we know the Universe has also other matter, that we do not know about it, that we call *dark matter*"
   ]
  },
  {
   "cell_type": "markdown",
   "metadata": {
    "slideshow": {
     "slide_type": "slide"
    }
   },
   "source": [
    "Do you want to be a detective in Physics?\n",
    "\n",
    "| |\n",
    "|:--|\n",
    "| <img src=\"./imgs/div_pantera_rosa.jpg\" width = 300 align=\"center\">|\n",
    "\n"
   ]
  }
 ],
 "metadata": {
  "anaconda-cloud": {},
  "celltoolbar": "Slideshow",
  "kernelspec": {
   "display_name": "Python 3 (ipykernel)",
   "language": "python",
   "name": "python3"
  },
  "language_info": {
   "codemirror_mode": {
    "name": "ipython",
    "version": 3
   },
   "file_extension": ".py",
   "mimetype": "text/x-python",
   "name": "python",
   "nbconvert_exporter": "python",
   "pygments_lexer": "ipython3",
   "version": "3.9.13"
  }
 },
 "nbformat": 4,
 "nbformat_minor": 4
}
