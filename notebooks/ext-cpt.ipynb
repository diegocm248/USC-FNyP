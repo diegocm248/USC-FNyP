{
 "cells": [
  {
   "cell_type": "markdown",
   "metadata": {
    "slideshow": {
     "slide_type": "slide"
    }
   },
   "source": [
    "## Extensión: Transformaciones discretas: paridad, carga y carga-paridad.\n",
    "\n",
    "Diciembre 2024\n"
   ]
  },
  {
   "cell_type": "code",
   "execution_count": 1,
   "metadata": {
    "slideshow": {
     "slide_type": "fragment"
    }
   },
   "outputs": [
    {
     "name": "stdout",
     "output_type": "stream",
     "text": [
      " Last version  Tue Nov 19 18:33:25 2024\n"
     ]
    }
   ],
   "source": [
    "import time\n",
    "print(' Last version ', time.asctime() )"
   ]
  },
  {
   "cell_type": "code",
   "execution_count": 4,
   "metadata": {},
   "outputs": [],
   "source": [
    "# general imports\n",
    "%matplotlib inline\n",
    "%reload_ext autoreload\n",
    "%autoreload 2\n",
    "\n",
    "# numpy and matplotlib\n",
    "import numpy as np\n",
    "import matplotlib\n",
    "import matplotlib.pyplot as plt"
   ]
  },
  {
   "cell_type": "markdown",
   "metadata": {},
   "source": [
    "## Recordatorio de simetrías en mecánica cuántica\n",
    "\n",
    "La simetría en la antigua Grecia se relacionaba con lo armónico, bien proporcionado, bello.\n",
    "\n",
    "En Física las simetrías juegan un papel fundamental. \n",
    "\n",
    "Las simetrías implican la transformación del sistema lo deja indistinguible, por ejemplo, al rotar una esfera sin marcas no podemos saber si se rotó.\n",
    "\n",
    "Las simetrías matemáticamente implican la invariancia de las ecuaciones bajo transformaciones."
   ]
  },
  {
   "cell_type": "markdown",
   "metadata": {},
   "source": [
    "### Transformaciones en mecánica cuántica.\n",
    "\n",
    "En mecánica cuántica una transformación asociada un estado a otro del espacio de Hilbert, mediante un operador unitario, $U$.\n",
    "\n",
    "$$\n",
    "| \\psi \\rangle \\to  | \\psi' \\rangle = U \\; | \\psi \\rangle\n",
    "$$\n",
    "\n",
    "que cumple la condición $U^\\dagger U = U U^\\dagger = 1$.\n",
    "\n",
    "En mecánica cuántica la información se obtiene a partir del cuadrado del producto $|\\langle \\phi | \\psi \\rangle |^2$, lo que lleva (teorema de Wigner) a que las transformaciones posibles sean unitarias o anti-unitarias (unitaria y anti-lineal)\n",
    "\n",
    "$$\n",
    "|\\langle \\phi' | \\psi' \\rangle|^2 = |\\langle \\phi | U^\\dagger U | \\psi \\rangle|^2\n",
    "$$\n"
   ]
  },
  {
   "cell_type": "markdown",
   "metadata": {},
   "source": [
    "La actuación del operador unitario, $U$ y anti-unitario ${\\tilde U}$ afectan al producto escalar:\n",
    "\n",
    "$$\n",
    "\\langle \\phi | U^\\dagger U | \\psi \\rangle = \\langle \\phi | \\psi \\rangle \\\\\n",
    "\\langle \\phi | {\\tilde U}^\\dagger {\\tilde U} | \\psi \\rangle^ = \\langle \\phi | \\psi \\rangle^*\n",
    "$$\n",
    "\n",
    "Ambas dejan invariante $|\\langle \\phi | \\psi \\rangle |^2$.\n",
    "\n",
    "Una operación anti-unitaria, ${\\tilde U}$, toma el complejo conjugado:\n",
    "\n",
    "$$\n",
    "{\\tilde U} \\, \\alpha | \\psi \\rangle = \\alpha^* | \\psi \\rangle\n",
    "$$\n",
    "\n",
    "Los operadores anti-unitarios hay que tratarlos con cuidado. \n",
    "\n",
    "Las transformaciones continuas son unitarias. Las anti-unitarias solo aparecen en transformaciones discretas, la más relevante de ellas es la inversión temporal."
   ]
  },
  {
   "cell_type": "markdown",
   "metadata": {},
   "source": [
    "#### Transformación activa y pasiva\n",
    "\n",
    "Podemos entender las transformaciones como activas o pasivas. Las activas transforman el estado, mientras que las pasivas transforman el sistema de referencia.\n",
    "\n",
    "Cuando verificamos una simetría de forma activa, verificamos que el comportamiento del estado transformado es el mismo que el antiguo, mientras que de forma pasiva, verificamos que describimos el comportamiento del estado con las mismas ecuaciones en un sistema y otro."
   ]
  },
  {
   "cell_type": "markdown",
   "metadata": {},
   "source": [
    "#### Transformación de estados (Schrödinger) o de operadores (Heidelberg)\n",
    "\n",
    "En mecánica cuántica o bien podemos transformas los estados, $| \\psi \\rangle$ (que sería la vesión de Schrödinger) o los operadores, $O$, (visión de Heidelber)\n",
    "\n",
    "En la versión de Schrödinger:\n",
    "\n",
    "$$\n",
    "| \\psi \\rangle \\to \\ \\psi' \\rangle = U \\, | \\psi \\rangle, \\;\\;\\; O \\to O\n",
    "$$\n",
    "\n",
    "En la versión de Heidelberg:\n",
    "\n",
    "$$\n",
    "| \\psi \\rangle \\to \\ \\psi \\rangle, \\;\\;\\; O \\to O' = U^{-1} O U = U^\\dagger O U\n",
    "$$\n"
   ]
  },
  {
   "cell_type": "markdown",
   "metadata": {},
   "source": [
    "En ambos casos la expresión de la transformación de elemento de matriz es la misma\n",
    "\n",
    "En la visión de Schrödinger:\n",
    "$$\n",
    "\\langle \\phi | O | \\psi \\rangle \\to \\langle \\phi' | O | \\psi' \\rangle = \\langle \\phi | U^\\dagger O U | \\psi \\rangle \n",
    "$$\n",
    "\n",
    "En la de Heidelberg:\n",
    "\n",
    "$$\n",
    "\\langle \\phi | O | \\psi \\rangle \\to \\langle \\phi | O' | \\psi' \\rangle = \\langle \\phi | U^\\dagger O U | \\psi \\rangle \\\n",
    "$$\n"
   ]
  },
  {
   "cell_type": "markdown",
   "metadata": {},
   "source": [
    "Decimos que un sistema tiene una determinada simetría si la transformación asociada, $U$, deja invariante el valor esperado de un operador hermítico, $O$. Que se cumple si $U$ y $O$ conmutan, $[U, O] = 0$.\n",
    "\n",
    "$$\n",
    "\\langle \\psi | O | \\psi \\rangle \\to \\langle \\psi | U^\\dagger O U | \\psi \\rangle = \\langle \\psi | U^\\dagger U O | \\psi \\rangle = \\langle \\psi | O | \\psi \\rangle\n",
    "$$\n",
    "\n",
    "En el caso de que $U$ sea el hamiltoniando $H$, entonces los auto-estados de $O$ son estacionarios (no cambian con el tiempo). Y habitualmente expresamos los estados del hamiltoniano en la base de autoestados de $O$."
   ]
  },
  {
   "cell_type": "markdown",
   "metadata": {},
   "source": [
    "Para las transiciones entre estados, inicial $| i \\rangle$, a final, $| f \\rangle$, calculamos el elemento de matriz de la matriz de transición $S$, $\\langle f | S | i \\rangle$.\n",
    "\n",
    "Si $S$ conmuta con $U$, y los estados $|i\\rangle, | f \\rangle$ son autoestados de $U$ con autovalores $u_i, u_f$ respectivamente, entonces tenemos una ley de consrvación\n",
    "\n",
    "$$\n",
    "0 = \\langle f | [U, S] | i \\rangle = (u_f - u_i) \\langle f | S | i \\rangle\n",
    "$$\n",
    "\n",
    "Los autovalores $u_f, u_i$ deben ser iguales.\n"
   ]
  },
  {
   "cell_type": "markdown",
   "metadata": {},
   "source": [
    "### Teorema de Noether\n",
    "\n",
    "El teorema de Noether afirma que un sistema con una simetría continua (por ejemplo rotación) tiene una cantidad conservada asociada.\n",
    "\n",
    "Si la siemtría es continua, podemos expresarla a partir de transformaciones infinitesimales, esto es sea $\\alpha$ pequeña:\n",
    "\n",
    "$$\n",
    "U(\\alpha) = e^{i\\alpha G} \\simeq I + i \\alpha G\n",
    "$$\n",
    "\n",
    "Donde $G$ son los generadores del la transformación que definen un grupo y sus reglas de conmutación definen las reglas del grupo."
   ]
  },
  {
   "cell_type": "markdown",
   "metadata": {},
   "source": [
    "La unitariedad $U$ implica la hermicidad de $G$.\n",
    "\n",
    "$$\n",
    "U^\\dagger U = (I - i \\alpha G^\\dagger) (I + i \\alpha G) \\simeq I + i \\alpha (G - G^\\dagger) = I \n",
    "$$\n",
    "\n",
    "Luego $G^\\dagger = G$"
   ]
  },
  {
   "cell_type": "markdown",
   "metadata": {},
   "source": [
    "Si el hamiltoniano es invariante bajo $U$, esto es $[U, H]$, lo es bajo sus generadores.\n",
    "\n",
    "$$\n",
    "U^\\dagger H U = (I - i \\alpha G) H (I + i \\alpha G) \\simeq H - i \\alpha [G, H] = H\n",
    "$$\n",
    "\n",
    "luego\n",
    "\n",
    "$$\n",
    "[G, H] = 0\n",
    "$$\n",
    "\n",
    "Lo que implica que los autovalores de $G$ se conservan en el tiempo."
   ]
  },
  {
   "cell_type": "markdown",
   "metadata": {},
   "source": [
    "### Transformaciones discretas e inversiones\n",
    "\n",
    "\n",
    "Las transformaciones discretas no se conectan continuamente con la identidad.\n",
    "\n",
    "Las inversiones son aquellas transformaciones discretas que nos devuelven dos veces al sistema original, por ejemplo, la inversión por paridad o por carga. \n",
    "\n",
    "Las inversiones tienen asociadas un operador unitario $U_I$. El operador puede introducir una fase al operar sobre un autoestado, $U_I |\\psi \\rangle = \\eta_I | \\psi \\rangle$, que debe cumplir, $|\\eta_I|^2 = 1$. En general la fase es espúrea, no tiene implicaciones físicas, pero en determinados casos puede ser o tomarse por convención como $\\pm 1$. [CHECK]\n",
    "\n",
    "*cuestión:* A partir de los estados $| \\psi_1 \\rangle, \\, | \\psi_2 \\rangle$ que bajo una inversión $U_I$ se transforman como $| \\psi_1 \\rangle \\leftrightarrow | \\psi_2 \\rangle$, escribe los autoestados de $U_I$ y sus autovalores."
   ]
  },
  {
   "cell_type": "markdown",
   "metadata": {},
   "source": [
    "Decimos que una teoría es invariante bajo una inversión, si el operador $U_I$ de la inversión conmuta con el hamiltoniano."
   ]
  },
  {
   "cell_type": "markdown",
   "metadata": {},
   "source": [
    "## Inversión bajo paridad\n",
    "\n",
    "La inversión de paridad invierte la coordenadas especiales, ${\\bf x } \\to -{\\bf x}$. Es una transformación de Lorentz porque preserva el producto escalar de cuadrivectores, pero es una transformación que llamamos *impropia*.\n",
    "\n",
    "La matriz de la representación, $\\Lambda(P)$ debe invertir las coordenadas espaciales, esto es:\n",
    "\n",
    "$$\n",
    "x'^\\mu = \\Lambda^{\\mu}_{\\;\\;\\nu}(P) \\, x^\\nu\n",
    "$$\n",
    "\n",
    "luego:\n",
    "\n",
    "$$\n",
    "\\Lambda(P) = \\begin{pmatrix} 1 &  0 &  0 &  0 \\\\\n",
    "                            0 & -1 &  0 &  0 \\\\\n",
    "                            0 &  0 & -1 &  0 \\\\\n",
    "                            0 &  0 &  0 & -1 \\end{pmatrix}  \n",
    "$$\n",
    "\n",
    "Llamamos transformación impropia a aquellas cuyo \n",
    "\n",
    "$$\n",
    "\\det(\\Lambda) = -1\n",
    "$$\n",
    "\n",
    "como es el caso de la inversión por paridad."
   ]
  },
  {
   "cell_type": "markdown",
   "metadata": {},
   "source": [
    "### Espinores de Dirac\n",
    "\n",
    "\n",
    "La matriz que representa en el espacio de espinores la inversión por paridad, $S(P)$, \n",
    "\n",
    "$$\n",
    "\\Psi(x) \\to \\Psi(x^0, {\\bf x}) = S(P) \\, \\Psi(x^0, -{\\bf x})\n",
    "$$\n",
    "\n",
    "debe cumplir (por las condiciones de las matrices $S$, ver extensión [ext-trans-Lorentz]):\n",
    "\n",
    "$$\n",
    "S^{-1}\\gamma^0 S = \\gamma^0,  \\\\\n",
    "S^{-1}\\gamma^1 S = -\\gamma^1, \\\\\n",
    "S^{-1}\\gamma^2 S = -\\gamma^2, \\\\\n",
    "S^{-1}\\gamma^3 S = -\\gamma^3. \\\\\n",
    "$$\n",
    "\n",
    "Esto es, si multiplicamos por $S$ a ambos lados de la igualdad por la izquierda:\n",
    "\n",
    "$$\n",
    "\\gamma^0  S = S \\gamma^0, \\;\\; \\gamma^i S = - S \\gamma^{i}\n",
    "$$\n",
    "\n",
    "La matriz que cumple esta condición es:\n",
    "\n",
    "$$\n",
    "S(P) = \\gamma^{0}\n",
    "$$\n",
    "\n",
    "La matriz $S$ podría incluir una pase compleja, pero por convención se tomó como 1."
   ]
  },
  {
   "cell_type": "markdown",
   "metadata": {},
   "source": [
    "Si aplicamos paridad sobre los espinores nos encontramos:\n",
    "\n",
    "$$\n",
    "u_s(E, {\\bf p}) \\to S(P) \\, u_s(E, -{\\bf p}) = + \\, u_s(E, {\\bf p}), \\\\\n",
    "v_s(E, {\\bf p}) \\to S(P) \\, v_s(E, -{\\bf p}) = - \\, v_s(E, {\\bf p}), \\;\\;\n",
    "$$\n",
    "\n",
    "Los espinores en reposo son autoestados de paridad, los de los fermiones, $u_s(m, {\\bf 0})$, tienen paridad positiva, mientras que los de los antifermiones $v_s(m, {\\bf 0})$, negativa."
   ]
  },
  {
   "cell_type": "markdown",
   "metadata": {},
   "source": [
    "### Formas bilineales\n",
    "\n",
    "Vamos a verificar que la paridad afecta de la siguiente forma a las formas bilineales principales:\n",
    "\n",
    "|  |  |\n",
    "| :--: | :--: | \n",
    "| $\\bar{\\Psi} \\Psi$| escalar |\n",
    "| $\\bar{\\Psi} \\gamma^5 \\Psi$|pseudo-escalar |\n",
    "| $\\bar{\\Psi} \\gamma^\\mu \\Psi$| vectorial |\n",
    "| $\\bar{\\Psi} \\gamma^\\mu \\gamma^5 \\Psi$| vector axial |\n",
    "\n",
    "A partir del hecho que:\n",
    "$$\n",
    "S^{-1} \\gamma^5 S = \\gamma^5, \\;\\; \\gamma^5 S = S \\gamma^5\n",
    "$$\n",
    "\n",
    "es sencillo comprobar que $\\bar{\\Psi}(x) \\gamma^5 \\Psi(x)$ y $\\bar{\\Psi}(x) \\gamma^\\mu \\gamma^5 \\Psi(x)$ se transforman frente a boosts y rotaciones como un escalar y un vector respectivamente.\n"
   ]
  },
  {
   "cell_type": "markdown",
   "metadata": {},
   "source": [
    "Vamos a ver como se comportan con respecto a la inversión por paridad.\n",
    "\n",
    "Recordemos que la representación espinorial de la inversión de paridad es simplemente, $S(P) = \\gamma^0$.\n",
    "\n",
    "Apliquemos inversión de paridad a $\\bar{\\Psi}(x) \\Psi(x)$:\n",
    "\n",
    "$$\n",
    "\\bar{\\Psi}(x) \\Psi(x) \\to (S \\Psi(y))^\\dagger \\gamma^0 (S \\Psi(x)) = \\\\\n",
    "\\Psi^\\dagger(y) (\\gamma^0)^\\dagger \\gamma^0 \\gamma^0 \\Psi(y) = \\Psi^\\dagger(y) \\gamma^0 \\Psi(y) = \\bar{\\Psi}(y) \\Psi(y)\n",
    "$$\n",
    "\n",
    "donde $y = \\Lambda^{-1}x$. \n",
    "\n",
    "Por lo tanto $\\bar{\\Psi}(x) \\Psi(x)$ es un escalar bajo paridad."
   ]
  },
  {
   "cell_type": "markdown",
   "metadata": {},
   "source": [
    "Apliquemos inversión de paridad ahora a $\\Psi(x) \\gamma^5 \\Psi(x)$:\n",
    "\n",
    "$$\n",
    "\\bar{\\Psi}(x) \\gamma^5 \\Psi(x) \\to (S \\Psi(y))^\\dagger \\gamma^0 \\gamma^5 (S \\Psi(y)) = \\\\\n",
    "\\Psi^\\dagger(y) (\\gamma^0)^\\dagger \\gamma^0 \\gamma^5 \\gamma^0 \\Psi(y) = \n",
    "\\Psi^\\dagger(y) \\gamma^5 \\gamma^0 \\Psi(y) = \\\\\n",
    "- \\Psi^\\dagger(y) \\gamma^0 \\gamma^5 \\Psi(y) = - \\bar{\\Psi}(y) \\gamma^5 \\Psi(y)\n",
    "$$\n",
    "\n",
    "donde $y = \\Lambda^{-1}x$. \n",
    "\n",
    "Por lo tanto $\\Psi(x) \\gamma^5 \\Psi(x)$ es un pseudo-escalar bajo paridad."
   ]
  },
  {
   "cell_type": "markdown",
   "metadata": {},
   "source": [
    "Aplicamos inversión de paridad a la corriente $\\bar{\\Psi}(x) \\gamma^\\mu \\Psi(x)$:\n",
    "\n",
    "$$\n",
    "\\bar{\\Psi}(x) \\gamma^\\mu \\Psi(x) \\to (S \\Psi(y))^\\dagger \\gamma^0 \\gamma^\\mu (S \\Psi(y)) = \\\\\n",
    "\\Psi^\\dagger(y) (\\gamma^0)^\\dagger \\gamma^0 \\gamma^\\mu \\gamma^0 \\Psi(y) = \n",
    "\\Psi^\\dagger(y) \\gamma^\\mu  \\gamma^0 \\Psi(y) \n",
    "$$\n",
    "\n",
    "donde $y= \\Lambda^{-1}x$.\n",
    "\n",
    "para $\\mu = 0$\n",
    "\n",
    "$$\n",
    "(\\Psi^\\dagger(y) \\gamma^0)  \\gamma^0 \\Psi(y)  = \\bar{\\Psi}(y) \\gamma^0 \\Psi(y)\n",
    "$$\n",
    "\n",
    "para los índices espaciales, $k = 1, 2, 3$.\n",
    "\n",
    "$$\n",
    "\\Psi^\\dagger(y) \\gamma^k  \\gamma^0 \\Psi(y)  = - (\\Psi^\\dagger(y) \\gamma^0)  \\gamma^k \\Psi(y)  = - \\bar{\\Psi}(y) \\gamma^k \\Psi(y)\n",
    "$$"
   ]
  },
  {
   "cell_type": "markdown",
   "metadata": {},
   "source": [
    "\n",
    "Luego bajo paridad:\n",
    "\n",
    "$$\n",
    "\\bar{\\Psi}(x) \\gamma^\\mu \\Psi(x) = (\\bar{\\Psi}(x) \\gamma^0 \\Psi(x), \\bar{\\Psi}(x) \\gamma^k \\Psi(x)) \\to \\\\\n",
    "\\bar{\\Psi}'(x) \\gamma^\\mu \\Psi'(x) = (\\bar{\\Psi}(y) \\gamma^0 \\Psi(y), -\\bar{\\Psi}(y) \\gamma^k \\Psi(y))\n",
    "$$\n",
    "\n",
    "La componente temporal no cambia de signo, pero si las espaciales, que es justamente la operación de paridad sobre un cuadri-vector.\n",
    "\n",
    "Luego $\\Psi(x) \\gamma^\\mu\\Psi(x)$ es un vector bajo paridad."
   ]
  },
  {
   "cell_type": "markdown",
   "metadata": {},
   "source": [
    "Aplicamos ahora inversión de paridad a $\\bar{\\Psi}(x) \\gamma^\\mu \\gamma^5 \\Psi(x)$:\n",
    "\n",
    "$$\n",
    "\\bar{\\Psi}(x) \\gamma^\\mu \\gamma^5 \\Psi(x) \\to (S \\Psi(y))^\\dagger \\gamma^0 \\gamma^\\mu \\gamma^5 (S \\Psi(y)) = \\\\ \\Psi^\\dagger(y) (\\gamma^0)^\\dagger \\gamma^0 \\gamma^\\mu \\gamma^5 \\gamma^0 \\Psi(y) = \n",
    "\\Psi^\\dagger(y) \\gamma^\\mu \\gamma^5 \\gamma^0 \\Psi(y) = - \\Psi^\\dagger(y) \\gamma^\\mu \\gamma^0 \\gamma^5 \\Psi(y)\n",
    "$$\n",
    "\n",
    "Reencontramos la misma situación que antes, al intercambair $\\gamma^\\mu\\gamma^0 \\to \\gamma^0 \\gamma^\\mu$, la parte temporal no introduce cambio de signo $\\mu = 0$, pero si la espacial, $k = 1, 2, 3$. \n",
    "\n",
    "Así pues:\n",
    "\n",
    "$$\n",
    "\\bar{\\Psi}(x) \\gamma^\\mu \\gamma^5 \\Psi(x) = (\\bar{\\Psi}(x) \\gamma^0 \\gamma^5 \\Psi(x), \\bar{\\Psi}(x) \\gamma^k \\gamma^5 \\Psi(x)) \\to \\\\\n",
    "\\bar{\\Psi}'(x) \\gamma^\\mu \\gamma^5 \\Psi'(x) = (-\\bar{\\Psi}(y) \\gamma^0 \\gamma^5\\Psi(y), \\bar{\\Psi}(y) \\gamma^k \\gamma^5 \\Psi(y)) \\\\\n",
    "$$\n",
    "\n",
    "Cambia de signo la parte temporal pero no la espcial.\n",
    "\n",
    "Luego $\\Psi(x) \\gamma^\\mu \\gamma^5 \\Psi(x)$ se comporta como un vector axial bajo paridad.\n",
    "\n"
   ]
  },
  {
   "cell_type": "markdown",
   "metadata": {},
   "source": [
    "## Inversión de carga\n",
    "\n",
    "\n",
    "### Espinores de Dirac\n",
    "\n",
    "La operación de inversión de carga debe cambiar las soluciones de Dirac de fermiones a anti-fermiones, $\\Psi(x) \\to \\Phi(x)$ (con la excepción de una posible fase).\n",
    "\n",
    "Para cambiar la parte espacio-temporal, la operación debe incluir el complejo conjugado.\n",
    "\n",
    "La operación de carga debe tener la expresión:\n",
    "\n",
    "$$\n",
    "\\Psi(x) \\to S(C) \\, \\Psi^*(x)\n",
    "$$\n",
    "\n",
    "Donde $S(C)$ es la matriz que representa la inversión de carga en el espacio espinorial."
   ]
  },
  {
   "cell_type": "markdown",
   "metadata": {},
   "source": [
    "\n",
    "Si exigimos que la ecuación de Dirac sea válida para $S \\, \\Psi^*(x)$:\n",
    "\n",
    "$$\n",
    "(i \\gamma^{\\mu} S \\partial_\\mu - m) \\,S \\, \\Psi^*(x) = 0\n",
    "$$\n",
    "\n",
    "Si multiplicamos por la izquierda por $S^{-1}$ obtenemos:\n",
    "\n",
    "$$\n",
    "(i S^{-1} \\gamma^{\\mu} S \\partial_\\mu - m)\\, \\Psi^*(x) = 0\n",
    "$$\n",
    "\n",
    "Por otro lado, si tomamos el complejo conjugado de la ecuación de Dirac inicial:\n",
    "\n",
    "$$\n",
    "(-i (\\gamma^\\mu)^* \\partial_\\mu - m) \\, \\Psi^*(x) = 0\n",
    "$$\n",
    "\n",
    "Para que ambas sean iguales debe cumplirse que:\n",
    "\n",
    "$$\n",
    "S^{-1} \\gamma^\\mu S = - (\\gamma^\\mu)^*\n",
    "$$"
   ]
  },
  {
   "cell_type": "markdown",
   "metadata": {},
   "source": [
    "En la representación de Pauli-Dirac, la única matriz $\\gamma^\\mu$ que cambia al aplicar el complejo conjugado es $(\\gamma^2)^* = - \\gamma^2$, asi pues, las condiciones anteriores se traducen en:\n",
    "\n",
    "$$\n",
    "S^{-1}\\gamma^0 S = - \\gamma^0, \\\\\n",
    "S^{-1}\\gamma^1 S = - \\gamma^1, \\\\\n",
    "S^{-1}\\gamma^2 S = \\gamma^2, \\\\\n",
    "S^{-1}\\gamma^3 S = - \\gamma^3.\n",
    "$$"
   ]
  },
  {
   "cell_type": "markdown",
   "metadata": {},
   "source": [
    "Y la matriz que las cumple es:\n",
    "\n",
    "$$\n",
    "S(C) = i \\gamma^2 \n",
    "$$\n",
    "\n",
    "Donde el factor $i$ es una convención, que permite que la matriz $S$ sea real.\n",
    "\n",
    "$$\n",
    "i \\gamma^2 = i \\begin{pmatrix} 0 &  0 &  0 &  -i \\\\\n",
    "                            0 & 0 &  i &  0 \\\\\n",
    "                            0 &  i & 0 &  0 \\\\\n",
    "                            -i &  0 &  0 & 0 \\end{pmatrix} = \n",
    "              \\begin{pmatrix} 0 &  0 &  0 &  1 \\\\\n",
    "                            0 & 0 &  -1 &  0 \\\\\n",
    "                            0 &  -1 & 0 &  0 \\\\\n",
    "                            1 &  0 &  0 & 0 \\end{pmatrix}\n",
    "$$"
   ]
  },
  {
   "cell_type": "markdown",
   "metadata": {},
   "source": [
    "*Ejercicio:* Verifica que la conjugación de carga cambia $\\Psi_i(x) \\to \\Phi_i(x)$. Usa los espinores autoestados de helicidad que se deplazan en la dirección $z$"
   ]
  },
  {
   "cell_type": "markdown",
   "metadata": {},
   "source": [
    "### Ecuación de Dirac \n",
    "\n",
    "Para incluir la interacción del fermión con carga $q$ con un campo electromagnético $A_\\mu$ modificamos de forma mínima la ecuación de Dirac:\n",
    "\n",
    "$$\n",
    "\\left[\\gamma^\\mu (i\\partial_\\mu - q A_\\mu) - m \\right] \\, \\Psi(x) = 0\n",
    "$$\n",
    "\n",
    "Vamos a transformar las soluciones de fermiones en las de antifermiones y ver cómo queda la interacción con el campo $A_\\mu$.\n"
   ]
  },
  {
   "cell_type": "markdown",
   "metadata": {},
   "source": [
    "Si tomamos el complejo conjugado y multiplicamos por $i\\gamma^2$ por la izquierda:\n",
    "\n",
    "$$\n",
    "i\\gamma^2 \\left[-i (\\gamma^\\mu)^* \\partial_\\mu - q (\\gamma^\\mu)^* A_\\mu - m \\right] \\, \\Psi^*(x) = 0\n",
    "$$\n",
    "\n",
    "Aplicando las reglas de conmutación de las matrices $\\gamma^2 \\gamma^\\mu$ y el hecho de que bajo el conjugado solo cambia $(\\gamma^2)^* = - \\gamma^2$, obtenemos:\n",
    "\n",
    "$$\n",
    "\\left[i \\gamma^\\mu \\partial_\\mu + q \\gamma^\\mu A_\\mu -m \\right] \\, i \\gamma^2 \\Psi^*(x) = 0 \\\\\n",
    "\\left[\\gamma^\\mu (i\\partial_\\mu + q A_\\mu) - m \\right] \\, i \\gamma^2 \\Psi^*(x) = 0\n",
    "$$\n",
    "\n",
    "Luego al intercambiar las gammas en $\\gamma^2(\\gamma^\\mu)^*$, el factor que se acopla con $A_\\mu$, se produce un cambio de signo.\n",
    "\n",
    "Esto es la solución $\\Phi(x) = i \\gamma^2 \\Psi^*(x)$ tiene carga opuesta: en la ecuación de Dirac ha cambiado $-q \\to q$.\n",
    "\n",
    "$$\n",
    "\\left[i\\gamma^\\mu(i\\partial_\\mu + q A_\\mu) -m \\right] \\Phi(x) = 0\n",
    "$$\n",
    "\n"
   ]
  },
  {
   "cell_type": "markdown",
   "metadata": {},
   "source": [
    "## Inversión conjunta de carga y paridad"
   ]
  }
 ],
 "metadata": {
  "anaconda-cloud": {},
  "celltoolbar": "Slideshow",
  "kernelspec": {
   "display_name": "Python 3",
   "language": "python",
   "name": "python3"
  },
  "language_info": {
   "codemirror_mode": {
    "name": "ipython",
    "version": 3
   },
   "file_extension": ".py",
   "mimetype": "text/x-python",
   "name": "python",
   "nbconvert_exporter": "python",
   "pygments_lexer": "ipython3",
   "version": "3.9.13"
  }
 },
 "nbformat": 4,
 "nbformat_minor": 4
}
