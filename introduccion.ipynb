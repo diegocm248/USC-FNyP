{
 "cells": [
  {
   "cell_type": "markdown",
   "metadata": {
    "slideshow": {
     "slide_type": "slide"
    }
   },
   "source": [
    "# Introducción a Física de Partículas\n",
    "\n",
    "\n",
    "## Introducción\n",
    "\n",
    "\n",
    "Jose A. Hernando\n",
    "\n",
    "*Departamento de Física de Partículas. Universidade de Santiago de Compostela*\n",
    "\n",
    "Septiembre 2021\n"
   ]
  },
  {
   "cell_type": "code",
   "execution_count": 3,
   "metadata": {
    "slideshow": {
     "slide_type": "fragment"
    }
   },
   "outputs": [
    {
     "name": "stdout",
     "output_type": "stream",
     "text": [
      " Last version  Wed Nov 10 17:19:51 2021\n"
     ]
    }
   ],
   "source": [
    "import time\n",
    "print(' Last version ', time.asctime() )"
   ]
  },
  {
   "cell_type": "code",
   "execution_count": 3,
   "metadata": {
    "slideshow": {
     "slide_type": "subslide"
    }
   },
   "outputs": [],
   "source": [
    "# general imports\n",
    "%matplotlib inline\n",
    "%reload_ext autoreload\n",
    "%autoreload 2\n",
    "\n",
    "# numpy and matplotlib\n",
    "import numpy as np\n",
    "import matplotlib\n",
    "import matplotlib.pyplot as plt\n",
    "\n",
    "import scipy.constants as units"
   ]
  },
  {
   "cell_type": "markdown",
   "metadata": {
    "slideshow": {
     "slide_type": "slide"
    }
   },
   "source": [
    "## Objetivo\n",
    "\n",
    "  * Introducir los conceptos y características de la Física de Partículas.\n",
    "  \n",
    "  * Dar una introducción general del Modelo Estándar.\n",
    "  \n",
    "  * La importancia de los observables: secciones eficaces y anchuras de desintegración.\n",
    "  \n",
    "  * Las reglas de cálculo: los diagramas de Feynman.\n",
    "  "
   ]
  },
  {
   "cell_type": "markdown",
   "metadata": {
    "slideshow": {
     "slide_type": "slide"
    }
   },
   "source": [
    "## Sobre Física de Partículas\n",
    "\n",
    "### ¿Qué es la Física de Partículas?\n",
    "\n",
    "\n",
    "  Física de Partículas es la rama de la Física que estudia los **corpúsculos** más pequeños (elementales?) de la Naturaleza y las **interacciones** que median entre ellos.\n",
    "\n",
    "| |\n",
    "|:--:|\n",
    "| <img src=\"./imgs/intro_distances_scale.jpg\" width = 600 align=\"center\">|\n",
    "\n",
    "\n",
    "Las escalas de **distancia** (m) y **energía** (eV):\n",
    "  \n",
    "  || Atómica | Nuclear | Partículas|\n",
    "  | -- | --       | --     | --        |\n",
    "  distancia (m)|  $10^{-10}$ | $10^{-14}$ | $10^{-18}$ |\n",
    "  Energía (eV) |  $1$ | $10^{6}$ | $10^{9-11}$ |\n",
    "  \n",
    "Si queremos explorar distancias muy cortas necesitamos, por la relación de Broglie, $\\lambda = h /p$, energías más altas."
   ]
  },
  {
   "cell_type": "markdown",
   "metadata": {
    "slideshow": {
     "slide_type": "slide"
    }
   },
   "source": [
    "### Metodología\n",
    "\n",
    "Estudiamos la naturaleza mediante pruebas con dispersión (*scattering*) o colisiones.\n",
    "\n",
    "| | | \n",
    "|:--:| :--: |\n",
    "| <img src=\"./imgs/intro_dispersion.png\" width = 300 align=\"center\">| <img src=\"./imgs/intro_colision.png\" width = 300 align=\"center\">|\n",
    "| Esquema de dispersión | Esquema de  colisión |\n",
    "    \n",
    "Literalmente lanzamos unas partículas ($e, p$) contra otras a muy altas energías (TeV) y observamos sus productos."
   ]
  },
  {
   "cell_type": "markdown",
   "metadata": {
    "slideshow": {
     "slide_type": "slide"
    }
   },
   "source": [
    "### Partículas y Energía\n",
    "\n",
    "Se conoce a Física de Partículas como **Física de Altas Energías**.\n",
    "\n",
    "La Física de Partículas está asociada con el desarrollo de aceleradores de partículas y detectores.\n",
    "\n",
    "   * El acelerador más potente es el LHC [video](https://www.youtube.com/watch?v=pQhbhpU9Wrg)\n",
    "   \n",
    "   * Existen aceleradores cósmicos naturales que producen rayos cósmicos que alcanzan la Tierra. Ver el detector IceCube [video](https://www.youtube.com/watch?v=D50LNnioXQc)"
   ]
  },
  {
   "cell_type": "markdown",
   "metadata": {
    "slideshow": {
     "slide_type": "slide"
    }
   },
   "source": [
    "### Partículas y Cosmología\n",
    "\n",
    "| |\n",
    "| :--: |\n",
    "| <img src=\"./imgs/intro_universe_history_2.jpg\" width = 500 align=\"center\"> |\n",
    "| Esquema de la evolución del Universo [PDG]|\n"
   ]
  },
  {
   "cell_type": "markdown",
   "metadata": {
    "slideshow": {
     "slide_type": "slide"
    }
   },
   "source": [
    "La Física de Partículas nos permite entender la evolución primigenia del Universo (Cosmología).\n",
    "\n",
    "A partir de los $10^{-32}$ s después del Big Bang el Universo se rigue por el Modelo Estándar, (SM) y depués de 100 s tiene lugar la Nucleosíntesis (Nuclear).\n",
    "\n",
    "Existe una relación de continuidad entre ramas de la física:\n",
    "\n",
    "<center>\n",
    "Astropartículas $\\Leftrightarrow$ Partículas $\\Leftrightarrow$ Nuclear\n",
    "</center>\n",
    " \n",
    "El *Instituto Galego de Fíxica de Altas Enerxías*, [IGFAE](https://igfae.usc.es/igfae/gl/), cubre las tres ramas y sus posibles aplicaciones."
   ]
  },
  {
   "cell_type": "markdown",
   "metadata": {
    "slideshow": {
     "slide_type": "slide"
    }
   },
   "source": [
    "### Teoría, experimentos, detectores\n",
    "\n",
    "La Física de Partículas es una rama que involucra a la física teórica, experimental y la de detectores.\n",
    "\n",
    "   * Los avances en detección hicieron posible nuevos discubrimientos (i.e detectores de silicio para el LHC)\n",
    "\n",
    "   * Los descubrimientos marcan las líneas permitidas de las teorías (i.e. violación de Paridad)\n",
    "\n",
    "   * La teoría indica experimentos de interés (i.e. descubrimiento de las corrientes neutras, el bosón de Higgs)\n",
    "   \n",
    "   \n",
    " <center>\n",
    "   Detectores $\\Leftrightarrow$ Experimentos $\\Leftrightarrow$ Teorías\n",
    " </center>\n",
    " \n",
    " y se relaciona con otras áreas:\n",
    " \n",
    " <center>\n",
    "    Ingeniería | Química | Computación\n",
    " </center>"
   ]
  },
  {
   "cell_type": "markdown",
   "metadata": {
    "slideshow": {
     "slide_type": "slide"
    }
   },
   "source": [
    "### La gran ciencia\n",
    "\n",
    "Algunos de los experimentos y de los acelerados son grandes construcciones únicas, que requieren de la participación de centenares o miles de científicos y una gran financiación.\n",
    "\n",
    "Las estructuras de los experimentos son complejos, su planificación, construcción y explotación duran décadas.\n",
    "\n",
    "| |\n",
    "| :--: |\n",
    "| <img src=\"./imgs/intro_atlas.jpg\" width = 500 align=\"center\"> |\n",
    "| Imagen del detector ATLAS durante su construcción [ATLAS]|\n",
    "\n",
    "El experimento [ATLAS](https://atlas.cern/) del LHC es uno de los más grandes experimentos construidos. \n"
   ]
  },
  {
   "cell_type": "markdown",
   "metadata": {
    "slideshow": {
     "slide_type": "slide"
    }
   },
   "source": [
    "### Los grandes Laboratorios\n",
    "\n",
    "Los experimentos de Física de Partículas tienen lugar en grandes laboratorios internacionales.\n",
    "  \n",
    "Basados en aceleradores:\n",
    "  \n",
    "   * [CERN](https://home.cern) (Ginebra, Suiza).\n",
    "     \n",
    "   * [Fermilab](https://www.fnal.gov/) (cerca de Chicago, Illinois), [SLAC](https://www6.slac.stanford.edu/) (Stanford, California), [Brookhaven](https://www.bnl.gov/world/) (New York)\n",
    "     \n",
    "   * [KEK](https://www.kek.jp/en/) (Japón)\n",
    "     \n",
    "Subterráneos:\n",
    "  \n",
    "   * [LNGS](https://www.lngs.infn.it/en) (Italia), [Kamioka](http://www-sk.icrr.u-tokyo.ac.jp/index-e.html) (Japon), [SNOLAB](https://www.snolab.ca/) (Canada), [Canfranc](https://lsc-canfranc.es/) (Spain)."
   ]
  },
  {
   "cell_type": "markdown",
   "metadata": {
    "slideshow": {
     "slide_type": "slide"
    }
   },
   "source": [
    "#### Aplicaciones prácticas\n",
    "\n",
    "Las técnicas desarrolladas para los detectores y los algoritmos para el tratamiento del gran volumen de tratamiento de datos han generados aplicaciones fundamentales en otros campos:\n",
    "\n",
    "   * Física Médica (rayos-X, PEP, terapia hadrónica)\n",
    "   \n",
    "   * World Wide Wed ([WWW](https://home.cern/science/computing/birth-web/short-history-web)) "
   ]
  },
  {
   "cell_type": "markdown",
   "metadata": {
    "slideshow": {
     "slide_type": "slide"
    }
   },
   "source": [
    "### Historia\n",
    "\n",
    "Una vista a vuelo de pájaro de la historia de la Física de Partículas:\n",
    "\n",
    "| |\n",
    "| :--: | \n",
    "| <img src=\"./imgs/intro_particles_history.jpg\" width = 600 align=\"center\">|\n",
    "| Hitos de la Historia de Física de Partículas|"
   ]
  },
  {
   "cell_type": "markdown",
   "metadata": {
    "slideshow": {
     "slide_type": "slide"
    }
   },
   "source": [
    "Los grandes desarrollos de detetectores y aceleradores se traducen en descubrimientos científicos.\n",
    "\n",
    "  * Las emulsiones fotográficas permitieron la observación de partículas, $\\mu, \\pi$\n",
    "\n",
    "  * Las centelleadores y los reactores nucleares el descubrimiento del neutrino $\\nu_e$. \n",
    "    \n",
    "  * Los detectores de silicio la determinación de partículas con vida corta $\\tau, B$"
   ]
  },
  {
   "cell_type": "markdown",
   "metadata": {
    "slideshow": {
     "slide_type": "slide"
    }
   },
   "source": [
    "Los experimentos revelan una Naturaleza inesperada:\n",
    "\n",
    "  * La violación de Paridad y CP en corrientes débiles.\n",
    "  \n",
    "  * Tres familias de leptones y de quarks.\n",
    "  \n",
    "  * La matrix de mezcla, CKM, que rigue los corrientes cargadas entre los quarks.\n",
    "  \n",
    "  * Oscilaciones de neutrinos."
   ]
  },
  {
   "cell_type": "markdown",
   "metadata": {
    "slideshow": {
     "slide_type": "slide"
    }
   },
   "source": [
    "La construcción de la teoría guía a los descubrimientos:\n",
    "\n",
    "  * Pauli postula la existencia del neutrino.\n",
    "\n",
    "  * Gellman propone el modelo de quarks y la ordenación de 'zoo' de hadrones.\n",
    "    \n",
    "  * La unificación electro-débil predice las corrientes neutras de neutrinos.\n",
    "  \n",
    "  * La rotura espontánea de simetría postula la existencia del bosón de Higgs."
   ]
  },
  {
   "cell_type": "markdown",
   "metadata": {
    "slideshow": {
     "slide_type": "slide"
    }
   },
   "source": [
    "Los avacen experimentales más relevantes:\n",
    "    \n",
    "  * El descubrimento del positron (antimateria)\n",
    "  \n",
    "  * El descubrimiento de partículas inesperadas: $\\mu, ...$\n",
    "  \n",
    "  * El descubrimiento del neutrino y sus propiedades.\n",
    "  \n",
    "  * La violación de Paridad y de CP en corrientes débiles\n",
    "  \n",
    "  * La existencia de los quarks y los gluones\n",
    "  \n",
    "  * La existencia de las corrientes neutras y la verificación del SM\n",
    "  \n",
    "  * La verificación de la matrix de mezclas CKM\n",
    "  \n",
    "  * El descubrimiento de oscilaciones de neutrinos\n",
    "  \n",
    "  * La descubrimiento del bosón de Higgs"
   ]
  },
  {
   "cell_type": "markdown",
   "metadata": {
    "slideshow": {
     "slide_type": "slide"
    }
   },
   "source": [
    "Los avences teóricos más importantes:\n",
    "\n",
    "  * La ecuación de Dirac y la existancia de la antimateria\n",
    "  \n",
    "  * El potencial de Yukawa\n",
    "  \n",
    "  * La teoría de Fermi de interacciones entre corrientes.\n",
    "  \n",
    "  * Los diagramas de Feynman (QED)\n",
    "  \n",
    "  * El modelo de quarks de Gellman and Zweig.\n",
    "  \n",
    "  * La unificación electro-débil, el modelo estandard (SM) de Glashow, Salam y Weinberg.\n",
    "  \n",
    "  * El mecanismo de Higgs y Englert."
   ]
  },
  {
   "cell_type": "markdown",
   "metadata": {
    "slideshow": {
     "slide_type": "slide"
    }
   },
   "source": [
    "## Introducción al modelo estandar\n",
    "\n",
    "EL modelo estandar (SM) de Física de Partículas clasifica las partículas elementales y establece sus interacciones a través de las fuerzas electromagnética, débil y fuerte.\n",
    "\n",
    "El *Particle Data Group* ([PDG](https://pdg.lbl.gov/)) recopila toda la información relevante sobre física de partículas. "
   ]
  },
  {
   "cell_type": "markdown",
   "metadata": {
    "slideshow": {
     "slide_type": "slide"
    }
   },
   "source": [
    "### El SM a simple vista\n",
    "\n",
    "\n",
    "| |\n",
    "|:--:|\n",
    "|<img src=\"./imgs/intro_SM_table.png\" width = 450 align=\"center\">|\n",
    "|Las partículas del modelo estandar|\n"
   ]
  },
  {
   "cell_type": "markdown",
   "metadata": {
    "slideshow": {
     "slide_type": "slide"
    }
   },
   "source": [
    "### Elementos:\n",
    "\n",
    "La materia está formada por los **fermiones**, que son partículas elementales de spín $1/2$.\n",
    "\n",
    "Los **bosones vectoriales**, con spín $1$, son los mediadores de las fuerzas fuerte, débil y electromagnética.\n",
    "\n",
    "El **bosón scalar de Higgs**, que tiene spín 0, dota de masas a los fermiones y a los bosones vectoriales de la fuerza débil.\n"
   ]
  },
  {
   "cell_type": "markdown",
   "metadata": {
    "slideshow": {
     "slide_type": "slide"
    }
   },
   "source": [
    "### Fermiones\n",
    "\n",
    "Los fermiones se dividen en:\n",
    "\n",
    "  * **quarks** : si interaccionan fuertemente\n",
    "  \n",
    "  * **leptons**: si no interaccionan fuertemente\n",
    "    \n",
    "| fuerte | electromagnética | débil | \n",
    "|---      |:--       | :--          |\n",
    "| quarks | quarks y leptones cargados  | quarks y leptones |\n",
    "\n"
   ]
  },
  {
   "cell_type": "markdown",
   "metadata": {
    "slideshow": {
     "slide_type": "slide"
    }
   },
   "source": [
    "#### anti-fermiones\n",
    "\n",
    "Los fermiones se riguen por la ecuación de Dirac. Son espinores de Dirac. (ver [Apéndice-Dirac])\n",
    "\n",
    "Por cada fermión existe un antifermión.\n",
    "\n",
    "Una **antipartícula** tiene las cargas y los números cuánticos opuestos a su partícula, a excepción del spín y la masa que no cambian.\n",
    "\n",
    "Si $f$ es un fermión, denotamos $\\bar{f}$ como su antifermión.\n",
    "\n",
    "Indicamos los antileptones con carga (+): $e^+, \\mu^+, \\tau^+$"
   ]
  },
  {
   "cell_type": "markdown",
   "metadata": {
    "slideshow": {
     "slide_type": "slide"
    }
   },
   "source": [
    "#### generaciones\n",
    "\n",
    "Los fermiones (tanto leptones como quarks) aparecen en **tres generaciones** o familias. \n",
    "\n",
    "$$\n",
    "\\begin{pmatrix} \\nu_e \\\\ e \\end{pmatrix}, \\begin{pmatrix} \\nu_\\mu \\\\ \\mu \\end{pmatrix}, \n",
    "\\begin{pmatrix} \\nu_\\tau \\\\ \\tau \\end{pmatrix}; \\;\\;\\;\n",
    "\\begin{pmatrix} u \\\\ d \\end{pmatrix}, \\begin{pmatrix} c \\\\ s \\end{pmatrix}, \n",
    "\\begin{pmatrix} t \\\\ b \\end{pmatrix} \\\\\n",
    "$$\n",
    "\n",
    "Decimos que las partículas se presentan en tres **sabores**. Por ejemplo neutrino se presenta en sabor electrónico, muónico y tauónico.\n",
    "\n",
    "Las tres generaciones de leptones se comportan con **universalidad** (de igual manera) frente a las interacciones si se tiene en cuenta que sus masas son diferentes. \n",
    "\n",
    "No hay una motivación de por qué hay tres generaciones.\n",
    "\n",
    "En cada generación, tanto leptones como quarks, se agrupan en **dupletes** con posiciones **arriba** y **abajo**."
   ]
  },
  {
   "cell_type": "markdown",
   "metadata": {
    "slideshow": {
     "slide_type": "slide"
    }
   },
   "source": [
    "La siguiente tabla muestra los fermiones agrupados por familias, su carga eléctrica y las fuerzas que sienten: \n",
    "\n",
    "|         | posición |             | generación        |              | Q (e)           | fuerte | electromagnética | débil | \n",
    "|---      |:--       | :--         |:--          | :--          | :--             | :--    |:--     |:--   |\n",
    "|         |          |      I       |    II      |       III            |           |  |  | | \n",
    "|quarks   | up       |  u  (2 MeV) | c (1.2 GeV) | t (170 GeV)  | $\\frac{2}{3}$   | sí | sí | sí |\n",
    "|         | down     |  d  (5 MeV)  | s (93 MeV)  | b (4.2 GeV)  |  $\\frac{-1}{3}$ | sí | sí|  sí |\n",
    "|         |\n",
    "| leptons | up       | $\\nu_e$ (< eV)| $\\nu_\\mu$ (< eV) | $\\nu_\\tau$ (<eV)   | 0  | no | no | sí |\n",
    "|         | down     | $e$   (511 keV)| $\\mu$  (106 MeV)| $\\tau$  (1.85 GeV) | -1 | no | sí | sí |\n",
    "\n",
    "\n",
    "La carga eléctrica depende de su posición en el duplete. El fermión de arriba tiene una carga $+1$ comparada con la del de abajo.\n"
   ]
  },
  {
   "cell_type": "markdown",
   "metadata": {
    "slideshow": {
     "slide_type": "slide"
    }
   },
   "source": [
    "La siguiente figura muestra de forma gráfica la disparidad de masas entre los fermiones:\n",
    "\n",
    "\n",
    "| |\n",
    "|:--:|\n",
    "|<img src=\"./imgs/intro_masas.png\" width = 400 align=\"center\">|\n",
    "|Masas de los fermiones [MT1.1]|\n",
    "\n",
    "El electrón es 2000 veces más ligero que el protón. \n",
    "\n",
    "Del neutrino desconocemos su masa, pero ésta es al menos $5 \\times 10^5$ veces más pequeña que el electrón. \n",
    "\n",
    "Como veremos en el [Tema-SM] la masa de los fermiones aparece de su interacción con el bosón de Higgs.\n",
    "En el SM aparecen como parámetros libres del modelo."
   ]
  },
  {
   "cell_type": "markdown",
   "metadata": {
    "slideshow": {
     "slide_type": "slide"
    }
   },
   "source": [
    "### Leptones\n",
    "\n",
    "Las tres familias de leptones son:\n",
    "\n",
    "$$\n",
    "\\begin{pmatrix} \\nu_e \\\\ e \\end{pmatrix}, \\begin{pmatrix} \\nu_\\mu \\\\ \\mu \\end{pmatrix}, \n",
    "\\begin{pmatrix} \\nu_\\tau \\\\ \\tau \\end{pmatrix}\n",
    "$$\n",
    "\n",
    "Los leptones cargados $\\mu, \\tau$ son una copia con más masa del $e$.\n",
    "\n",
    "Las interacciones conservan el número leptónico, $L$, que es el número de leptones menos el de anti-leptones). \n"
   ]
  },
  {
   "cell_type": "markdown",
   "metadata": {
    "slideshow": {
     "slide_type": "slide"
    }
   },
   "source": [
    "\n",
    "Por ejemplo en la desintegración $\\beta$:\n",
    "\n",
    "$$\n",
    "n \\to p + e + \\bar{\\nu}_e\n",
    "$$\n",
    "\n",
    "El número leptónico antes y después de de la desintegración es $L = 0$. Dado que $e$ es un leptón, $L = +1$  y $\\bar{\\nu}_e$ un anti-lepton, $L=-1$.\n",
    "\n",
    "Notar que en la desintegración $\\beta$ **se conserva la carga eléctrica.**\n",
    "\n",
    "**El electrón**, que es la leptón cargado más ligero, **es estable**. "
   ]
  },
  {
   "cell_type": "markdown",
   "metadata": {
    "slideshow": {
     "slide_type": "slide"
    }
   },
   "source": [
    "Los leptones cargados se desintegran débilmente:\n",
    "\n",
    "Sus vidas medias son:\n",
    "\n",
    "| $e$  |  --------- $\\mu$ --------- | ------- $\\tau$ ----|\n",
    "| :--: | :--: | :--: | \n",
    "| estable | $2.6 \\, 10^{-6}$ s| $2.9 \\, 10^{-13}$ s|\n",
    "\n",
    "Los electrones interaccionan con los átomos de la materia, ionizando y radiando fotones por *Bremsstrahlung*. \n",
    "\n",
    "Los muones son partículas penetrantes, del orden de $\\mathcal{0}(10)$m (depende de su momento) porque su radiación de *Bremsstrahlung* está suprimida por $1/m^2_\\mu$ comparada con los electrones.\n",
    "\n",
    "Los tauones se desintegran al poco de ser producidos. Pueden llegar a recorrer $\\mathcal{0}$(cm).\n"
   ]
  },
  {
   "cell_type": "markdown",
   "metadata": {
    "slideshow": {
     "slide_type": "slide"
    }
   },
   "source": [
    "Existen tres neutrinos de sabor, $\\nu_e, \\nu_\\mu, \\nu_\\tau$ asociados a sus parejas leptónicas $e, \\mu, \\tau$ respectivamente.\n",
    "\n",
    "**El SM postula que no tienen masa**, pero gracias a los experimentos de oscilaciones de neutrinos sabemos que tienen masa.\n",
    "\n",
    "Su masa se desconoce pero es muy pequeña $\\lt 1$ eV comparada con la del $e$.\n",
    "\n",
    "**Los neutrinos** no tiene carga eléctrica, **tienen una masa muy pequeña**, **son estables**, y **sólo interactuan débilmente**.  ¡Son muy *cool*!\n",
    "\n",
    "Son los leptones más peculiares del SM y que tengan masa es **la única prueba hasta el momento de que el SM no es correcto**.\n",
    "\n",
    "Las características de los leptones y las peculiaridades de la desintegración débil y de los neutrinos las estudiaremos en el [Tema-leptones]."
   ]
  },
  {
   "cell_type": "markdown",
   "metadata": {
    "slideshow": {
     "slide_type": "slide"
    }
   },
   "source": [
    "### Los quarks\n",
    "\n",
    "Las tres generaciones de quarks son:\n",
    "\n",
    "$$\n",
    "\\begin{pmatrix} u \\\\ d \\end{pmatrix}, \\begin{pmatrix} c \\\\ s \\end{pmatrix}, \n",
    "\\begin{pmatrix} t \\\\ b \\end{pmatrix} \\\\\n",
    "$$\n",
    "\n",
    "Los quarks $(c, s)$, encanto y extrañeza respectivamente, y $(t, b)$, top y bottom (o belleza), son copias con más masa del par $(u, d)$, arriba y abajo.\n",
    "\n",
    "Los quarks $u, d, s$ son ligeros, los quark $c, b$ son pesados. El top, $t$, es incluso más pesado que los bosones vectoriales $W^\\pm, Z$ y el Higgs, $H$.\n",
    "\n",
    "**Los quarks tienen carga fraccionaria** Los de arriba $+2/3$ y los de abajo $-1/3$ en unidades de $e$.\n",
    "\n",
    "**Los quarks no son libres**, sólo aparecen en partíclas compuestas, los **hadrones**. Este fenómeno se conoce como **confinamiento**.\n"
   ]
  },
  {
   "cell_type": "markdown",
   "metadata": {
    "slideshow": {
     "slide_type": "slide"
    }
   },
   "source": [
    "\n",
    "Los quarks aparecen con tres cargas fuertes o de **color**, que se denominan: **rojo, verde y azul**, $r, g, b$. Y por supuesto no tiene nada que ver con los colores habituales. \n",
    "\n",
    "Un mismo quark existe en tres colores, por ejemplo el quark belleza, $b$, puede ser rojo, verde o azul. Hay por lo tanto 18 quarks diferentes.\n",
    "\n",
    "Los únicos hadrones que existen son **neutros al color**, digamos que son *descoloridos* o *blancos*, de forma similar al hecho de que los átomos sean eléctricamente neutros.\n",
    "\n",
    "Estudiaremos los quarks, los hadrones y el color en el [Tema-quarks]."
   ]
  },
  {
   "cell_type": "markdown",
   "metadata": {
    "slideshow": {
     "slide_type": "slide"
    }
   },
   "source": [
    "Los **hadrones** se clasifican en.\n",
    "\n",
    "  * **bariones**, formados por tres quarks.\n",
    "  \n",
    "  * **mesones**, formados por un par quark y antiquark.\n",
    "\n",
    "| |\n",
    "| :--| \n",
    "| <img src=\"./imgs/intro_hadrons.png\" width = 300 align=\"center\"> |\n",
    "| Imagen esquemática de un mesón y un barión|\n",
    "\n",
    "que como veremos ([Tema-quarks]) son las únicas combinaciones de singletes de color y por lo tanto los únicos hadrones blancos.\n",
    "\n",
    "Notar que la carga eléctrica de los hadrones es entera."
   ]
  },
  {
   "cell_type": "markdown",
   "metadata": {
    "slideshow": {
     "slide_type": "slide"
    }
   },
   "source": [
    "El protón y el neutrón son bariones.\n",
    "\n",
    "El protón está formado por el trío de quarks ($uud$), cuya carga es $+e$,  y el neutrón por ($udd$), cuya carga es nula.\n",
    "\n",
    "En las interacciones se converva **el número bariónico**, $B$, (el número de bariones menos el de antibariones).\n",
    "\n",
    "Por ejemplo, de nuevo, en la desintegración $\\beta$:\n",
    "\n",
    "$$\n",
    "n \\to p + e + \\bar{\\nu}_e.\n",
    "$$\n",
    "\n",
    "A ambos lados de la interacción el número bariónico es 1. El $p$ y el $n$ tienen los dos $B = 1$\n",
    "\n",
    "**El protón**, que es el barión más ligero, **es estable**.\n"
   ]
  },
  {
   "cell_type": "markdown",
   "metadata": {
    "slideshow": {
     "slide_type": "slide"
    }
   },
   "source": [
    "Remarquemos que la desintegración $\\beta$ \n",
    "    \n",
    "$$\n",
    "n \\to p + e + \\bar{\\nu}_e.\n",
    "$$\n",
    "\n",
    "y el resto de **interacciones conservan**:\n",
    "\n",
    "    \n",
    "  * la **carga eléctrica**, $Q$,\n",
    "  \n",
    "  * el **número leptónico**, $L$,\n",
    "  \n",
    "  * el **número bariónico**, $B$."
   ]
  },
  {
   "cell_type": "markdown",
   "metadata": {
    "slideshow": {
     "slide_type": "slide"
    }
   },
   "source": [
    "\n",
    "A excepción del protón, el resto de hadrones, así como los leptones cargados $\\mu, \\tau$, se desintegran:\n",
    "\n",
    "La vida media de la desintegración depende:\n",
    "\n",
    "  * del tipo de desintegración permitida, ya sea ésta fuerte, electromagnética (via un fotón) o débil (vía bosones $W^\\pm$).\n",
    "  \n",
    "  * del espacio fásico permitido. A mayor diferencia de masas entre la partícula madre y las hijas más espacio fásico.\n",
    "  "
   ]
  },
  {
   "cell_type": "markdown",
   "metadata": {
    "slideshow": {
     "slide_type": "slide"
    }
   },
   "source": [
    "\n",
    "La figura muestra la vida media de varias partículas y su tipo de desintegración. \n",
    "\n",
    "| |\n",
    "|:--|\n",
    "| <img src=\"./imgs/intro_lifetimes.png\" width = 500 align=\"center\">|\n",
    "| Vida media de algunas partículas dependiendo del tipo de desintegración [MT1.1]\n",
    "\n",
    "La partículas que se desintegran débilmente son aquellas con una vida media \"mayor\"."
   ]
  },
  {
   "cell_type": "markdown",
   "metadata": {
    "slideshow": {
     "slide_type": "slide"
    }
   },
   "source": [
    "### Los mediadores de las fuerzas\n",
    "\n",
    "Recordemos que la fuerzas son responsables entre otros fenómenos de:\n",
    "    \n",
    "   * la **electromagnética**, de la estabilidad y complejidad de los átomos\n",
    "   \n",
    "   * la **débil**, de las desintegraciones $\\beta$ nucleares.\n",
    "        \n",
    "   * la **fuerte**, de la estabilidad y complejidad de los núcleos (protones y neutrones) y de los hadrones.\n",
    "        "
   ]
  },
  {
   "cell_type": "markdown",
   "metadata": {
    "slideshow": {
     "slide_type": "slide"
    }
   },
   "source": [
    "#### Propiedades de los portadores\n",
    "\n",
    "La interacción se describe como el intercambio de un mediador o portador de la fuerza entre corrientes de fermiones.\n",
    "\n",
    "Cada portador interviene según la carga (por ejemplo eléctrica o color) de los fermiones a los que se acopla.\n",
    "\n",
    "Los portadores **son bosones vectoriales** (spín 1).\n",
    "\n",
    "En la tabla se muestra intensidad approximada de las distintas fuerzas: \n",
    "\n",
    "| fuerza            | intensidad | bosón            | Q (e) | mass (GeV) |\n",
    "| :--               | :--        | :--              | :--   | :--     | \n",
    "| fuerte            | 1          | $g$ (gluón)      | 0     | 0       | \n",
    "| electromagnetismo | $10^{-3}$  | $\\gamma$ (fotón) | 0     | 0       | \n",
    "| débil             | $10^{-8}$  | $W^{\\pm}$        | $\\pm1$  | 80.4 | \n",
    "|                   |           | $Z^0$              | 0  | 91.2 |\n",
    "| gravedad          | $10^{-37}$| "
   ]
  },
  {
   "cell_type": "markdown",
   "metadata": {
    "slideshow": {
     "slide_type": "slide"
    }
   },
   "source": [
    "La masa del bosón determina el rango (en distancia) de la interacción. El rango de la interacciones débiles es de $<10^{-18}$ m. \n",
    "\n",
    "El rango de $100$ GeV, aproximadamente la masa del bosón $Z$, se conoce como **escala electrodébil.**\n",
    "\n",
    "Los bosones $W^\\pm$ son cargados. Sus interacciones se conocen como **corrientes cargadas** (CC).\n",
    "\n",
    "Las interacciones del bosón $Z^0$ se denominan también **corrientes neutras** (NC). \n",
    "\n",
    "Existen 8 tipos de gluones, que cambian el color de los quarks, son electricamente neutros y de masa nula. Los gluones tienen carga de color e interaccionan entre sí, generadando \"lazos\" entre ellos y reduciendo la interacción fuerte al rango de fm.\n",
    "\n",
    "El rango de los fotones en infinito mientras que el de los bosones débiles y los gluones es puntual."
   ]
  },
  {
   "cell_type": "markdown",
   "metadata": {
    "slideshow": {
     "slide_type": "slide"
    }
   },
   "source": [
    "#### Propiedades de las fuerzas\n",
    "\n",
    "Adelantamos ahora algunas propiedades de las fuerzas que se discutirán en los temas siguientes:\n",
    "\n",
    "**Las interacciones electromagnética y fuerte conservan**:\n",
    "    \n",
    "   * **el sabor**,\n",
    "\n",
    "   * **la paridad**.\n",
    "   \n",
    "Recordemos que paridad es la inversión de ${\\bf x} \\to - {\\bf x}$, cambio de signo en las coordenadas espaciales; y la inversión de carga cambia todas las cargas de las partículas (a excepción del espín y la masa).\n",
    "\n",
    "La conservación del sabor implica que el número de partículas menos el antipartículas de un sabor, por ejemplo del quark belleza, se conserva antes y después de una interacción."
   ]
  },
  {
   "cell_type": "markdown",
   "metadata": {
    "slideshow": {
     "slide_type": "slide"
    }
   },
   "source": [
    "\n",
    "En los temas siguientes veremos también que:\n",
    "\n",
    "**las interacciones débiles violan**:\n",
    "    \n",
    "   * **paridad**, (las cargadas de forma máxima),\n",
    "   \n",
    "   * **carga y paridad**, CP, mínimamente y solo en corrientes cargadas en hadrones, (no sabemos si también se viola en leptones).\n",
    "    \n",
    "**las corrientes cargadas cambian el sabor, pero las neutras lo conservan**.\n",
    "   \n",
    "**La interacción fuerte conserva** además:\n",
    "\n",
    "   * las cargas de **color**.\n",
    "   \n",
    "*Las interacciones débiles son \"peculiares\", especialmente la cargada.*"
   ]
  },
  {
   "cell_type": "markdown",
   "metadata": {
    "slideshow": {
     "slide_type": "slide"
    }
   },
   "source": [
    "### El bosón de Higgs\n",
    "\n",
    "El bosón de Higgs es un **scalar**, su espín es $0$.\n",
    "\n",
    "Juega un papel crucial en el SM:\n",
    "\n",
    "   * **dota de masas a las partículas**.\n",
    "   \n",
    "   * dota de masas **a los bosones véctoriales débiles $W^\\pm, Z$**, **manteniendo las simetrías** de la teoría.\n",
    "   \n",
    "Estudiaremos las características del SM y del bosón de Higgs en el [Tema-SM]"
   ]
  },
  {
   "cell_type": "markdown",
   "metadata": {
    "slideshow": {
     "slide_type": "slide"
    }
   },
   "source": [
    "### El Universo está formado de materia\n",
    "\n",
    "No hay evidencia de partes del Universo formadas por antimateria.\n",
    "\n",
    "Los átomos están formados por electrones y núcleos, éstos a su vez por protones (que son un trío de quarks $uud$) y neutrones ($udd)$.\n",
    "\n",
    "El Universo está compuesto pues **por electrones, neutrinos y quarks $(u, d)$.**\n",
    "Decimos que el Universo es de \"baja\" energía.\n",
    "\n",
    "El Universo primigenio estaba a más energía, y existían leptones y quarks (hadrones) de las otras generaciones. \n",
    "\n",
    "Conforme el Universo se enfrió solo los elementos estables sobrevivieron.\n",
    "\n",
    "No sabemos por qué en el Universo solo sobrevivió la materia dado que inicialmente debió existir la misma cantidad de partículas que anti-partículas."
   ]
  },
  {
   "cell_type": "markdown",
   "metadata": {},
   "source": [
    "### Alguna preguntas sin respuesta:\n",
    "\n",
    "* ¿Son los quarks y leptones elementales?\n",
    "\n",
    "* ¿Por qué hay 3 generaciones?\n",
    "\n",
    "* ¿Hay un patrón de masas de los fermiones?\n",
    "\n",
    "* ¿Por qué hay tanta disparidad de masas entre el neutrino y el resto de fermiones?\n",
    "\n",
    "* ¿Por qué el Universo está formado por materia y no anti-materia?\n",
    "\n",
    "* ¿Por qué si el protón si es compuesto su carga eléctrica es exactamente igual y opuesta a la del electrón?"
   ]
  },
  {
   "cell_type": "markdown",
   "metadata": {},
   "source": [
    "## Experimentos y observables\n",
    "\n",
    "\n",
    "### Creacción de partículas\n",
    "\n",
    "Podemos crear partículas al hacer interaccionar las partículas existentes a mayor energía, \n",
    "\n",
    "por ejemplo mediante la interacción $\\beta$ inversa:\n",
    "\n",
    "$$\n",
    "\\bar{\\nu}_e + p \\to n + e^+\n",
    "$$\n",
    "\n",
    "Siempre que el $\\bar{\\nu}_e$ tenga la suficiente energía al colisionar con un protón.\n",
    "\n",
    "Observa que en la interacción $\\beta$ inversa se conserva la carga, Q, y los números leptónico, $L$ y bariónico, $B$."
   ]
  },
  {
   "cell_type": "markdown",
   "metadata": {
    "slideshow": {
     "slide_type": "slide"
    }
   },
   "source": [
    "#### Creación de pares.\n",
    "\n",
    "\n",
    "Para crear una partícula de masa $m$ se precisa una energía al menos $E = m$ (ver inciso abajo).\n",
    "\n",
    "En la Naturaleza un par fermión-antifermión puede aniquilarse (mediante el intercambio de bosones neutros, como veremos más adelante) y producir otro par fermión-antifermión:\n",
    "\n",
    "por ejemplo: \n",
    "\n",
    "$$\n",
    "e + e^+ \\to \\mu + \\mu^+.\n",
    "$$\n",
    "\n",
    "Un par de electrón y positrón se aniquilan y producen un par de muón y antimuón. \n",
    "\n",
    "La energía de los dos electrones necesaria para producir en el CM los dos muones debe ser $\\sqrt{s} \\ge 2 m_\\mu$.\n",
    "\n",
    "Notar que el anti-fermión de la aniquilación (o producción de pares) es siempre la antipartícula de fermión, en este caso $e^+$ es el anti-fermión de $e$, y el $\\mu^+$ es el anti-fermión de $\\mu$. \n",
    "\n",
    "Por lo tanto, siempre que creamos antimateria creamos su materia complementaria."
   ]
  },
  {
   "cell_type": "markdown",
   "metadata": {
    "slideshow": {
     "slide_type": "subslide"
    }
   },
   "source": [
    "**Inciso**: En Partículas trabajamos con **unidades naturales**, donde $\\hbar = c = 1$. La magnitud de referencia es GeV.\n",
    "\n",
    "De ahí que: $E = m c^2 = m$, ya que $c = 1$.\n",
    "\n",
    "Para convetir la unidades naturales al sistema internacional, SI, se utilizan los siguientes factores de conversión (ver [Apendice-Fundamentos]):\n",
    "\n",
    "| ---- $\\hbar$ ------| ---- $c$ ------ |  $\\hbar c$  ---- | ---- GeV -----\n",
    "| :--:     | :--:  | :--: | :--: |\n",
    "| $1.055$ $10^{-34}$ Js | $2.998$ $10^8$ m/s| 0.197 GeV fm | $1.602$  $10^{-20}$ J | \n",
    "\n",
    "\n",
    "Las magnitudes comunes en unidades naturales vienen dadas en potencias de GeV.\n",
    "\n",
    "| Energía | momento |  masa |  tiempo | distancia | área |\n",
    "| :--:    | :--:    | :---: |  :--:   | :--:      | :--: | \n",
    "|  GeV   | GeV     | GeV   |  GeV$^{-1}$ | GeV$^{-1}$ | GeV$^{-2}$ |\n",
    "\n",
    "Energía, momento y masa las daremos en GeV, sin embargo, habitualmente tiempo y distancia los damos en s y m."
   ]
  },
  {
   "cell_type": "markdown",
   "metadata": {
    "slideshow": {
     "slide_type": "subslide"
    }
   },
   "source": [
    "*Cuestión*: expresa el radio del protón $r = 4.1$ GeV$^{-1}$ en el S.I."
   ]
  },
  {
   "cell_type": "code",
   "execution_count": 4,
   "metadata": {
    "slideshow": {
     "slide_type": "fragment"
    }
   },
   "outputs": [
    {
     "name": "stdout",
     "output_type": "stream",
     "text": [
      " radio del protón  0.8077  fm\n"
     ]
    }
   ],
   "source": [
    "hbarc = 0.197  # GeV fm (femto = 10^-15) \n",
    "r_un  = 4.1    # 1/GeV\n",
    "r_si  = r_un * hbarc\n",
    "print(' radio del protón ', r_si, ' fm')"
   ]
  },
  {
   "cell_type": "markdown",
   "metadata": {
    "slideshow": {
     "slide_type": "slide"
    }
   },
   "source": [
    "#### Identificación de las partículas\n",
    "\n",
    " * Las partículas de \"vida larga\" $\\mu, e, \\gamma, K, \\pi$ pueden detectarse como **trayectorias o depositos de energía** en el detector. La identidad de las partículas puede determinarse por su **penetración, ionización, producción de luz** en los materiales y por sus **desintegraciones** (ver tema de detección).\n",
    "  \n",
    "  \n",
    " * La identificación de las partículas de **corta vida**, $\\mathcal{O}$(ps), puede realizarse de dos formas: \n",
    "  \n",
    "   * Si la partícula \"vuela\" del orden $\\mathcal{O}$(cm), podemos determinar su **vértices de desintegración** con detectores precisos de trazas.\n",
    "  \n",
    "   * Si la partícula tiene un tiempo de vida media extremadamente pequeño, se desintengra en su lugar de producción, podemos observarla como una **resonancia** en el espectro de producción o, si reconstruimos todas las partículas de la desintegración, mediante su **masa invariante** (ver abajo)"
   ]
  },
  {
   "cell_type": "markdown",
   "metadata": {
    "slideshow": {
     "slide_type": "slide"
    }
   },
   "source": [
    "### tipos de experimentos: colisionador o blanco fijo\n",
    "\n",
    "\n",
    "Existen dos tipos principales de experimentos en Física de Partículas:\n",
    "\n",
    "  * **colisionador**: haces de $e, e^+, p, \\bar{p}$ colisionan entre sí, por ejemplo [LEP](https://es.wikipedia.org/wiki/Large_Electron-Positron_collider) ($e +e^+$)\n",
    "\n",
    "  * **blanco fijo** (*fixed target*): haces de $e, p, \\mu, \\nu$ chocan contra un blanco (átomos, núcleos). Los experimentos de neutrinos son de blancos fijos, por ejemplo [Gargamelle](https://en.wikipedia.org/wiki/Gargamelle).\n",
    "\n",
    "\n",
    "Llamamos **evento** a las interacciones que se producen en un cruce o choque de partículas.\n",
    "\n",
    "El evento se caracteriza a partir de todas las partículas producidas. \n",
    "\n",
    "Habitualmente el evento tiene un **eje definido**, en el que las partículas colisionan. \n",
    "Notar que en ese caso la suma del momento transverso de las partículas producidas es zero.\n",
    " "
   ]
  },
  {
   "cell_type": "markdown",
   "metadata": {
    "slideshow": {
     "slide_type": "slide"
    }
   },
   "source": [
    "La figura muestra el caso de colisión y de interacción de una partícula contra un blanco fijo\n",
    "\n",
    "| |\n",
    "|:--|\n",
    "| <img src=\"./imgs/intro_collider_target.png\" width = 600 align=\"center\">|\n",
    "| colisión de dos partícuals $a + b$ (izda)|\n",
    "| interacción de la partícula $a$ contra el blanco $b$ (derecha) |\n",
    "\n",
    "La variable $s = (p_a + p_b)^2$, donde $p_a, p_b$ son los cuadrimomentos de las partículas $a, b$ respectivamente, es el cuadrado del cuadrimomento, $s = q^2$, que se puede transferir a las nuevas partículas."
   ]
  },
  {
   "cell_type": "markdown",
   "metadata": {
    "slideshow": {
     "slide_type": "slide"
    }
   },
   "source": [
    "Notar que $s$ es un invariante Lorentz y podemos entender $\\sqrt{s}$ como la \"masa\" o energía disponible para crear nuevas partículas.\n",
    "\n",
    "  * en una colisión en el CM, ${\\bf p}_b = - {\\bf p_b}$, entonces $s = (E_a+E_b)^2$. Si consideramos que $m_a (m_b) \\ll E_a (E_b)$, entonces $E_a = E_b = E$ y obtenemos que $s = (2E)^2$. \n",
    "  \n",
    "  * para una interacción en blanco fijo, $s = [(E_a, {\\bf p}_a) + (m_b, 0)]^2 = m^2_a + m^2_b + 2 m_b E_a$. Si las masas son despreciables respecto a su energía, $E_a \\gg m_a, m_b$, obtenemos $s = 2m_b E_a$\n",
    "\n",
    "En el caso de los colisionadores, $\\sqrt{s}$, crece con $E$ y en el caso del blanco fijo con $\\sqrt{E}$.\n"
   ]
  },
  {
   "cell_type": "markdown",
   "metadata": {
    "slideshow": {
     "slide_type": "slide"
    }
   },
   "source": [
    "\n",
    "Si consideramos un sistema de $n$ partículas, la cantidad: \n",
    "\n",
    "$$\n",
    "s = \\left(\\sum_{i = 1}^n p_i \\right)^2 = \\left( \\sum_i E_i, \\sum_i {\\bf p}_i \\right)^2 = \\left( \\sum_i E_i \\right)^2 - \\left( \\sum_i {\\bf p}_i \\right)^2,\n",
    "$$\n",
    "\n",
    "donde $p_i$ es el cuadrimomento de la partícula $i$ del sistema, con energía $E_i$ y momento ${\\bf p}_i$, es un invariante Lorentz y se corresponde a la masa al cuadrado del sistema (que se llama redundantemente **masa invariate** al cuadrado). \n",
    "\n",
    "*Nota*: podemos identificar una partícula a partir de los cuadrimomentos de su partículas hijas calculando su masa invariante."
   ]
  },
  {
   "cell_type": "markdown",
   "metadata": {
    "slideshow": {
     "slide_type": "slide"
    }
   },
   "source": [
    "Las figuras muestran un dibujo de CMS (uno de los experimentos del colisionador LHC) y Super Kamiokande, un gigantesco tanque de 50 kton de agua que actua como blanco donde interactuan los neutrinos que provienen del Sol o de la atmósfera.\n",
    "\n",
    "\n",
    "| | |\n",
    "|:--: | :--: |\n",
    "| <img src=\"./imgs/intro_CMS.jpg\" width = 400 align=\"center\">|  <img src=\"./imgs/intro_SK.jpg\" width = 250 align=\"center\">|\n",
    "| esquema del CMS [CERN] | dibujo de SK [SK] |\n",
    "\n",
    "Los detectores de colisionadores tiene habitualmente forma cilíndrica y se denominan $4\\pi$ porque detectan las partículas producidas en todos los ángulos.\n",
    "\n",
    "Los detectores de blanco fijo detectan las partículas producidas *hacia delante*, en la dirección de la partícula incidente."
   ]
  },
  {
   "cell_type": "markdown",
   "metadata": {
    "slideshow": {
     "slide_type": "slide"
    }
   },
   "source": [
    "#### Colisionadores\n",
    "\n",
    "Colisionadores recientes:\n",
    "\n",
    "| collider | Laboratory | Type  ----     | Period    | Energy, $\\sqrt{s}$, (GeV) | Luminosity, $\\mathcal{L}$, ($cm^{-2}s^{-1})$ ---|\n",
    "| :--:      | :--:      | :--:       | :--:      | :--:             | :--: |\n",
    "| PEP-II   | SLAC       | $e+e^+$   | 1999-2009 | 10.5             | $1.2 \\, 10^{34}$|\n",
    "| LEP      | CERN       | $e+e^+$   | 1989-2000 | 90-209           | $10^{32}$ |\n",
    "| Tevatron | Fermilab   | $p+\\bar{p}$ | 1987-2012 | 1960             | $4 \\, 10^{32}$ |\n",
    "| LHC      | CERN       | $p+p$      | 2009-     | 7000-13000            | $10^{34}$| "
   ]
  },
  {
   "cell_type": "markdown",
   "metadata": {
    "slideshow": {
     "slide_type": "slide"
    }
   },
   "source": [
    "Los dos parámetros fundamentales de un colisionador son:\n",
    "    \n",
    " * **Energía** en el centro de masas, $\\sqrt{s}$, que determina las partículas que se pueden crear en la colisión.\n",
    "\n",
    " * **Luminosidad**, o el número de partículas que lanzamos entre ellas por unidad de área y tiempo. Establece el número de interacciones en cada cruze. \n",
    "\n",
    "La frecuencia de eventos que se producen por cruce, $\\nu$ es el producto de la luminosidad $\\mathcal{L}$ y una sección eficaz, $\\sigma$\n",
    "    \n",
    "$$\n",
    " \\nu = \\mathcal{L} \\, \\sigma \n",
    "$$\n",
    "\n",
    "Como la luminosidad pueden depender del tiempo, llamamos luminosidad instantánea a $\\mathcal{L}(t)$  y la integral en un tiempo $T$, $\\int_0^T \\mathcal{L}(t) \\mathrm{d}t$, **luminosidad integrada**."
   ]
  },
  {
   "cell_type": "markdown",
   "metadata": {
    "slideshow": {
     "slide_type": "slide"
    }
   },
   "source": [
    "Luminosidad integrada del LHC a lo largo de los años de funcionamiento.\n",
    "\n",
    "| |\n",
    "| :-- |\n",
    "|<img src=\"./imgs/det_LHC_intlumi.png\" width = 600 align=\"center\">|\n",
    "| Lunimosidad integrada del LHC [CERN]|"
   ]
  },
  {
   "cell_type": "markdown",
   "metadata": {
    "slideshow": {
     "slide_type": "subslide"
    }
   },
   "source": [
    "*Cuestion*: ¿Cuántos Higgs se han producido en el LHC Run-II si la sección eficaz de producción es $\\sigma = 56 \\pm 4$ pb?"
   ]
  },
  {
   "cell_type": "code",
   "execution_count": 5,
   "metadata": {},
   "outputs": [
    {
     "name": "stdout",
     "output_type": "stream",
     "text": [
      "Numero de Higgs producidos por el LHC en el Run-II a sqrt(s) = 13 TeV = 8.960000e+06\n"
     ]
    }
   ],
   "source": [
    "lumi  = 160. / units.femto # 1/barn\n",
    "sigma =  56. * units.pico  #   barn\n",
    "N     = lumi * sigma\n",
    "print('Numero de Higgs producidos por el LHC en el Run-II a sqrt(s) = 13 TeV = {:e}'.format(N))"
   ]
  },
  {
   "cell_type": "markdown",
   "metadata": {
    "slideshow": {
     "slide_type": "slide"
    }
   },
   "source": [
    "#### Blanco fijo\n",
    "\n",
    "Los parámetros fundamentales de un experimento de blanco fijo son:\n",
    "\n",
    "  * la **energía** del haz incidente, $E$,\n",
    "  \n",
    "  * el **flujo de haz**, $\\Phi$, las partículas que atraviesan una unidad de área por unidad de tiempo.\n",
    "  \n",
    "  * el **número de partículas blanco**, $N$, que es proporcional a la masa del blanco.\n",
    "  \n",
    "La frecuencia de eventos en un experimento de blanco fijo viene dada por:\n",
    "\n",
    "$$\n",
    "\\nu = \\phi \\, \\sigma N\n",
    "$$\n"
   ]
  },
  {
   "cell_type": "markdown",
   "metadata": {
    "slideshow": {
     "slide_type": "slide"
    }
   },
   "source": [
    "### Observables\n",
    "\n",
    "\n",
    "En física de partículas habitualmente estimamos (o ponemos límites en su valor) a:\n",
    "\n",
    "  * la **sección eficaz**, $\\sigma$, de una interacción (en barns, 1 barn $= 10^{-24}$ cm$^2$). En algunos experimentos se mide la distribución angular de las partículas o la sección eficaz diferencial. \n",
    "  \n",
    "  * el **tiempo de vida media**, $\\tau$, (s), cuando la partícula es de vida \"corta\", o su inverso, la **anchura de desintegración**, $\\Gamma$, (MeV), cuando la partícula es una resonancia.\n",
    "    \n",
    "  * la **fracción de desintegración**, $\\mathcal{Br}$, en un canal (%). El porcentaje de veces que un partícula se desintegra en un canal, por ejemplo el $\\tau$ se desintegra a $\\mu + \\bar{\\nu}_\\mu + \\nu_\\tau$ un 17.8% de las veces. \n",
    "  "
   ]
  },
  {
   "cell_type": "markdown",
   "metadata": {
    "slideshow": {
     "slide_type": "slide"
    }
   },
   "source": [
    "Sección eficaz $\\sigma(e+e^+ \\to \\mathrm{hadrons})$ vs $\\sqrt{s}$ medida en el experimento OPAL (2001).\n",
    "\n",
    "| | \n",
    "| :--: | \n",
    "| <img src=\"./imgs/intro_Zreso_OPAL.png\" width = 400 align=\"center\">|  \n",
    "| $\\sigma(e+e^+\\to \\mathrm{hadrons})$ vs $\\sqrt{s}$ (puntos) y predicción del SM (linea)  [OPAL]|\n"
   ]
  },
  {
   "cell_type": "markdown",
   "metadata": {
    "slideshow": {
     "slide_type": "slide"
    }
   },
   "source": [
    "Observamos:\n",
    "    \n",
    "   * La sección eficaz está en nbarns.\n",
    "    \n",
    "   * La resonancia del $Z$ sigue una curva de Breit-Wigner, con media $m_z = 91.1852 \\pm 0.0030$ GeV y anchura $\\Gamma_Z = 2.4948 \\pm 0.004$.\n",
    "   \n",
    "La sección eficaz es proporcional a la curva de Breit-Wigner:\n",
    "\n",
    " $$\n",
    " \\sigma(s) \\propto \\frac{1}{(s-m^2_Z)^2 + m^2_z \\Gamma^2_Z}\n",
    " $$\n",
    " \n",
    "*Nota adicional*: La curva teórica de la figura anterior está corregida por la radiación de fotones en los estados inicial y  final."
   ]
  },
  {
   "cell_type": "markdown",
   "metadata": {
    "slideshow": {
     "slide_type": "subslide"
    }
   },
   "source": [
    "*Cuestión*: Calcula la razón de producción de $Z \\to \\mathrm{hadrons}$ en el pico de $Z$ en OPAL."
   ]
  },
  {
   "cell_type": "code",
   "execution_count": 6,
   "metadata": {
    "slideshow": {
     "slide_type": "fragment"
    }
   },
   "outputs": [
    {
     "name": "stdout",
     "output_type": "stream",
     "text": [
      "Razón de producción Z -> hadrons en OPAL =  3.1 Hz\n"
     ]
    }
   ],
   "source": [
    "sigma   = 31 * units.nano # nbars\n",
    "barn_si = 1e-24 # cm2\n",
    "lumi    = 1e32 * barn_si  # /bar s \n",
    "R       = lumi * sigma\n",
    "print('Razón de producción Z -> hadrons en OPAL = {:4.1f} Hz'.format(R))"
   ]
  },
  {
   "cell_type": "markdown",
   "metadata": {
    "slideshow": {
     "slide_type": "slide"
    }
   },
   "source": [
    "El tiempo de vida media $\\tau$ y la anchura de densintegración $\\Gamma$ de una partícula son inversos:\n",
    "\n",
    "$$\n",
    "\\tau = \\frac{1}{\\Gamma}\n",
    "$$\n",
    "\n",
    "Por ejemplo, la vida media del $\\tau$ es 29.6 ps."
   ]
  },
  {
   "cell_type": "markdown",
   "metadata": {
    "slideshow": {
     "slide_type": "slide"
    }
   },
   "source": [
    "\n",
    "Las fracciones de desintegración, $\\mathcal{Br}$, del leptón $\\tau$ son:\n",
    "\n",
    "|      |   |  |\n",
    "|:--:  | :--: | :--: |\n",
    "| $\\tau \\to e + \\bar{\\nu}_e + \\nu_\\tau$ | $\\tau \\to \\mu + \\bar{\\nu}_\\mu + \\nu_\\tau$ | $\\tau \\to \\mathrm{hadrons} + \\nu_\\tau$ | \n",
    "| ------- 17.4% -------- |-------- 17.8% ---------- | ---------- $\\sim 64$% ------------|\n",
    "\n",
    "La anchura total es la suma de las particales:\n",
    "\n",
    "$$\n",
    "\\Gamma = \\Gamma(\\tau \\to e + \\bar{\\nu}_e + \\nu_\\tau) + \\Gamma(\\tau \\to \\mu + \\bar{\\nu}_\\mu + \\nu_\\tau) + \\Gamma(\\tau \\to \\mathrm{hadrons} + \\nu_\\tau) \n",
    "$$\n",
    "\n",
    "Y la fracción de desintegración es:\n",
    "$$\n",
    "\\mathcal{Br}(\\tau \\to \\mu + \\bar{\\nu}_\\mu + \\nu_\\tau) = \\frac{\\Gamma(\\tau \\to \\mu + \\bar{\\nu}_\\mu + \\nu_\\tau)}{\\Gamma}\n",
    "$$\n"
   ]
  },
  {
   "cell_type": "markdown",
   "metadata": {
    "slideshow": {
     "slide_type": "subslide"
    }
   },
   "source": [
    "*Cuestión*: Calcula la anchura de desintegración en MeV del $\\tau$\n",
    "\n",
    "*Cuestión*: Calcula las anchuras de desintegración parciales del $\\tau$."
   ]
  },
  {
   "cell_type": "code",
   "execution_count": 7,
   "metadata": {
    "slideshow": {
     "slide_type": "fragment"
    }
   },
   "outputs": [
    {
     "name": "stdout",
     "output_type": "stream",
     "text": [
      "Gamma \t = 2.223689e-05 eV \n",
      "Gamma_e \t = 3.268823e-06 eV\n",
      "Gamma_mu \t = 3.958166e-06 eV\n",
      "Gamma_hadrons \t = 1.445398e-05 eV\n"
     ]
    }
   ],
   "source": [
    "hbar = units.hbar/units.eV # eV s\n",
    "tau   = 29.6 * units.pico  # s\n",
    "gamma_tau = hbar / tau     # eV\n",
    "print('Gamma \\t = {:e} eV '.format(gamma_tau))\n",
    "brs = (('e', 14.7), ('mu', 17.8), ('hadrons', 65))\n",
    "for name, br in brs:\n",
    "    print('Gamma_{:s} \\t = {:e} eV'.format(name, gamma_tau * br * 1e-2))"
   ]
  },
  {
   "cell_type": "markdown",
   "metadata": {
    "slideshow": {
     "slide_type": "slide"
    }
   },
   "source": [
    "## Diagramas de Feynman\n",
    "\n",
    "R. Feynman desarrolló en los 50's la teoría QED (*Quantum Electro Dynamics)* basada en TCQ.\n",
    "\n",
    "A partir de ideas previas en física teórica:\n",
    "\n",
    "  * las interacciones tienen lugar entre **dos corrientes de fermiones** (Fermi )\n",
    "\n",
    "  * la fuerza se transmite mediante un portador o **mediador** (Yukawa).\n",
    "    \n",
    "  * **la regla de Oro de Fermi**. La frecuencia de la transición, $R$, es proporcional a $|M_{fi}|^2$ y a la densidad de estados disponibles $\\rho(E)$.\n",
    "   \n",
    "$$\n",
    "R = (2\\pi) |M_{fi}|^2 \\rho(E)\n",
    "$$\n",
    "  \n",
    "Recordemos que $M_{fi} = \\langle f | H_{int}| i \\rangle$ es el elemento de la matriz de transición entre los estados iniciales, $| i \\rangle$ y finales, $\\langle f|$, mediante un hamiltoniano de interacción $H_{int}$.\n",
    "  \n"
   ]
  },
  {
   "cell_type": "markdown",
   "metadata": {
    "slideshow": {
     "slide_type": "slide"
    }
   },
   "source": [
    "La parte cinématica puede resolverse \"facilmente\".\n",
    "\n",
    "Los dos casos comunes (ver [Apéndice-fundamentos]) en el CM se muestran en el tabla:\n",
    "  \n",
    "  * anchura de desintegración de la partícula $a \\to b + c$\n",
    " \n",
    "  * sección eficaz de la interación de dos cuerpos $a +b \\to c + d$\n",
    "\n",
    "| | |\n",
    "| :--: | :--: |\n",
    "| $\\Gamma(a \\to b + c)$ | $\\sigma(a+b \\to c+d)$ | \n",
    "| <img src=\"./imgs/intro_drawing_decay2.png\" width = 250 align=\"center\">| <img src=\"./imgs/intro_drawing_int2.png\" width = 250 align=\"center\">   |\n",
    "| $\\Gamma = \\frac{p^*}{32 \\pi^2 m^2_a} \\int_{\\Omega} |M_{fi}|^2 \\mathrm{d}\\Omega^*$ | $\\sigma = \\frac{1}{64 \\pi^2 (E_a+E_b)^2} \\frac{p^*_f}{p^*_i} \\int_\\Omega |M_{fi}|^2 \\, \\mathrm{d}\\Omega^*$ |\n",
    "\n",
    "Queda por calcular el elemento de matriz, $M_{fi}$, donde está la física de la interacción."
   ]
  },
  {
   "cell_type": "markdown",
   "metadata": {
    "slideshow": {
     "slide_type": "slide"
    }
   },
   "source": [
    "Feynman propuso una serie de diagramas que tienen asociados unas reglas que permiten calcular $M_{fi}$.\n",
    "\n",
    "Los **diagramas de Feynman** nos permiten representar **gráficamente** una interacción.\n",
    "\n",
    "son válidos para **todas las fuerzas**."
   ]
  },
  {
   "cell_type": "markdown",
   "metadata": {
    "slideshow": {
     "slide_type": "slide"
    }
   },
   "source": [
    "Recordemos que Fermi propuso una teoría para le desintegración $\\beta$, \n",
    "\n",
    "$$\n",
    "n \\to p + e + \\bar{\\nu}_e\n",
    "$$ \n",
    "\n",
    "que se basaba en acoplo entre dos corrientes fermiónicas, mediante una constante de intesidad $G_F/\\sqrt{2}$.\n",
    "\n",
    "| | \n",
    "| :--: | \n",
    "| <img src=\"./imgs/intro_fermi_currents.png\" width = 300 align=\"center\">|  \n",
    "| Representación gráfica de la teoría de Fermi del acoplo entre dos corrientes|\n",
    "\n",
    "\n"
   ]
  },
  {
   "cell_type": "markdown",
   "metadata": {
    "slideshow": {
     "slide_type": "slide"
    }
   },
   "source": [
    "Y el elemento $M_{fi}$ podía calcularse a partir de:\n",
    "\n",
    "$$\n",
    "M_{fi} = \\frac{G_F}{\\sqrt{2}} \\; \\left[\\bar{\\Psi}_p \\gamma^\\mu \\Psi_n \\right] g_{\\mu\\nu} \\left[ \\bar{\\Psi}_e \\gamma^\\nu \\Psi_{\\bar{\\nu}_e} \\right],\n",
    "$$\n",
    "\n",
    "donde:\n",
    "\n",
    "  * $G_F = 1.16 \\, 10^{-5}$ GeV$^{-2}$, es la constante de acoplo, o de Fermi, que cuantifica la intensidad de la interacción.\n",
    "  \n",
    "  * $j^\\mu_h = \\bar{\\Psi}_p \\gamma^\\mu \\Psi_n$ es la corriente hadrónica, donde el neutrón se convierte en protón.\n",
    "  \n",
    "  * $j^\\nu_l = \\bar{\\Psi}_e \\gamma^\\nu \\Psi_{\\bar{\\nu}_e}$ es la corriente leptónica, donde aparecen el electrón y el antineutrino.\n",
    "\n",
    "\n",
    "Recordemos que $\\gamma^\\mu$ son las matrices de Dirac, $g_{\\mu\\nu}$ el tensor diagonal de la métrica, y cuando aparecen los índices arriba y abajo, se entiende que hay implícito un sumatorio."
   ]
  },
  {
   "cell_type": "markdown",
   "metadata": {
    "slideshow": {
     "slide_type": "slide"
    }
   },
   "source": [
    "El siguiente **diagrama de Feyman** representa la interacción de dos corrientes fermiónicas\n",
    "\n",
    "| |\n",
    "|:--:|\n",
    "|<img src=\"./imgs/feynman_default.png\" width = 300 align=\"center\">|\n",
    "| Diagrama de Feyman de una dispersión|\n",
    "\n",
    "Identificamos:\n",
    "\n",
    "   * las **corrientes fermiónicas** de las partículas, de $a$ a $c$, y de $b$ a $d$.\n",
    "   \n",
    "   * el **mediador** o portador, $X$\n",
    "   \n",
    "   * los **vértices de acoplo** con intensidad $g$."
   ]
  },
  {
   "cell_type": "markdown",
   "metadata": {
    "slideshow": {
     "slide_type": "slide"
    }
   },
   "source": [
    "En más detalle:   \n",
    "   \n",
    "   * las **corrientes fermiónicas** estan representadas por líneas. Cada fermión es un segmento de la línea con una flecha asociada. Los fermiones tienen las flechas hacia la derecha y los antifermiones hacia la izquierda.\n",
    "   \n",
    "   * El **mediador** se representa con una línea en senos para el fotón, y los bosones débiles $W^\\pm, Z$ y con un muelle para los gluones que median la fuerza fuerte. El mediador introduce un factor en el elemento de matriz denominado **propagador**.\n",
    "   \n",
    "   * La intensidad y características de la interacción está cuantificada por un factor asociado al **vértice**. La **intensidad de la interacción** viene dada por una **constante** $g$. Veremos más adelante que para **las interacciones débil y fuerte** introducen en el vértice **factores** adicionales que reflejan la **estructura** de sus fuerzas.\n",
    "\n",
    "*Nota*: Es común en la literatura que la **línea temporal** corresponda **hacia la derecha**. Así los fermiones avanzan en el tiempo y los antifermiones en sentido inverso. Los mediadores se representan verticalmente, para indicar que no sabemos en qué dirección temporal se intercambió el mediador. "
   ]
  },
  {
   "cell_type": "markdown",
   "metadata": {
    "slideshow": {
     "slide_type": "slide"
    }
   },
   "source": [
    "### Corrientes\n",
    "\n",
    "\n",
    "Las corrientes de la interacción se contruyen siguiento el *sentido de la línea dado por las flechas* (de entrada a salida):\n",
    "\n",
    "$$\n",
    "j^\\mu_{ac} = {\\bar \\Psi}(p_c) \\gamma^\\mu \\Psi(p_a), \\;\\; j^\\nu_{bd} = {\\bar \\Psi}(p_d) \\gamma^\\nu \\Psi(p_b), \n",
    "$$\n",
    "\n",
    "donde $p_i, \\, i = a, b, c, d$  corresponden a los cuadri-momentos de la partículas.\n",
    "\n",
    "Notar que la corriente tiene 4 componentes complejas, una para cada índice $\\mu = 0, 1, 2, 3$.\n",
    "\n",
    "Al tratarse de fermiones las funciones de onda, $\\Psi(p)$, son los espinores de Dirac: $u(p)$ para fermiones y $v(p)$ para antifermiones. \n",
    "\n",
    "Las corrientes en el diagrama anterior, donde solo aparecen fermiones, son:\n",
    "\n",
    "$$\n",
    "  j^\\mu_{ac} = \\bar{u}(p_c) \\gamma^\\mu u(p_a), \\;\\;  j^\\nu_{bd} = \\bar{u}(p_d) \\gamma^\\nu u(p_b),\n",
    "$$\n"
   ]
  },
  {
   "cell_type": "markdown",
   "metadata": {
    "slideshow": {
     "slide_type": "subslide"
    }
   },
   "source": [
    "**Inciso: sobre la ecuación de Dirac**\n",
    "\n",
    "Dirac propuso en 1932 una ecuación, que lleva su nobre, que describe la dinámica relativista de los fermiones.\n",
    "\n",
    "$$\n",
    " (i \\gamma^\\mu \\partial_\\mu - m) \\, \\Psi(x) = 0\n",
    "$$\n",
    "\n",
    "donde $\\partial_\\mu$ es la derivada convariante y las $\\gamma$'s son matrices complejas $4\\times 4$.\n",
    "\n",
    "$$\\partial_\\mu = \\left( \\frac{\\partial}{\\partial t}, \\frac{\\partial}{\\partial x},  \n",
    "                \\frac{\\partial}{\\partial y}, \\frac{\\partial}{\\partial z}  \\right),\n",
    "$$\n",
    "\n",
    "La solución es una función de ondas con cuatro componentes complejas, el espinor de Dirac:\n",
    "\n",
    "$$\n",
    "\\Psi = \\begin{pmatrix} \\psi_1 \\\\ \\psi_2 \\\\ \\psi_3 \\\\ \\psi_4\\end{pmatrix}.\n",
    "$$\n",
    "\n",
    "\n",
    "\n"
   ]
  },
  {
   "cell_type": "markdown",
   "metadata": {
    "slideshow": {
     "slide_type": "slide"
    }
   },
   "source": [
    "Y las $\\gamma$s son cuatro matrices, a la que añadimos $\\gamma^5 = i \\gamma^0 \\gamma^1 \\gamma^2 \\gamma^3$.\n",
    "\n",
    "En la representación de Pauli-Dirac son:\n",
    "\n",
    "$$\n",
    "\\gamma^0 = \\begin{pmatrix} I & 0 \\\\ 0 & -I \\end{pmatrix}, \\;\\;\n",
    "\\gamma^k = \\begin{pmatrix} 0 & \\sigma_k \\\\ -\\sigma_k & 0 \\end{pmatrix}, \\;\\;\n",
    "\\gamma^5 = \\begin{pmatrix} 0 & I \\\\ I & 0 \\end{pmatrix},\n",
    "$$\n",
    "\n",
    "donde $\\sigma_k$ con $k=1, 2, 3$ son las matrices $2 \\times 2$ de Pauli.\n",
    "\n",
    "Las soluciones de la ecuación de Dirac son cuatro, que asociamos a los fermiones y anti-fermiones con espín 1/2:\n",
    "\n",
    "$$\n",
    "\\Psi_i(x) = u_i(E, {\\bf p}) \\, e^{+i({\\bf p x} - Et)}, \\;\\; \\Psi_i(x) = v_i(E, {\\bf p}) \\, e^{-i({\\bf p x} - Et)}\n",
    "$$\n",
    "\n",
    "donde $u_i(E, {\\bf p}), v_i(E, {\\bf p})$ con $i=1, 2$ corresponde a los espinores de los fermiones y antifermiones respectivamente."
   ]
  },
  {
   "cell_type": "markdown",
   "metadata": {
    "slideshow": {
     "slide_type": "slide"
    }
   },
   "source": [
    "#### Espinores de Dirac\n",
    "\n",
    "Una forma conviente es utilizar los **espinores de Dirac** que son a la vez **autoestados del operador helicidad** (ver [Apéndice-Dirac] [MT4.8])\n",
    "\n",
    "\n",
    "Para los **fermiones** los espinores son, $u_\\pm$, y para los **antifermiones**, $v_\\pm$:\n",
    "\n",
    "$$\n",
    "u_{+} = N \\begin{pmatrix} c \\\\ s e^{i\\phi} \\\\ \\kappa \\, c \\\\ \\kappa \\, s e^{i\\phi} \\end{pmatrix}, \\;\n",
    "u_{-} = N \\begin{pmatrix} -s \\\\ c e^{i\\phi} \\\\ \\kappa \\, s \\\\ -\\kappa \\, c e^{i\\phi}\\end{pmatrix}, \\;\n",
    "v_{+} = N \\begin{pmatrix} \\kappa \\, s \\\\ -\\kappa \\, c e^{i\\phi}\\\\ -s \\\\ ce^{i\\phi} \\end{pmatrix}, \\;\n",
    "v_{-} = N \\begin{pmatrix} \\kappa \\, c \\\\ \\kappa  \\, s e^{i\\phi}\\\\ c \\\\ s e^{i\\phi} \\end{pmatrix},\n",
    "$$\n",
    "\n",
    "donde $c = \\cos \\theta/2, s = \\sin \\theta/2$ siendo $\\theta$ el ángulo entre el momento ${\\bf p}$ y el eje ${\\bf z}$, $\\phi$ es el ángulo azimutal,  $\\kappa = \\frac{E}{p+m}$ y $N = \\sqrt{E+m}$, un factor de normalización.\n",
    "\n",
    "Notar que cuando la partícula es ultra-relativista, $E \\gg m$, o sin masa, entonces $\\kappa = 1$."
   ]
  },
  {
   "cell_type": "markdown",
   "metadata": {
    "slideshow": {
     "slide_type": "slide"
    }
   },
   "source": [
    "\n",
    "Recordemos que el operador **helicidad** es la proyección del spín, ${\\bf S}$, en la dirección del momento, ${\\bf p}$, esto es $h = \\frac{{\\bf S} \\cdot {\\bf p}}{p}$.\n",
    "\n",
    "\n",
    "| |\n",
    "|:--:|\n",
    "|<img src=\"./imgs/dirac_spinors_helicities.png\" width = 450 align=\"center\">|\n",
    "| spín y momento de los spinores de helicidad|\n",
    "\n",
    "$u_{+}, v_{+}$ son espinores de **helicidad positiva** (el espín tiene el mismo sentido que el momento).\n",
    "\n",
    "$u_{-}, v_{-}$ tienen **helicidad negativa** (el spín y momento tienen sentido opuesto).\n",
    "\n"
   ]
  },
  {
   "cell_type": "markdown",
   "metadata": {
    "slideshow": {
     "slide_type": "slide"
    }
   },
   "source": [
    "### Vértices\n",
    "\n",
    "Los vértices de los diagramas de Feynman para las distintas fuerzas son:\n",
    "\n",
    "| |\n",
    "| :--: | \n",
    "| <img src=\"./imgs/feynman_forces.png\" width = 500 align=\"center\">|\n"
   ]
  },
  {
   "cell_type": "markdown",
   "metadata": {
    "slideshow": {
     "slide_type": "slide"
    }
   },
   "source": [
    "Para cada fuerza tenemos asociada una **constante de acoplo**:\n",
    "  \n",
    "|  |  |  | |\n",
    "| :--: | :--: | :--: | :--: |\n",
    "| electromagnética| débil cargada | débil neutra| fuerte |\n",
    "| $e $ | $g_W$ | $g_Z$ | $g_s$ | \n",
    "  \n",
    "La constante asociada al electromagnetismo es la carga eléctrica, $e$.\n",
    " \n",
    "La constante nos indica la **intensidad** de la fuerza \n",
    " "
   ]
  },
  {
   "cell_type": "markdown",
   "metadata": {
    "slideshow": {
     "slide_type": "slide"
    }
   },
   "source": [
    "Resulta conveniente utilizar **constantes adimensionales**, que denotamos $\\alpha$, para cuantificar la intensidad de las fuerzas entre ellas.\n",
    "\n",
    "Para el electromagnetimo utilizamos $\\alpha$, la constante de estructura fina:\n",
    "$$\n",
    "\\alpha = \\frac{e^2}{4 \\pi \\epsilon_0}\n",
    "$$\n",
    "\n",
    "Como en cada diagrama hay dos vértices, $M_{fi}$ es proporcional a $g^2 \\propto \\alpha$, y la propabilidad $|M_{fi}|^2 \\propto g^4 \\propto \\alpha^2 $\n",
    "\n",
    "Las constantes adimensionales de las fuerzas serían aproximadamente:\n",
    "\n",
    "| electromagnetismo $\\alpha$| débil $\\alpha_W$| fuerte $\\alpha_S$|\n",
    "| :--:  | :--: | :--: | \n",
    "| 1/137 |  1/30 | 1 |\n",
    "\n"
   ]
  },
  {
   "cell_type": "markdown",
   "metadata": {
    "slideshow": {
     "slide_type": "slide"
    }
   },
   "source": [
    "#### El vértice del $W$\n",
    "\n",
    "El bosón $W$ se acopla con un leptón de arriba y abajo pero siempre de la misma generación.\n",
    "\n",
    "$$\n",
    "\\begin{pmatrix}\\nu_e \\\\ e \\end{pmatrix}, \\; \\begin{pmatrix}\\nu_\\mu \\\\ \\mu \\end{pmatrix}, \\;\n",
    "\\begin{pmatrix}\\nu_\\tau \\\\ \\tau \\end{pmatrix}\n",
    "$$\n",
    "\n",
    "Veremos que la constante de acoplo es la misma para las tres generaciones $g_W$ (**universalidad**).\n",
    "\n",
    "| |\n",
    "| :--: |\n",
    "| <img src=\"./imgs/feynman_wleptons.png\" width = 600 align=\"center\">|\n"
   ]
  },
  {
   "cell_type": "markdown",
   "metadata": {
    "slideshow": {
     "slide_type": "slide"
    }
   },
   "source": [
    "Los quarks se acoplan con el $W^\\pm$ en pares de arriba y abajo entre distintas generaciones:\n",
    "$$\n",
    "\\begin{pmatrix}u \\\\ d \\end{pmatrix}, \\; \\begin{pmatrix} u \\\\ s \\end{pmatrix}, \\; \\begin{pmatrix}u \\\\ b \\end{pmatrix} \\\\\n",
    "\\begin{pmatrix}c \\\\ d \\end{pmatrix}, \\; \\begin{pmatrix} c \\\\ s \\end{pmatrix}, \\; \\begin{pmatrix}c \\\\ b \\end{pmatrix} \\\\\n",
    "\\begin{pmatrix}t \\\\ d \\end{pmatrix}, \\; \\begin{pmatrix} t \\\\ s \\end{pmatrix}, \\; \\begin{pmatrix}t \\\\ b \\end{pmatrix}\n",
    "$$\n"
   ]
  },
  {
   "cell_type": "markdown",
   "metadata": {
    "slideshow": {
     "slide_type": "slide"
    }
   },
   "source": [
    "\n",
    "La constante de acoplo depende del par arriba y abajo que se acopla, $g_W V_{ij}$, (donde $i = \\{u, c, t\\}, j = \\{d, s, b\\}$).\n",
    "\n",
    "| |\n",
    "| :--: |\n",
    "|<img src=\"./imgs/feynman_vertexW.png\" width = 600 align=\"center\">|\n",
    "|Vértices del $W$ con parejas de quarks|\n",
    "\n",
    "Los elementos $V_{ij}$ forman una matriz unitaria llamada de **matrix CKM** (Cabibbo, Kobayashi, Maskawa). \n",
    "\n",
    "El acoplo es más intenso entre pares de la misma generación.\n"
   ]
  },
  {
   "cell_type": "markdown",
   "metadata": {
    "slideshow": {
     "slide_type": "slide"
    }
   },
   "source": [
    "*Nota adicional*: Adelantemos sólo que para las interacciones débiles y fuertes introduciremos otros factores asociados al vértice, que darán cuenta de la estructure de la fuerza\n",
    "\n",
    "   * la violación de paridad de las corrientes cargadas, la estructura V-A\n",
    "   \n",
    "   * el color en las interacciones fuertes."
   ]
  },
  {
   "cell_type": "markdown",
   "metadata": {
    "slideshow": {
     "slide_type": "slide"
    }
   },
   "source": [
    "En los vértices se conserva: \n",
    "  \n",
    "   * la **carga eléctrica**. En el caso de $W^\\pm$ el portador transfiere la carga.\n",
    "      \n",
    "   * el **sabor**, la identidad de las partículas, a excepción de $W^\\pm$ donde cambia $f \\to f'$\n",
    "  \n",
    "   * el **cuadrimomento**. Sea la partícula $a$ entrante y $c$ saliente de la corriente, el cuadrimomento transferido es $q = p_c-p_a$.\n",
    "     \n",
    "   * el número leptónico, y el número total de fermiones menos antifermiones.\n"
   ]
  },
  {
   "cell_type": "markdown",
   "metadata": {
    "slideshow": {
     "slide_type": "slide"
    }
   },
   "source": [
    "Sin embargo **no se conserva en el vértice la energía y momento**.\n",
    "\n",
    "Por eso decimos que los diagramas de Feynman son **virtuales**.\n",
    "\n",
    "La violación de energía y momento puede darse siempre que el tiempo de la interacción cumpla con el principio de incertidumbre de Heisenberg.\n",
    "\n",
    "La energía y momento se conservará en la interacción:\n",
    "\n",
    "$$\n",
    "p_a + p_b = p_c + p_d, \\;\\; E_a + E_b = E_c + E_d, \\;\\; {\\bf p}_a + {\\bf p}_b = {\\bf p}_c + {\\bf p}_d\n",
    "$$"
   ]
  },
  {
   "cell_type": "markdown",
   "metadata": {
    "slideshow": {
     "slide_type": "slide"
    }
   },
   "source": [
    "### Portadores\n",
    "\n",
    "Los portadores transmiten la fuerza, y se les asociada un **propagador** que actua como un factor entre las corrientes.\n",
    "\n",
    "En la tabla se muestra la expresión aproximada de los propagadores: \n",
    "\n",
    "|  |  |  | |\n",
    "| :--: | :--: | :--: | :--: |\n",
    "| electromagnética | débil cargada | débil neutra| fuerte --- |\n",
    "| $\\frac{g_{\\mu\\nu}}{q^2}$ | $\\frac{g_{\\mu\\nu}}{q^2 - m^2_W}$ | $\\frac{g_{\\mu\\nu}}{q^2 - m^2_Z}$ | $\\frac{g_{\\mu\\nu}}{q^2}$ | \n",
    "\n",
    "donde $q^2$ es el cuadrimomento transferido, en el caso del diagraman anterior, $q = p_c - p_a = p_d - p_c$, y $m_W = 80.4, m_z = 91.2$ GeV son las masas del $W$ y del $Z$ respectivamente.\n",
    "\n",
    "Notar que el tensor de la métrica $g_{\\mu\\nu}$ une las dos corrientes.\n",
    "\n",
    "Podemos interpretar $q^2$ como la \"masa efectiva\" del mediador y éste actua con un factor $1/q^2$ en $M_{fi}$.\n",
    "\n",
    "En la desintegración $\\beta$, se cumpre que $q^2 \\ll m^2_W$ de ahí que el propagador del $W$ sea $\\propto \\frac{1}{m^2_W}$, una costante."
   ]
  },
  {
   "cell_type": "markdown",
   "metadata": {
    "slideshow": {
     "slide_type": "slide"
    }
   },
   "source": [
    "### Tipos de interacciones\n",
    "\n",
    "Existen tres tipos de diagramas principales: **dispersión**, **aniquilación** y **desintegración**\n",
    "\n",
    "| |\n",
    "| :--: |\n",
    "|<img src=\"./imgs/feynman_new_type_interactions.png\" width = 450 align=\"center\">|\n",
    "|De izda a derecha diagramas de dispersión,  aniquilación y desintegración|\n",
    "\n",
    "El cuadrimomento transferido $q$ es:\n",
    "\n",
    "|  |  |  |\n",
    "| :--: | :--: | :--: | \n",
    "| dispersión ---| aniquilación --  | desintegración --|\n",
    "| $q = p_c - p_a$ | $q = p_a + p_b$ | $q = p_c - p_a$ | \n",
    "\n"
   ]
  },
  {
   "cell_type": "markdown",
   "metadata": {
    "slideshow": {
     "slide_type": "slide"
    }
   },
   "source": [
    "El diagrama de Feynman para la desintegración $\\beta$ de un neutrón es:\n",
    "\n",
    "| |\n",
    "| :--: |\n",
    "|<img src=\"./imgs/feynman_new_beta_decay.png\" width = 250 align=\"center\">|\n",
    "|Diagrama de Feynman de la desintegración $\\beta$|\n",
    "\n",
    "notar que los quarks ($ud$) son meros \"espectadores\".\n",
    "\n",
    "La relación exacta entre $G_F$ y $g_W, m_W$ es:\n",
    "\n",
    "$$\n",
    "\\frac{G_F}{\\sqrt{2}} = \\frac{g^2_W}{8 m^2_W}\n",
    "$$\n",
    "\n",
    "*Nota adicional*: En la relación anterior aparecen algunos factores $2$ que tienen un origen histórico."
   ]
  },
  {
   "cell_type": "markdown",
   "metadata": {
    "slideshow": {
     "slide_type": "subslide"
    }
   },
   "source": [
    "*Cuestión*: Calcula el valor de $g_W$ a partir de los valores de $G_F$ y $m_W$."
   ]
  },
  {
   "cell_type": "markdown",
   "metadata": {
    "slideshow": {
     "slide_type": "slide"
    }
   },
   "source": [
    "El siguiente diagrama muestra la aniquilación $e+e^+ \\to \\mu + \\mu^+$ mediada por un fotón. \n",
    "\n",
    "| |\n",
    "| :--: |\n",
    "|<img src=\"./imgs/feynman_eemumu_momenta.png\" width = 400 align=\"center\">|\n",
    "|Diagrama de Feynman $e+e^+ \\to \\mu + \\mu^+$ mediado por $\\gamma$|\n",
    "\n",
    "Notar que los partículas están etiquetadas para asignar los cuadrimomentos.\n"
   ]
  },
  {
   "cell_type": "markdown",
   "metadata": {
    "slideshow": {
     "slide_type": "slide"
    }
   },
   "source": [
    "Los elementos de éste diagrama son:\n",
    "    \n",
    "| corriente electrónica | corriente muónica | vértices | propagador |\n",
    "| :--: | :--: | :--: | :--: | \n",
    "| $\\left[\\bar{v}(p_b) \\gamma^\\mu u(p_a)\\right]$ | $\\left[\\bar{u}(p_c) \\gamma^\\nu v(p_d)\\right]$ | $e^2$ | $\\frac{g_{\\mu\\nu}}{q^2}$ |\n",
    "\n",
    "donde el cuadrimomento del $e, e^+$ son $p_a, p_b$ respectivamente y para $\\mu, \\mu^+$ son $p_d, p_c$, y $q = p_a + p_b = p_c + p_d $ es el cuadrimomento transferido.\n",
    "\n",
    "Notar que las corrientes se construyen siguiendo el sentido de las fechas y asignando los espinores $u$ a los fermiones y $v$ a las antifermiones\n",
    "\n",
    "\n",
    "El elemento de matriz calculado con las reglas de Feynman es:\n",
    "\n",
    "$$\n",
    "M_{fi} = \\frac{e^2}{q^2} \\left[\\bar{v}(p_b) \\gamma^\\mu u(p_a) \\right] \\, g_{\\mu\\nu} \\left[\\bar{u}(p_c) \\, \\gamma^\\nu v(p_d) \\right],\n",
    "$$\n",
    "        \n",
    "Percatarse que es simplemente un número complejo."
   ]
  },
  {
   "cell_type": "markdown",
   "metadata": {
    "slideshow": {
     "slide_type": "slide"
    }
   },
   "source": [
    "### Diagramas de árbol y de lazo\n",
    "\n",
    "Los diagramas de Feynman que hemos visto son de nivel árbol. \n",
    "\n",
    "Otros diagramas pueden contribuir al mismo proceso, por ejemplo, en la dispersión de dos electrones:\n",
    "\n",
    "| |\n",
    "| :--: |\n",
    "| <img src=\"./imgs/feynman_tree_loop.png\" width = 400 align=\"center\"> |\n",
    "| Diagrama árbol (izda) y lazo (derecha) |\n",
    "\n",
    "El elemento de matrix del primer diagrama es $\\propto \\alpha$ mientras que el segundo $\\propto \\alpha^2$\n",
    "\n",
    "Si la constante de acoplo $\\alpha$ es pequeña, como es el caso en electromagnetismo, podemos considerar que los diagramas de lazo son correciones y el diagrama árbol es de primer nivel  (*leading order*).\n",
    "\n",
    "A lo largo de los temas consideraremos solo diagramas árbol"
   ]
  },
  {
   "cell_type": "markdown",
   "metadata": {
    "slideshow": {
     "slide_type": "slide"
    }
   },
   "source": [
    "#### Nomenclatura:\n",
    "\n",
    "| nombres          | definición |\n",
    "| :---          | :--- |\n",
    "| *partícula*  | corpúsculo que puede sentir la fuerzas electromagnética, débil o fuerte |\n",
    "| *antipartícula* | partícula con las cargas y números cuánticos (excepto masa y spín) opuestos a la partícula|\n",
    "| *fermión*  | partícula de spin 1/2 |\n",
    "| *leptón*  (liguero) | fermión que no siente la fuerza fuerte |\n",
    "| *quark*    | fermión que siente la fuerza fuerte |\n",
    "| *bosón*    | particula de spín entero |\n",
    "| *gauge boson*| bosones portadores de la fuerza $W, Z, \\gamma$ tienen spín 1 (vectoriales) |\n",
    "| *hadrón*  (fuerte) | partícula compuesta que siente la fuerza fuerte|\n",
    "| *barión*   | hadrón compuesto de tres quarks |\n",
    "| *mesón*   (mediano)| hadrón compuesto de quark y antiquark |\n",
    "\n"
   ]
  },
  {
   "cell_type": "markdown",
   "metadata": {
    "slideshow": {
     "slide_type": "slide"
    }
   },
   "source": [
    "\n",
    "\n",
    "## Bibliografía\n",
    "\n",
    " * [AB] Alessandro Bettini, \"Introduction to Elementary Particle Physcs\", Cambridge U. press. Tema 1\n",
    "\n",
    " * [MT] Mark Tomsom, \"Modern Particle Physics\", Cambridge U. press. Tema 1\n",
    "    \n",
    " * [PDG](https://pdg.lbl.gov/) Particle Data Group.\n",
    "\n",
    " * [Peskin] M. Peskin, \"Lectures on the Theory of the Weak Interaction\", 2016 CERN-JINR European School of Particle Physics, [arXiv:1708.09043](https://arxiv.org/abs/1708.09043)\n",
    "\n",
    " * [OPAL] G. Abbiendi et al. OPAL Collaboration, \"Precise Determination of the Z Resonance Parameters at LEP\", Eur. Phys. J. C 19, 587 (2001) [arXiv:hep-ex/0012018v1](https://arxiv.org/abs/hep-ex/0012018)."
   ]
  },
  {
   "cell_type": "code",
   "execution_count": null,
   "metadata": {},
   "outputs": [],
   "source": []
  }
 ],
 "metadata": {
  "anaconda-cloud": {},
  "celltoolbar": "Slideshow",
  "kernelspec": {
   "display_name": "Python 3",
   "language": "python",
   "name": "python3"
  },
  "language_info": {
   "codemirror_mode": {
    "name": "ipython",
    "version": 3
   },
   "file_extension": ".py",
   "mimetype": "text/x-python",
   "name": "python",
   "nbconvert_exporter": "python",
   "pygments_lexer": "ipython3",
   "version": "3.8.8"
  }
 },
 "nbformat": 4,
 "nbformat_minor": 4
}
