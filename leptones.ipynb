{
 "cells": [
  {
   "cell_type": "markdown",
   "metadata": {
    "slideshow": {
     "slide_type": "slide"
    }
   },
   "source": [
    "# Introducción a Física de Partículas\n",
    "\n",
    "\n",
    "## Leptones\n",
    "\n",
    "\n",
    "Jose A. Hernando\n",
    "\n",
    "*Departamento de Física de Partículas. Universidade de Santiago de Compostela*\n",
    "\n",
    "Septiembre 2021\n"
   ]
  },
  {
   "cell_type": "code",
   "execution_count": 1,
   "metadata": {
    "slideshow": {
     "slide_type": "fragment"
    }
   },
   "outputs": [
    {
     "name": "stdout",
     "output_type": "stream",
     "text": [
      " Last version  Fri Nov 26 19:41:11 2021\n"
     ]
    }
   ],
   "source": [
    "import time\n",
    "print(' Last version ', time.asctime() )"
   ]
  },
  {
   "cell_type": "code",
   "execution_count": 2,
   "metadata": {
    "slideshow": {
     "slide_type": "subslide"
    }
   },
   "outputs": [],
   "source": [
    "# general imports\n",
    "%matplotlib inline\n",
    "%reload_ext autoreload\n",
    "%autoreload 2\n",
    "\n",
    "# numpy and matplotlib\n",
    "import numpy as np\n",
    "import matplotlib\n",
    "import matplotlib.pyplot as plt\n",
    "\n",
    "import scipy.constants as units"
   ]
  },
  {
   "cell_type": "markdown",
   "metadata": {
    "slideshow": {
     "slide_type": "slide"
    }
   },
   "source": [
    "### Objetivos\n",
    "\n",
    "   * Los leptones sienten la fuerza electro-débil y se clasifican en tres familias que se comportan de forma universal.\n",
    "   \n",
    "   * las corrientes cargadas presentan violación de carga y paridad. \n",
    "   \n",
    "   * los neutrinos solo sienten la fuerza débil y oscilan entre ellos.\n",
    "   "
   ]
  },
  {
   "cell_type": "markdown",
   "metadata": {
    "slideshow": {
     "slide_type": "slide"
    }
   },
   "source": [
    "## Características de los leptones\n",
    "\n",
    "Los leptones se presentan en tres generaciones agrupados en dupletes:\n",
    "\n",
    "$$\n",
    "\\begin{pmatrix}\\nu_e \\\\ e \\end{pmatrix}, \\; \\begin{pmatrix}\\nu_\\mu \\\\ \\mu \\end{pmatrix}, \\;\n",
    "\\begin{pmatrix}\\nu_\\tau \\\\ \\tau \\end{pmatrix}\n",
    "$$\n",
    "\n",
    "Sus propiedades:\n",
    "\n",
    "|       | $e$ | $\\mu$ | $\\tau$ | $\\nu$ |\n",
    "| :--   | :-- | :--   | :--    | :--   |\n",
    "| masa  | 0.511 MeV    | 105.7 MeV  |  1777 MeV|   $\\le$ 1 eV     |  \n",
    "| carga |   -1  | -1 | -1 | 0 |\n",
    "| vida media ($\\tau$)| estable | $2.197$ $\\mu$s | $290.6$ fs | estable|"
   ]
  },
  {
   "cell_type": "markdown",
   "metadata": {
    "slideshow": {
     "slide_type": "subslide"
    }
   },
   "source": [
    "*Cuestión*: ¿Cuál es el recorrido medio en vacío de cada leptón con un $p = 10$ GeV?"
   ]
  },
  {
   "cell_type": "code",
   "execution_count": 3,
   "metadata": {
    "slideshow": {
     "slide_type": "subslide"
    }
   },
   "outputs": [
    {
     "name": "stdout",
     "output_type": "stream",
     "text": [
      " distance 6.222108e+04 m\n"
     ]
    }
   ],
   "source": [
    "mass = 0.106 # GeV\n",
    "tau  = 2.2 * units.micro # s\n",
    "p    = 10 # GeV\n",
    "ene  = np.sqrt(mass**2 + p**2)\n",
    "gamma = ene/mass\n",
    "beta  = p/ene\n",
    "distance = gamma * beta * tau * units.c\n",
    "print(' distance {:e} m'.format(distance))"
   ]
  },
  {
   "cell_type": "markdown",
   "metadata": {
    "slideshow": {
     "slide_type": "slide"
    }
   },
   "source": [
    "Desintegraciones principales:\n",
    "\n",
    "|    | Fracción de desintegración |\n",
    "|:-- | --:                                          |\n",
    "| $\\mu  \\to e + \\bar{\\nu_e} + \\nu_\\mu$  | $\\sim 100$ %|\n",
    "| $\\tau \\to \\mu + \\bar{\\nu_\\mu} + \\nu_\\tau$| $17.4$ % |\n",
    "| $\\tau \\to e + \\bar{\\nu_e} + \\nu_\\tau$| $17.8$ % |\n",
    "| $\\tau \\to \\mathrm{hadrons}+ \\nu_\\tau$| $\\sim 64$ % |"
   ]
  },
  {
   "cell_type": "markdown",
   "metadata": {
    "slideshow": {
     "slide_type": "slide"
    }
   },
   "source": [
    "#### Conservación del número leptónico.\n",
    "\n",
    "Experimentalmente siempre que se produce una interacción se conservan en número total de leptones menos anti-leptones de la misma generación y también el total. \n",
    "\n",
    "Asignamos un número leptónico a cada generación (es negativo para las antipartículas). \n",
    "\n",
    "|                                                 | $L_e$   | $L_\\mu$ | $L_\\tau$  |  $L$ |\n",
    "| :--                                             | --      | --      | --        | --   |\n",
    "| $(e, \\nu_e), \\; (e^+, \\bar{\\nu}_e)$            | +1, -1  |  0      | 0         | +1, -1 |\n",
    "| $(\\mu, \\nu_\\mu), \\; (\\mu^+, \\bar{\\nu}_\\mu)$     | 0       |  +1,-1  | 0         | +1, -1 |\n",
    "| $(\\tau, \\nu_\\tau), \\; (\\tau^+, \\bar{\\nu}_\\tau)$ | 0       |  0      | +1,-1     | +1, -1 |    \n",
    "\n",
    "**El número leptónico de sabor** (por generación) **y el total se conservan.**"
   ]
  },
  {
   "cell_type": "markdown",
   "metadata": {
    "slideshow": {
     "slide_type": "subslide"
    }
   },
   "source": [
    "\n",
    "*Cuestión*: Verifica que el número leptónico de sabor y el total se conservan en las desintegraciones de $\\mu, \\tau$.\n"
   ]
  },
  {
   "cell_type": "markdown",
   "metadata": {
    "slideshow": {
     "slide_type": "slide"
    }
   },
   "source": [
    "\n",
    "Los experimentos que han buscado la violación del número léptonico solo han puesto límites a los valores de vida media de los procesos que lo violan. Por ejemplo $\\mu \\to e + \\gamma$\n",
    "\n",
    "La conservación del la carga eléctrica fuerza que el $e$, la partícula cargada más ligera sea estable. \n",
    "\n",
    "La conservación del número leptónico de sabor fuerza que los neutrinos sean estables.\n",
    "\n",
    "\n",
    "\n",
    "\n",
    "*Nota adicional* Como veremos posteriormente las oscilaciones de neutrinos violan el número leptónico de sabor pero en la propagación de los neutrinos."
   ]
  },
  {
   "cell_type": "markdown",
   "metadata": {
    "slideshow": {
     "slide_type": "subslide"
    }
   },
   "source": [
    "*Cuestión*: ¿La desintegración $\\mu \\to \\nu_\\mu + e + e^+$ viola alguna regla de conservación? ¿Y la desintegración $\\tau \\to \\mu + \\mu + \\mu^+$?"
   ]
  },
  {
   "cell_type": "markdown",
   "metadata": {
    "slideshow": {
     "slide_type": "slide"
    }
   },
   "source": [
    "#### Descubrimientos de los leptones:\n",
    "    \n",
    "  * El 1930 C. Anderson descubrió **el positrón** en una cámara de burbujas con un campo magnético 1 T observó que de los productos con rayos cósmicos aparecían trazas que por la curvatura eran como el electrón pero con carga positiva.\n",
    "    \n",
    "  * En 1937 Aderson y Nedermayer descubrieron partículas penetrantes en los rayos cósmicos. En 1947 se observaron en emulsiones fotográficas con rayos cósmicos la desintegraciones del pión y del **muón**, que se correspondía a la partícula penetrante.\n",
    "    \n",
    "  * en 1975 M. Perl en el colisionador $e^+e^-$ de SLAC descubrió **el tau** en la producción de pares $e+e^+ \\to \\tau+\\tau^+$, donde éstos se desintegraban leptónicamente $\\tau \\to\\mu +\\bar{\\nu}_\\mu + \\nu_\\tau$\n",
    "    "
   ]
  },
  {
   "cell_type": "markdown",
   "metadata": {
    "slideshow": {
     "slide_type": "slide"
    }
   },
   "source": [
    "  * En 1030 **Pauli** propuso **el neutrino** como solución desperada para resolver el problema de la no conservación de energía y momento en las desintegraciones $\\beta$, la existencia de una partícula neutra de pequeña masa que escaparía indetectada.\n",
    "   \n",
    "  * En 1956 **Reines y Cowan** detectaron el $\\nu_e$. A partir del flujo intenso de neutrinos del reactor nuclear de Savannah, Carolina del Sur, detectaron la interacción inversa $\\bar{\\nu}_e + p \\to e^+ +n $ en un detector con líquido centelleador y agua como blanco. \n",
    "   \n",
    "  * En 1962 Schwartz, Lederman y Steinberger descubrieron el $\\nu_\\mu$ con el haz de $\\nu_\\mu$ producido en el AGS de Boorkhaven, Nueva York, con un detector de placas anternadas de material pasivo y cámaras de chispas. Demostraton que los $\\nu_\\mu$ son distintos a los $\\nu_e$ y que aparecen en parejas con su fermiones cargados $\\mu$.\n",
    "   \n",
    "  * En 2001 la colaboración DONUT de Fermilab en emulsiones observó la primera interacción de un $\\nu_{\\tau}$."
   ]
  },
  {
   "cell_type": "markdown",
   "metadata": {
    "slideshow": {
     "slide_type": "slide"
    }
   },
   "source": [
    "**Otros hitos relevantes relacionados con los leptones**\n",
    "\n",
    "   * 1955 Lee and Yang proponen la violación de paridad.  \n",
    "   \n",
    "   * 1956 Experimento de Ms **Wu**. Descubrimiento de **la violación de paridad**.\n",
    "\n",
    "   * 1958 Goldhaber descubre que el neutrino tiene helicidad negativa.\n",
    "   \n",
    "   * 1970 **David et al, y Bahcall**, descubren **el problema de los neutrinos solares**.\n",
    "   \n",
    "   * 1998 Tajita et al, Descubrimiento de **oscilaciones de neutrinos** en el experimento **Super-Kamiokande**.\n",
    "   \n",
    "   * 2012 McDonald et al, Solución del problema de los neutrinos solares, en el experimen to SNO."
   ]
  },
  {
   "cell_type": "markdown",
   "metadata": {
    "slideshow": {
     "slide_type": "slide"
    }
   },
   "source": [
    "## Interacciones leptónicas"
   ]
  },
  {
   "cell_type": "markdown",
   "metadata": {
    "slideshow": {
     "slide_type": "slide"
    }
   },
   "source": [
    "### Desintegraciones\n",
    "\n",
    "\n",
    "Los siguientes diagramas de Feynman muestran las desintegraciones de los leptones cargados:\n",
    "\n",
    "| |\n",
    "| :-- |\n",
    "<img src=\"./imgs/feynman_lepton_decays.png\" width = 500 align = \"center\">\n",
    "|Desintegraciones del $\\mu$ (arriba) y del $\\tau$ (abajo)|"
   ]
  },
  {
   "cell_type": "markdown",
   "metadata": {
    "slideshow": {
     "slide_type": "slide"
    }
   },
   "source": [
    "### Universalidad leptónica\n",
    "\n",
    "La **Universalidad leptónica** nos dice que la intensidad del acoplo de los vértices de las corrientes cagadas son iguales para las tres generaciones de leptones.\n",
    "\n",
    "Vamos a considerar que en las corrientes de Fermi interviene una constante $G^\\alpha_F$, con $\\alpha = e, \\mu, \\tau$, distinta para cada sabor para comprobar luego que experimentalmente son iguales para todos los sabores e igual a la constante de Fermi, $G_F$.\n",
    "\n",
    "La anchura de desintegración del $\\mu$ es : \n",
    "$$\n",
    "\\Gamma (\\mu \\to e + \\bar{\\nu}_e + \\nu_\\mu) \\equiv  \\frac{1}{\\tau_\\mu} = \\frac{G^e_F G^\\mu_F m^5_\\mu}{192 \\pi^3},\n",
    "$$\n",
    "\n",
    "Nota: Esta anchura se calcula en el curso más avanzado de Partículas."
   ]
  },
  {
   "cell_type": "markdown",
   "metadata": {
    "slideshow": {
     "slide_type": "subslide"
    }
   },
   "source": [
    "*Cuestión*: verifica que las dimensiones en la fórmula de la anchura de desintegración son correctas."
   ]
  },
  {
   "cell_type": "markdown",
   "metadata": {
    "slideshow": {
     "slide_type": "slide"
    }
   },
   "source": [
    "Para la desintegraciones $\\tau \\to e + \\bar{\\nu}_e + \\nu_\\tau$ intervendra las constante $G^\\tau_F$ en la corriente tauónica y $G^e_F$ en la eléctrica.\n",
    "\n",
    "La anchura de desintegración parcial:\n",
    "$$\n",
    "\\Gamma (\\tau \\to e + \\bar{\\nu}_e + \\nu_\\tau) = \\frac{G^\\tau_F G^e_F m^5_\\tau}{192 \\pi^3},\n",
    "$$\n",
    "\n",
    "La anchura de desintegración total es la suma de las parciales: $\\Gamma = \\sum_i \\Gamma \\equiv 1/\\tau_\\tau$, y la fracción de desintegración, $Br$, se relaciona con la anchura total y parcial por:\n",
    "\n",
    "$$\n",
    "Br(\\tau \\to e + \\bar{\\nu}_e + \\nu_\\tau) = \\frac{\\Gamma(\\tau \\to e + \\bar{\\nu}_e + \\nu_\\tau)}{\\Gamma_\\tau} = \\tau_\\tau \\, \\Gamma(\\tau \\to e + \\bar{\\nu}_e + \\nu_\\tau)\n",
    "$$\n",
    "\n",
    "donde $\\tau_\\tau$ es la vida media del $\\tau$.\n"
   ]
  },
  {
   "cell_type": "markdown",
   "metadata": {
    "slideshow": {
     "slide_type": "slide"
    }
   },
   "source": [
    "De la razón entre las dos anchuras, $\\Gamma(\\tau \\to e + \\bar{\\nu}_e + \\nu_\\tau)/ \\Gamma (\\mu \\to e + \\bar{\\nu}_e + \\nu_\\mu)$, nos da la relación entre $G^\\tau_F/G^\\mu_F$.\n",
    "\n",
    "$$\n",
    "\\frac{\\Gamma(\\tau \\to \\nu_\\tau + e + \\bar{\\nu}_e)}{\\Gamma(\\mu \\to \\nu_\\mu + e + \\bar{\\nu}_e)} = \\frac{\\tau_\\mu}{\\tau_\\tau} \\mathcal{Br}(\\tau \\to \\nu_\\tau + e + \\bar{\\nu}_e) = \\frac{G^\\tau_F m^5_\\tau}{G^\\mu_F m^5_\\mu}\n",
    "$$\n",
    "\n",
    "Sustituyendo por sus valores experimentales, obtenemos:\n",
    "\n",
    "$$\n",
    "\\frac{G^\\tau_F}{G^\\mu_F} = \\frac{m^5_\\mu \\tau_\\mu}{m^5_\\tau \\tau_\\tau} \\, Br(\\tau \\to e + \\bar{\\nu}_e + \\nu_\\tau) = 1.0023 \\pm 0.033\n",
    "$$\n"
   ]
  },
  {
   "cell_type": "code",
   "execution_count": 4,
   "metadata": {
    "slideshow": {
     "slide_type": "subslide"
    }
   },
   "outputs": [
    {
     "name": "stdout",
     "output_type": "stream",
     "text": [
      "Gamma ratio 1.002\n"
     ]
    }
   ],
   "source": [
    "tau_tau  = 290.6 * units.femto # s\n",
    "mass_tau = 1777  # MeV\n",
    "tau_mu   = 2.197 * units.micro # s\n",
    "mass_mu  = 105.7   # MeV\n",
    "br_tau_e = 0.178\n",
    "ratio    = (tau_mu * mass_mu**5)/(tau_tau * mass_tau**5) * br_tau_e\n",
    "print('Gamma ratio {:4.3f}'.format(ratio))"
   ]
  },
  {
   "cell_type": "markdown",
   "metadata": {
    "slideshow": {
     "slide_type": "slide"
    }
   },
   "source": [
    "La constande de Fermi es común a todos los dos vértices de las corrientes cargadas entre leptones:\n",
    "\n",
    "$$\n",
    "G_F = 1.166 \\, 10^{-5} \\;\\; \\mathrm{GeV}^{-2}.\n",
    "$$\n",
    "\n",
    "La constante de Fermi esta relacionada con el intensidad del acoplo $g_W$ del modelo estandar por:\n",
    "\n",
    "$$\n",
    "\\frac{G_F}{\\sqrt{2}} = \\frac{g^2_W}{8 m^2_W},\n",
    "$$\n",
    "\n",
    "donde $m_W = 80.385 \\pm 0.015$ GeV es la masa del $W$."
   ]
  },
  {
   "cell_type": "markdown",
   "metadata": {
    "slideshow": {
     "slide_type": "subslide"
    }
   },
   "source": [
    "*Cuestión*: A partir de las anchura de desintegración $\\Gamma(\\tau \\to \\mu + \\nu_\\mu + \\bar{\\nu}_\\tau)$ y $\\Gamma(\\tau \\to e + \\nu_e + \\bar{\\nu}_\\tau)$ calcular $G^e_F/G^\\mu_F$. La desviación respecto de la unidad se compensa con un factor de espacio de fase."
   ]
  },
  {
   "cell_type": "markdown",
   "metadata": {
    "slideshow": {
     "slide_type": "slide"
    }
   },
   "source": [
    "## Características de las interacciones débiles\n"
   ]
  },
  {
   "cell_type": "markdown",
   "metadata": {
    "slideshow": {
     "slide_type": "slide"
    }
   },
   "source": [
    "### Violación de Paridad\n",
    "\n",
    "En 1957 Ms Wu y colaboradores descubrieron que las corrientes cargadas no conservan paridad. \n",
    "\n",
    "| |\n",
    "| :-- |\n",
    "| <img src=\"./imgs/leptons_Co_scheme.jpeg\" width = 200 align = \"center\"> |\n",
    "|Esquema de la desintegración $\\beta$ del $^{60}$Co polarizado|\n",
    "\n",
    "$$\n",
    "^{60}\\mathrm{Co} \\to ^{60}\\mathrm{Ni}^* + e + \\bar{\\nu}_e.\n",
    "$$\n",
    "\n",
    "En el experimento se estudiaba la distribución de la dirección de los electrones emitidos en desintegración $\\beta$ del $^{60}$Co polarizado con un campo magnético y a baja temperatura."
   ]
  },
  {
   "cell_type": "markdown",
   "metadata": {
    "slideshow": {
     "slide_type": "slide"
    }
   },
   "source": [
    "| | \n",
    "| :--: | \n",
    "| <img src=\"./imgs/leptons_Co_spins.png\" width = 400 align = \"center\"> | <\n",
    "|Esquema de la desintegración $\\beta$ del $^{60}$Co polarizado|\n",
    "\n",
    "El nucleo de $^{60}$Co tiene un momento magnético ${\\bf \\mu}$, dado por su espín, ${\\bf S}$, alineado en la dirección de un campo magnético ${\\bf B}$. \n",
    "\n",
    "Tanto ${\\bf B}$, como ${\\bf \\mu}$ son vectores axiales (no cambian bajo paridad) mientras que el momento, ${\\bf p}$ del electrón sí por ser un vector.\n",
    "\n",
    "*Nota* En la figura no se dibuja el neutrino que se emite en la desintegración $\\beta$."
   ]
  },
  {
   "cell_type": "markdown",
   "metadata": {
    "slideshow": {
     "slide_type": "slide"
    }
   },
   "source": [
    "| | \n",
    "| :--: | \n",
    "| <img src=\"./imgs/leptons_Co_results.png\" width = 360 align = \"center\"> |\n",
    "| Razón de detección de $e$ en función del tiempo y la polarización de ${\\bf B}$ [WU]|\n",
    "\n",
    "\n",
    "Los electrones se emitieron con preferencia en el hemisferio opuesto a la dirección de ${\\bf B}$ y no en la misma razón como cabría esperar si la paridad se conservase. \n",
    "\n",
    "**Los corrientes cargadas violan paridad**"
   ]
  },
  {
   "cell_type": "markdown",
   "metadata": {
    "slideshow": {
     "slide_type": "slide"
    }
   },
   "source": [
    "#### Paridad\n",
    "\n",
    "La paridad es la operación, ${\\hat P}$ que transforma ${\\bf x} \\to - {\\bf x}$, esto es: \n",
    "\n",
    "$$\n",
    "{\\hat P} \\, \\Psi({\\bf x}, t) = \\Psi(-{\\bf x}, t)\n",
    "$$\n",
    "\n",
    "Propiedades bajo paridad\n",
    "\n",
    "|        | Rango | Paridad | Ejemplo |\n",
    "|:--     | --    | -- | :-- |\n",
    "| scalar | 0     | +1 | temperatura |\n",
    "|pseudo-scalar| 0 | -1 | helicidad |\n",
    "| vector | 1 | -1   | momento |\n",
    "|axial-vector | 1 | +1 | momento angular | \n",
    "\n"
   ]
  },
  {
   "cell_type": "markdown",
   "metadata": {
    "slideshow": {
     "slide_type": "subslide"
    }
   },
   "source": [
    "#### La corrientes bajo paridad\n",
    "\n",
    "En la representación Pauli-Dirac, la operación paridad $\\hat{P} = \\gamma^0$\n",
    "\n",
    "La corriente de probabilidad $j^\\mu = \\bar{\\Psi} \\gamma^\\mu \\Psi \\to {\\bar \\Psi} \\gamma^0 \\gamma^\\mu \\gamma^0 \\Psi$ bajo paridad cambia:\n",
    "\n",
    "$$\n",
    "\\hat{P} \\, j^\\mu = (j^0, -{\\bf j}^k)\n",
    "$$\n",
    "\n",
    "dado que:\n",
    "$$\n",
    "\\gamma^0 \\gamma^k = - \\gamma^k \\gamma^0\n",
    "$$\n",
    "\n",
    "donde $k = 1, 2, 3$\n",
    "\n",
    "Pero el acoplo entre dos corrientes no cambia bajo paridad:\n",
    "\n",
    "$$\n",
    "j^\\mu g_{\\mu\\nu}j'^\\mu\n",
    "$$\n"
   ]
  },
  {
   "cell_type": "markdown",
   "metadata": {
    "slideshow": {
     "slide_type": "slide"
    }
   },
   "source": [
    "**Las interacciones electromagnéticas y fuertes conservan paridad.**\n",
    "\n",
    "| |\n",
    "| :-- |\n",
    "<img src=\"./imgs/feynman_eq_QED_scatter.png\" width = 220 align = \"center\">\n",
    "|Dispersión electromagnética de un $e$ y un $q$|\n",
    "\n",
    "El elemento de matriz de la dispersión $e + q \\to e + q$, mediado por un fotón viene dado por:\n",
    "\n",
    "$$\n",
    "\\mathcal{M}_{fi} = \\frac{Q_q e^2}{q^2} j^\\mu_e g_{\\mu\\nu}j^{\\nu}_{q}, \\;\\;\\; j^\\mu_e = {\\bar u}(p_c) \\gamma^\\mu u(p_a), \\;\\;\\; j^\\nu_q = {\\bar u}(p_d) \\gamma^\\nu u(p_b)\n",
    "$$\n",
    "\n",
    "donde $q^2$ es el cuadri-momento transferido, $p_c, p_a$ el cuadri-momento del electrón de salida y entrada, $p_d, p_b$ el cuadri-momento de salida y entrada del quark y $Q_q$ la carga eléctrica del quark.\n",
    "\n",
    "Notar que el acoplo de las dos corrientes $j^{\\mu_e} g_{\\mu\\nu}j^{\\nu}_ q$ es invariante bajo paridad."
   ]
  },
  {
   "cell_type": "markdown",
   "metadata": {
    "slideshow": {
     "slide_type": "slide"
    }
   },
   "source": [
    "**Las corrientes cargadas violan maximalmente paridad**\n",
    "\n",
    "La forma más genérica de las corrientes puede darse por, $ {\\bar \\Psi} \\, \\Gamma \\, \\Psi $, donde $\\Gamma$ es una matrix $4 \\times 4$ construida con la matrices de Dirac.\n",
    "\n",
    "Solo existen cinco posibilidades de $\\gamma$ que preserven la invarianza Lorentz del elemento de matriz. \n",
    "\n",
    "|        | -------- Forma -------- | Componentes | Spin |\n",
    "|:--     | :--:    | :--: | :--: |\n",
    "| scalar | ${\\bar \\Psi} \\Psi$   | 1 | 0 |\n",
    "|pseudo-scalar|  ${\\bar \\Psi} \\gamma^5 \\Psi$  | 1 | 0|\n",
    "| vector | ${\\bar \\Psi} \\gamma^\\mu \\Psi$  | 4   | 1 |\n",
    "|pseudo-vector | ${\\bar \\Psi} \\gamma^\\mu \\gamma^5 \\Psi$ | 4 | 1 | \n",
    "|tensor | ${\\bar \\Psi} (\\gamma^\\mu\\gamma^\\nu - \\gamma^\\nu \\gamma^\\mu) \\Psi$ | 6 | 2 | \n",
    "\n"
   ]
  },
  {
   "cell_type": "markdown",
   "metadata": {
    "slideshow": {
     "slide_type": "slide"
    }
   },
   "source": [
    "| |\n",
    "| :-- |\n",
    "<img src=\"./imgs/leptons_espectrum_mudecay.png\" width = 300 align = \"center\">\n",
    "|Espectro del electrón en $\\mu$ decays, la línea es la teoría V-A [MU]|\n",
    "\n",
    "A partir del estudio de las desintegraciones de los muones podemos determinar las $\\Gamma$ que intervienen en el acoplo de las corrientes\n"
   ]
  },
  {
   "cell_type": "markdown",
   "metadata": {
    "slideshow": {
     "slide_type": "slide"
    }
   },
   "source": [
    "\n",
    "La $\\Gamma$ que refleja la violación de paridad medida en desintegraciones de muones es:\n",
    "\n",
    "$$\n",
    "\\gamma^\\mu \\frac{1}{2}(I - \\gamma^5)\n",
    "$$\n",
    "\n",
    "La corriente $j^\\mu_V = {\\bar \\Psi} \\gamma^\\mu \\Psi$ es **vectorial** porque cambia como un vector frente a paridad. \n",
    "\n",
    "\n",
    "La corriente $j^\\mu_A = {\\bar \\Psi} \\gamma^\\mu \\gamma^5 \\Psi$ es **axial** porque cambia como un axial-vector frente a paridad. \n",
    "\n",
    "Decimos que las corrientes cargadas tienen una **estructura $V-A$**."
   ]
  },
  {
   "cell_type": "markdown",
   "metadata": {
    "slideshow": {
     "slide_type": "slide"
    }
   },
   "source": [
    "En el caso de una interaciones débiles cargadas, las corrientes asociadas son:\n",
    "    \n",
    "$$\n",
    "\\frac{g_W}{\\sqrt{2}} \\bar{\\Psi}(p_c) \\gamma^\\mu \\frac{1}{2}(I - \\gamma^5) \\Psi(p_a), \\;\\;\\;\n",
    "\\frac{g_W}{\\sqrt{2}} \\bar{\\Psi}(p_d) \\gamma^\\mu \\frac{1}{2}(I - \\gamma^5) \\Psi(p_b), \n",
    "$$\n",
    "\n",
    "El elemento de matriz queda:\n",
    "\n",
    "$$\n",
    "\\mathcal{M}_{fi} = \\frac{g^2_W}{2 m^2_W} \\left[ \\bar{\\Psi}(p_c) \\gamma^\\mu \\frac{1}{2}(I - \\gamma^5) \\Psi(p_a) \\right] g_{\\mu\\nu} \\left[\\bar{\\Psi}(p_d) \\gamma^\\nu \\frac{1}{2}(I - \\gamma^5) \\Psi(p_b) \\right],\n",
    "$$\n",
    "donde $m_W$ es la masa del $W$ y $g_W$ la intensidad de acoplo de las corrientes cargadas, cuando el momento transferido $q$ cumple $q^2 \\ll m^2_W$."
   ]
  },
  {
   "cell_type": "markdown",
   "metadata": {
    "slideshow": {
     "slide_type": "slide"
    }
   },
   "source": [
    "El diagrama de Feynman de la desintegración del muón, en el que cada partícula tiene asociado su cuadri-momento, por ejemplo, el $\\mu$ tiene $p_a$ de cuadri-momento inicial.\n",
    "\n",
    "| |\n",
    "| :-- |\n",
    "<img src=\"./imgs/feynman_mudecay_CC.png\" width = 250 align = \"center\">\n",
    "|Diagrama de Feynman de la desintegración del $\\mu$|\n",
    "\n",
    "El elemento de matriz será:\n",
    "\n",
    "$$\n",
    "\\mathcal{M}_{fi} = \\frac{g^2_W}{2 m^2_W} \\left[ \\bar{u}(p_c) \\gamma^\\mu \\frac{1}{2}(I - \\gamma^5) u(p_a) \\right] g_{\\mu\\nu} \\left[\\bar{u}(p_d) \\gamma^\\nu \\frac{1}{2}(I - \\gamma^5) v(p_b) \\right].\n",
    "$$\n"
   ]
  },
  {
   "cell_type": "markdown",
   "metadata": {
    "slideshow": {
     "slide_type": "slide"
    }
   },
   "source": [
    "En las corrientes V-A aparece un factor: \n",
    "$$\n",
    "\\frac{1}{2} (I-\\gamma^5)\n",
    "$$\n",
    "\n",
    "que actua sobre el espinor de Dirac:\n",
    "\n",
    "$$\n",
    "\\Psi_L = \\frac{1}{2}(I - \\gamma^5) \\, \\Psi\n",
    "$$\n",
    "\n",
    "haciendo que solo una parte del espinor de Dirac, $\\Psi_L$, que llamamos de **quiralidad a izquierdas**, participe en las corrientes cargadas débiles.\n"
   ]
  },
  {
   "cell_type": "markdown",
   "metadata": {
    "slideshow": {
     "slide_type": "slide"
    }
   },
   "source": [
    "#### Inciso: proyectores de Quiralidad\n",
    "\n",
    "Los siguientes proyectores:\n",
    "\n",
    "$$\n",
    "P_R = \\frac{1}{2} (I + \\gamma^5), \\;\\;\\, P_L = \\frac{1}{2} (I - \\gamma^5)\n",
    "$$\n",
    "\n",
    "Se denominan de quiralidad a derechas e izquierdas cuando se aplican a los espinores de dirac de fermiones.\n",
    "\n",
    "De tal forma que un **espinor de Dirac** se descompone en dos proyecciones, **quiralidad a izquierdad y derechas**:\n",
    "\n",
    "$$\n",
    "\\Psi_R = P_R \\, \\Psi, \\;\\;\\; \\Psi_L = P_L \\, \\Psi, \\;\\;\\; \\Psi = (P_R + P_L) \\, \\Psi = P_R \\Psi + P_L \\Psi = \\Psi_R + \\Psi_L\n",
    "$$\n",
    "\n",
    "La quiralidad es una propiedad matemática.\n",
    "\n",
    "Es fácil comprobar a partir de las proiedades de la $\\gamma^5$ que $P_R, \\, P_L$ cumplen las condiciones de proyectores:\n",
    "\n",
    "$$\n",
    "P_R + P_L = I, \\;\\; P^2_R = P_R, \\;\\;, P^2_L = P_L, \\;\\; P_L P_R = P_R P_L = 0\n",
    "$$"
   ]
  },
  {
   "cell_type": "markdown",
   "metadata": {
    "slideshow": {
     "slide_type": "subslide"
    }
   },
   "source": [
    "La **transformación paridad** $\\hat{P} = \\gamma^0$ cambia los proyectores de quiralidad\n",
    "\n",
    "$$\n",
    "\\hat{P} P_L = \\gamma^0 \\frac{1}{2}(1 - \\gamma^5) = \\frac{1}{2} (1+\\gamma^5) \\gamma^0 = P_R \\hat{P}\n",
    "$$\n",
    "\n",
    "Esto es, **convierte la quiralidad de derechas a izquierdad y viceversa**.\n",
    "\n",
    "\n",
    "*Nota*: *Desafortunadamente* se denomina a la proyección de los espinores $v$ de los anti-fermiones con $P_L$ de *derechas* y con $P_R$ de *izquierdas*, así pues:\n",
    "    \n",
    "$$\n",
    "\\frac{1}{2}(1 - \\gamma^5) \\, v = v_R, \\;\\; \\frac{1}{2} (1 + \\gamma^5) \\, v = v_L\n",
    "$$"
   ]
  },
  {
   "cell_type": "markdown",
   "metadata": {
    "slideshow": {
     "slide_type": "subslide"
    }
   },
   "source": [
    "\n",
    "En la representación de Pauli-Dirac son simplemente:\n",
    "\n",
    "$$\n",
    "P_R = \\frac{1}{2}\\begin{pmatrix} I & I \\\\ I & I \\end{pmatrix}, \\;\\;\\;\n",
    "P_L = \\frac{1}{2}\\begin{pmatrix} I & -I \\\\ -I & I \\end{pmatrix},\n",
    "$$\n",
    "\n",
    "\n",
    "Sean los espinores de helicidad con ${\\bf p} = p \\hat{k}$ en la dirección $z$:\n",
    "\n",
    "$$\n",
    "u_{+} = N \\begin{pmatrix} 1 \\\\ 0 \\\\ \\kappa  \\\\ 0 \\end{pmatrix}, \\;\n",
    "u_{-} = N \\begin{pmatrix} 0 \\\\ 1 \\\\ 0 \\\\ -\\kappa  \\end{pmatrix}, \\;\n",
    "v_{+} = N \\begin{pmatrix} 0 \\\\ -\\kappa  \\\\ 0 \\\\ 1 \\end{pmatrix}, \\;\n",
    "v_{-} = N \\begin{pmatrix} \\kappa  \\\\ 0 \\\\ 1 \\\\ 0 \\end{pmatrix}. \n",
    "$$\n",
    "donde $N$ es un factor de normalización y : \n",
    "$$\n",
    "\\kappa = \\frac{p}{E+m}\n",
    "$$\n"
   ]
  },
  {
   "cell_type": "markdown",
   "metadata": {
    "slideshow": {
     "slide_type": "subslide"
    }
   },
   "source": [
    "Si aplicamos los proyectores de quiralidad sobre los espinores $u_{\\pm}$ de helicidad, obtenemos:\n",
    "\n",
    "$$\n",
    "P_R \\, u_+ = \\frac{1}{2}(1+\\kappa) N \\begin{pmatrix} 1 \\\\ 0 \\\\ 1  \\\\ 0 \\end{pmatrix}, \\;\\;\\;\n",
    "P_L \\, u_+ = \\frac{1}{2}(1-\\kappa) N \\begin{pmatrix} 1 \\\\ 0 \\\\ -1  \\\\ 0 \\end{pmatrix}, \\\\\n",
    "P_R \\, u_- = \\frac{1}{2}(1-\\kappa) N \\begin{pmatrix} 0 \\\\ 1 \\\\ 0  \\\\ 1 \\end{pmatrix}, \\;\\;\\;\n",
    "P_L \\, u_- = \\frac{1}{2}(1+\\kappa) N \\begin{pmatrix} 0 \\\\ 1 \\\\ 0  \\\\ -1 \\end{pmatrix}, \\;\\;\\;\n",
    "$$\n"
   ]
  },
  {
   "cell_type": "markdown",
   "metadata": {
    "slideshow": {
     "slide_type": "subslide"
    }
   },
   "source": [
    "Así tenemos la tabla que nos relaciona quiralidad con helicidad:\n",
    "\n",
    "| helicidad $\\downarrow$ \\ quiralidad  $\\rightarrow$| --- R --- | --- L --- |\n",
    "| :--: | :--: | :--: | \n",
    "| + | $\\frac{1}{2}(1+\\kappa)$ | $\\frac{1}{2}(1-\\kappa)$ |\n",
    "| - | $\\frac{1}{2}(1-\\kappa)$ | $\\frac{1}{2}(1+\\kappa)$ |\n",
    "| en los acoplos con el $W$  | anti-fermiones, $v_R$     | fermiones, $u_L$ |\n",
    "\n",
    "En la interacciones débiles cargadas solo participan los espinores $u_L$ (la columna de la derecha).\n",
    "\n",
    "Si repitiésemos los cálculos para los espinores $v_R$ obtendríamos los mismos coeficientes. En las corrientes débiles entraría la parte $v_R$ que correpondería a la columna de la derecha.\n"
   ]
  },
  {
   "cell_type": "markdown",
   "metadata": {
    "slideshow": {
     "slide_type": "subslide"
    }
   },
   "source": [
    "\n",
    "Para el caso de partículas sin masa o ultra-relativistas, $m \\ll E$, donde $(\\kappa = 1)$:\n",
    "\n",
    "| helicidad $\\downarrow$ \\ quiralidad  $\\rightarrow$ | --- R --- | --- L --- |\n",
    "| :--: | :--: | :--: | \n",
    "| + | 1 | 0 |\n",
    "| - | 0 | 1 |\n",
    "| en los acoplos con el $W$    | anti-fermiones, $v_R$     | fermiones, $u_L$ |\n",
    "\n",
    "**Solo para partículas sin masa o ultra-relativistas, la quiralidad y la helicidad coinciden**.\n",
    "\n",
    "En ese caso en las corrientes cargadas débiles solo participan los espinores de los fermiones $u_-$ con helicidad negativa y de los antifermiones $v_+$ con helicidad positiva.\n"
   ]
  },
  {
   "cell_type": "markdown",
   "metadata": {
    "slideshow": {
     "slide_type": "slide"
    }
   },
   "source": [
    "### Quiralidad \n",
    "\n",
    "Podemos re-interpretar **la estructura V-A** de las corrientes cargadas, donde aparecen el proyector de quiralidad, $P_L$, como que las corrientes cargadas solo afectan a las **partículas de quiralidad a izquierdas** y **anti-partículas de quiralidad a derechas**.\n",
    "\n",
    "$$\n",
    "\\mathcal{M}_{fi} = \\frac{g^2_W}{2 m^2_W} \\left[ \\bar{\\Psi}_L(p_c) \\gamma^\\mu \\Psi_L(p_a) \\right] g_{\\mu\\nu} \\left[\\bar{\\Psi}_L(p_d) \\gamma^\\nu \\Psi_L(p_b) \\right].\n",
    "$$\n",
    "\n",
    "En el caso de la desintegración del $\\mu$:\n",
    "\n",
    "$$\n",
    "\\mathcal{M}_{fi} = \\frac{g^2_W}{2 m^2_W} \\left[ \\bar{u}_L(p_c) \\gamma^\\mu u_L(p_a) \\right] g_{\\mu\\nu} \\left[\\bar{u}_L(p_d) \\gamma^\\mu v_R(p_b) \\right].\n",
    "$$\n",
    "\n",
    "*Nota:* Para más información ver la sección dedicada a la quiralidad en el [apéndide-Dirac].\n"
   ]
  },
  {
   "cell_type": "markdown",
   "metadata": {
    "slideshow": {
     "slide_type": "slide"
    }
   },
   "source": [
    "### Helicidad del neutrino\n",
    "\n",
    "En 1957 Goldhaber y colaboradores midieron la helicidad del neutrino, que resultó ser negativa, en Brookhaven, NY.\n",
    "\n",
    "| |\n",
    "| :-- |\n",
    "<img src=\"./imgs/leptons_goldhaber_experiment.png\" width = 200 align = \"center\">\n",
    "|Esquema del experimento de Goldhaber [GOL]|\n",
    "\n",
    "$$\n",
    "^{152}\\mathrm{Eu}(J = 0) + e \\to ^{152}\\mathrm{Sm}^*(J = 1) + \\nu_e \\to ^{150}\\mathrm{Sm}(J =0) + \\gamma\n",
    "$$\n"
   ]
  },
  {
   "cell_type": "markdown",
   "metadata": {
    "slideshow": {
     "slide_type": "slide"
    }
   },
   "source": [
    "La dirección $z$ es la \"vertical\" definida por el eje del campo ${\\bf B}$.\n",
    "\n",
    "El campo ${\\bf B}$ polariza el electrón de la captura de $^{152}$Eu arriba o abajo, $S_z(e) = \\pm 1/2$ dependiendo de la orientación del campo. \n",
    "\n",
    "El neutrino sale en la dirección vertical arriba y se seleccionan los fotones que salen hacia abajo. \n",
    "\n",
    "De tal forma que la tercera componente del spín $\\pm 1/2$ se mantiene.\n",
    "\n",
    "La helicidad del neutrino es la del fotón."
   ]
  },
  {
   "cell_type": "markdown",
   "metadata": {
    "slideshow": {
     "slide_type": "slide"
    }
   },
   "source": [
    "Se cambia la polaridad del campo ${\\bf B}$, y se determina el número de fotones. Si se producen neutrinos con las dos helicidades independientemente de la polaridad de ${\\bf B}$ se medirán el mismo número de fotones.\n",
    "\n",
    "| |\n",
    "| :-- |\n",
    "<img src=\"./imgs/leptons_goldhaber_spins.png\" width = 200 align = \"center\">\n",
    "|helicidades en el experimento de Goldhaber|\n"
   ]
  },
  {
   "cell_type": "markdown",
   "metadata": {
    "slideshow": {
     "slide_type": "slide"
    }
   },
   "source": [
    "\n",
    "La siguiente tabla muestra las dos posibilidades de espín y helicidades posibles en el experimento de Goldhaber.\n",
    "\n",
    "| - $S_z(e)$ -  | - $S_z(\\nu)$ - | - $S_z(\\gamma)$ - | - $h(\\nu)$ - | - $h(\\gamma)$ -|  observación |\n",
    "| --        | --        | --            |:--           | :--         | -- |\n",
    "| &nbsp; 1/2  &nbsp; | &nbsp; -1/2  &nbsp; | &nbsp;&nbsp;&nbsp; 1 &nbsp;&nbsp;&nbsp; | &nbsp;&nbsp; -  &nbsp;&nbsp;&nbsp; | &nbsp;&nbsp; - &nbsp;&nbsp;&nbsp;     |  si|\n",
    "| &nbsp; -1/2  &nbsp; | &nbsp; 1/2  &nbsp; | &nbsp;&nbsp; -1 &nbsp;&nbsp;&nbsp; | &nbsp;&nbsp;+   &nbsp;&nbsp;&nbsp; | &nbsp;&nbsp; + &nbsp;&nbsp;&nbsp;     |  no|\n",
    "\n",
    "Solo se realiza la segunda en la Naturaleza. No se observaron fotones con helicidad (+) solo (-).\n",
    "\n",
    "Por lo tanto **Los neutrinos tienen helicidad negativa**. Lo que también verifica la estructura V-A de las corrientes cargadas."
   ]
  },
  {
   "cell_type": "markdown",
   "metadata": {
    "slideshow": {
     "slide_type": "slide"
    }
   },
   "source": [
    "### La masa del neutrino\n",
    "\n",
    "\n",
    "La masa del neutrino no se ha medido, se establece su límite, $\\lt 1$ eV, con la forma final del espectro de energía de los electrones en desintegración $\\beta$ del tritio,\n",
    "\n",
    "$$\n",
    "^3\\mathrm{H} \\to ^3\\mathrm{He} + e + \\bar{\\nu}_e,\n",
    "$$\n",
    "que debería verse reducido por la masa del neutrino.\n",
    "\n",
    "| |\n",
    "| :-- |\n",
    "<img src=\"./imgs/leptons_numass_tritium.jpeg\" width = 500 align = \"center\">\n",
    "|Espectro del electrón en un decay de tritio si el nuetirno tiene masa $\\sim$ 1 eV|\n",
    "\n",
    "El experimento actual es [KATRIN] que busca $m_{\\nu_e} < 0.2$ eV.\n",
    "\n"
   ]
  },
  {
   "cell_type": "markdown",
   "metadata": {
    "slideshow": {
     "slide_type": "slide"
    }
   },
   "source": [
    "**El Modelo Estandar postulaba que el neutrino no tiene masa**. En todo caso su masa es ridículamente pequeña comparada con sus energías.\n",
    "\n",
    "Los neutrinos solo interaccionan débilmente, y **en las interacciones débiles solo intervienen las proyecciones a izquierdas**, esto es $u_L$ y $v_R$. **Solo son reales esos dos espinores** para el neutrino:\n",
    "\n",
    "$$\n",
    "u_L = u_-, \\;\\;\\; v_R = v_+\n",
    "$$\n",
    "\n",
    "En términos de la conjunción de Carga y Paridad encontramos\n",
    "\n",
    "| |      |  $\\hat{P}$| |\n",
    "| :--: | :--: | :--: | :-- |\n",
    "|  | $\\nu_L$| $\\Rightarrow$ | $\\nu_R$  (no existe)|\n",
    "| $\\hat{C}$ | $\\Downarrow$|  |  $\\Downarrow$|\n",
    "|  | $\\bar{\\nu}_L$ (no existe) | $\\Rightarrow$| $\\bar{\\nu}_R$ \n",
    "\n",
    "**La fuerza débil viola de forma máxima paridad, $P$, y conjugación de carga, $C$, pero no $CP$**.\n"
   ]
  },
  {
   "cell_type": "markdown",
   "metadata": {
    "slideshow": {
     "slide_type": "slide"
    }
   },
   "source": [
    "Dado que **el neutrino**:\n",
    "\n",
    "  * **tiene masa compatible con nula**.\n",
    "  \n",
    "  * **la helicidad es negativa** (para el anti-neutrino positiva).\n",
    "  \n",
    "**El Modelo Estandard postulaba** que los neutrinos **no tienen masa**, solo existen en **quiralidad a izquierdas**, y el antineutrino con quiralidad a derechas, \n",
    "\n",
    "$$\n",
    "\\nu_L, \\;\\;\\; {\\bar \\nu}_R.\n",
    "$$ \n"
   ]
  },
  {
   "cell_type": "markdown",
   "metadata": {
    "slideshow": {
     "slide_type": "slide"
    }
   },
   "source": [
    "**Las corrientes cargadas en leptones violan paridad, P, y carga, C; pero preservan CP**\n",
    "\n",
    "| |\n",
    "| -- |\n",
    "<img src=\"./imgs/leptons_escher_CP.png\" width = 450 align = \"center\">\n",
    "|Efecto de aplicar paridad (reflejo, izquierda-derecha) y carga (invertir grises, arriba-abajo)|\n"
   ]
  },
  {
   "cell_type": "markdown",
   "metadata": {
    "slideshow": {
     "slide_type": "slide"
    }
   },
   "source": [
    "### Reinterpretación del experimento de Ms. Wu\n",
    "\n",
    "Ahora podemos entender por qué los electrones de la desintegración $\\beta$ del experimento de Ms Wu salían hacia atrás respecto el campo ${\\bf B}$ y al espín ${\\bf J}$ del núcleo.\n",
    "\n",
    "En la desintegración, un núcleo $^{60}$Co con $J = 5$ se convierte en $^{60}$Ni con $J=4$. En ambos casos los espines están orientados con el campo ${\\bf B}$. Los núcleos ceden un espín $\\Delta J=1$. \n",
    "\n",
    "En la siguiente figura muestra las posibles combinaciones de espín del $e, \\bar{\\nu}_e$ para dar $\\Delta J = 1$, imponiendo que la helicidad del $\\bar{\\nu}_e$ solo puede ser positiva.\n",
    "\n",
    "| |\n",
    "| -- |\n",
    "<img src=\"./imgs/leptons_dibujo_Wu_helicities.png\" width = 200 align = \"center\">\n",
    "| helicidades en el experimento de Ms. Wu|\n"
   ]
  },
  {
   "cell_type": "markdown",
   "metadata": {
    "slideshow": {
     "slide_type": "slide"
    }
   },
   "source": [
    "### Desintegración del pión\n",
    "\n",
    "| |\n",
    "| -- |\n",
    "<img src=\"./imgs/feynman_pion_decay.png\" width = 300 align = \"center\">\n",
    "|Diagrama de Feynman de $\\pi^+ \\to l^+ + \\nu_l$|\n",
    "\n",
    "La desintegración del pión $\\pi^+ \\to l^+ \\nu_l$ ejemplifica los efectos de la estructura V-A de las corrientes cargadas.\n",
    "\n",
    "La razón de las anchuras de desintegración a $l = \\mu, e$ medida es:\n",
    "\n",
    "$$\n",
    "\\frac{\\Gamma(\\pi^+ \\to e^+ + \\nu_e)}{\\Gamma(\\pi^+ \\to \\mu^+ + \\nu_\\mu)} = 1.230 \\pm 0.004 \\; 10^{-4}\n",
    "$$\n",
    "\n",
    "Sin embargo el espacio fásico disponible para el $e$ es mayor que el del $\\mu$ dado que la razón entre ellos viene dada por $p^*_e/p^*_\\mu$. "
   ]
  },
  {
   "cell_type": "markdown",
   "metadata": {
    "slideshow": {
     "slide_type": "subslide"
    }
   },
   "source": [
    "**C**uestión: Calcula $p^*_l, E^*_l$ en el CM.\n",
    "\n",
    "**C**uestión: Calcula la razón entre el $p^*_e/p^*_\\mu$."
   ]
  },
  {
   "cell_type": "markdown",
   "metadata": {
    "slideshow": {
     "slide_type": "slide"
    }
   },
   "source": [
    "| |\n",
    "| :-- |\n",
    "<img src=\"./imgs/leptons_piondecay_spins.png\" width = 300 align = \"center\">\n",
    "|Momento y spin de $\\pi^+ \\to l^+ + \\nu_l$ en el CM|\n",
    "\n",
    "Si consideramos el CM. El $\\pi^+$ tiene $J= 0$, el neutrino, $\\nu_l$ tiene helicidad (-), y para conservar $J$, $l^+$ debe tener helicidad (-), pero solo la proyección con quiralidad a derechas del $l^+$ interviene en la desintegración.\n",
    "\n",
    "Sabemos que el espinor $v_-$ helicidad (-) tiene como coeficiente de quiralidad a derechas:\n",
    "\n",
    "$$\n",
    "\\frac{1}{2}(1-\\kappa) = \\frac{1}{2}\\left(1 - \\frac{p_l}{E_l + m_l} \\right)\n",
    "$$ \n"
   ]
  },
  {
   "cell_type": "markdown",
   "metadata": {
    "slideshow": {
     "slide_type": "slide"
    }
   },
   "source": [
    "\n",
    "En el CM\n",
    "$$\n",
    "E_l = \\frac{m^2_\\pi + m^2_l}{2 m_\\pi}, \\; \\; p_l = \\frac{m^2_\\pi - m^2_l}{2 m_\\pi}, \\;\\;\n",
    "\\frac{1}{2}(1-\\kappa) = \\frac{1}{2}\\left(1 - \\frac{p_l}{E_l + m_l} \\right)= \\frac{m_l}{m_\\pi + m_l}\n",
    "$$\n",
    "\n",
    "El $\\mu$ no es relativista, $\\beta = 0.27$, pero sí el electrón, $\\beta = 0.99997$. \n",
    "\n",
    "El factor $(1-\\kappa)/2$ es mucho más pequeño para $e$ que para el $\\mu$.\n",
    "\n",
    "El factor asociado a las proyecciones a derechas entre el $e$ y $\\mu$, será:\n",
    "\n",
    "$$\n",
    "\\frac{m^2_e}{m^2_\\mu} \\frac{(m_\\pi + m_e)^2}{(m_\\pi + m_\\mu)^2}\\sim 7 \\, 10^{-5}\n",
    "$$"
   ]
  },
  {
   "cell_type": "code",
   "execution_count": 5,
   "metadata": {
    "slideshow": {
     "slide_type": "subslide"
    }
   },
   "outputs": [
    {
     "name": "stdout",
     "output_type": "stream",
     "text": [
      " beta mu   = 0.270970   , beta   e = 0.999973    \n",
      " energy mu = 109.767 MeV, energy e = 69.756 MeV\n"
     ]
    }
   ],
   "source": [
    "mpi = 139.51  # MeV\n",
    "mmu = 105.66  # MeV\n",
    "me  =   0.511 # MeV\n",
    "ene_cm = lambda ml : (mpi**2 + ml**2)/(2*mpi)\n",
    "p_cm   = lambda ml : (mpi**2 - ml**2)/(2*mpi)\n",
    "a_R    = lambda ml : (1 - p_cm(ml)/(ene_cm(ml) + ml))/2\n",
    "\n",
    "beta_mu, beta_e = p_cm(mmu)/ene_cm(mmu), p_cm(me)/ene_cm(me)\n",
    "print(' beta mu   = {:7.6f}   , beta   e = {:7.6f}    '.format(beta_mu, beta_e))\n",
    "print(' energy mu = {:5.3f} MeV, energy e = {:5.3f} MeV'.format(ene_cm(mmu), ene_cm(me)))"
   ]
  },
  {
   "cell_type": "code",
   "execution_count": 6,
   "metadata": {
    "slideshow": {
     "slide_type": "subslide"
    }
   },
   "outputs": [
    {
     "name": "stdout",
     "output_type": "stream",
     "text": [
      " supresion por helicidad = 7.170821e-05\n",
      " espacio fásico          = 2.345194e+00\n",
      " total                   = 1.681697e-04\n"
     ]
    }
   ],
   "source": [
    "helicity_supres = a_R(me)/a_R(mmu)\n",
    "espace_phase    = p_cm(me)/p_cm(mmu)\n",
    "print(' supresion por helicidad = {:e}'.format(helicity_supres**2))\n",
    "print(' espacio fásico          = {:e}'.format(espace_phase))\n",
    "print(' total                   = {:e}'.format(espace_phase * helicity_supres**2))"
   ]
  },
  {
   "cell_type": "markdown",
   "metadata": {
    "slideshow": {
     "slide_type": "slide"
    }
   },
   "source": [
    "Distribución de la energía del espectro de electrones en las desintegraciones del $\\pi$.\n",
    "\n",
    "| |\n",
    "| :-- |\n",
    "<img src=\"./imgs/leptons_espectrum_pidecay.png\" width = 400 align = \"center\">\n",
    "|Espectro de energías del $e$ en las desintegraciones del $\\pi$ [AB]|\n"
   ]
  },
  {
   "cell_type": "markdown",
   "metadata": {
    "slideshow": {
     "slide_type": "slide"
    }
   },
   "source": [
    "## Oscilaciones de neutrinos\n",
    "\n",
    "Sabemos experimentalmente que **los neutrinos oscillan en su propagación**. \n",
    "\n",
    "Las oscilaciones **dependen de las masas** de los neutrinos. \n",
    "\n",
    "El Modelo Estandar postula que los neutrinos no tienen masas.\n",
    "\n",
    "Las oscilaciones de neutrinos son la **única prueba experimental** de que **el SM necesita revisarse** para incluir la masa de los neutrinos.\n"
   ]
  },
  {
   "cell_type": "markdown",
   "metadata": {
    "slideshow": {
     "slide_type": "slide"
    }
   },
   "source": [
    "\n",
    "### El puzzle solar\n",
    "\n",
    "En la década de los 60, el experimento de R. David en la mina de Homestake, Dakota del Sur, medió el flujo de $\\nu_e$  solares y resultaba ser $1/3$ del esperado según el modelo teórico del Sol desarrollado por J. Bahcall. \n",
    "\n",
    "Durante aproximadamente 40 años los resultados de los experimentos que medían el flujo de $\\nu_e$ solares mostraban un deficit respecto al flujo esperado según el modelo solar.\n",
    "\n",
    "En el 2004 El experimento SNO (en Canada) midió el flujo total (la suma de los flujos de los diferentes sabores) de neutrinos y verificó que estaba en acuerdo con el esperado por el modelo solar para $\\nu_e$ producidos en el Sol.\n",
    "\n",
    "Pontecorbo en los 50's adelantó que los neutrinos podrían oscilar entre sus diversos sabores.\n",
    "\n",
    "Ahora sabemos que los $\\nu_e$ que se producen en la reacciones nucleares del Sol cambian de sabor en su camino hacia la Tierra.\n",
    "\n"
   ]
  },
  {
   "cell_type": "markdown",
   "metadata": {
    "slideshow": {
     "slide_type": "slide"
    }
   },
   "source": [
    "### Neutrinos atmosféricos\n",
    "\n",
    "En 1998 el experimento Super-Kamiokande en la mina de Kamioka, Japon, medió que el flujo de $\\nu_\\mu$ producido en las interacciones de los rayos cósmicos con la atmósfera dependía de la dirección de llegada, en concreto midió que existía una asimetría arriba/abajo.\n",
    "\n",
    "Ahora sabemos que los $\\nu_\\mu$ dependiendo de la distancia recorrida se transforman de sabor a los dos otros neutrinos, pero principalmente en $\\nu_\\tau$."
   ]
  },
  {
   "cell_type": "markdown",
   "metadata": {
    "slideshow": {
     "slide_type": "slide"
    }
   },
   "source": [
    "La siguiente figura muestra el detector Super-Kamiokande. \n",
    "\n",
    "| |\n",
    "| :-- |\n",
    "<img src=\"./imgs/leptons_SK.png\" width = 450 align = \"center\">\n",
    "|Super-Kamiokande a) dibujo del detector b) principio de detección [SK, MT13.2]|\n",
    "\n",
    "SK es un tanque de agua de 50 kton, 36 m de altura y 34 de diámetro, con 11 k PMTs en las paredes.\n"
   ]
  },
  {
   "cell_type": "markdown",
   "metadata": {
    "slideshow": {
     "slide_type": "slide"
    }
   },
   "source": [
    "SK detecta las CC de neutrinos $\\nu_e \\to e + X$ o $\\nu_\\mu \\to \\mu + X$, a partir del leptón cargado. \n",
    "\n",
    "En el agua, el leptón a partir de un umbral de energía emite luz Cherenkov que se detecta en gigantescos PMTs colocados en las paredes del detector. \n",
    "\n",
    "A partir de la luz y el tiempo de de su llegada a los PMTs se determina la energía y dirección del neutrino. \n",
    "\n",
    "Se pueden distingir $e$ de $\\mu$ por los patrones de luz en los PMTs."
   ]
  },
  {
   "cell_type": "markdown",
   "metadata": {
    "slideshow": {
     "slide_type": "slide"
    }
   },
   "source": [
    "Resultados de la colaboración SK. \n",
    "\n",
    "| |\n",
    "| :-- |\n",
    "<img src=\"./imgs/leptons_SK_results.png\" width = 400 align = \"center\">\n",
    "|eventos de $\\nu_e$ (iza), $\\nu_\\mu$ detectados por SK en función del ángulo [SK]|\n"
   ]
  },
  {
   "cell_type": "markdown",
   "metadata": {
    "slideshow": {
     "slide_type": "slide"
    }
   },
   "source": [
    "En la figura, el eje $x$, correponde al $\\cos \\theta$, donde $\\theta$ es el ángulo de llegada, $\\cos \\theta = 1$ indica arriba, y $\\cos \\theta = -1$, abajo (o sea, atravesando la Tierra).\n",
    "\n",
    "Observamos:\n",
    "\n",
    " * Para los $\\nu_e$ la predicción y la observación coinciden.\n",
    "\n",
    " * Para los $\\nu_\\mu$, de multi-GeV, hay un déficit para aquellos que provienen de 'abajo'.\n",
    "\n",
    " * La línea corresponde a las predicción en caso de oscilaciones."
   ]
  },
  {
   "cell_type": "markdown",
   "metadata": {
    "slideshow": {
     "slide_type": "slide"
    }
   },
   "source": [
    "### Oscilaciones en dos familias\n",
    "\n",
    "Los neutrinos pueden oscilar si tienen difenentes masas y los estados de sabor no son los mismos que los estados de masas.\n",
    "\n",
    "Los estados de sabor son $\\nu_\\alpha$, con $\\alpha = e, \\mu, \\tau$, y los estados de masas $\\nu_i$ con masas $m_i$  donde $i = 1, 2, 3$. \n",
    "\n",
    "Consideremos por simplicidad solo dos sabores y dos masas. Los sabores serán: $\\alpha, \\beta$\n",
    "\n",
    "La relación entre estados de masas y de sabor de neutrinos viene dada por una matriz de mezcla:\n",
    "\n",
    "$$\n",
    "\\begin{pmatrix} \\nu_\\alpha \\\\ \\nu_\\beta \\end{pmatrix} = \\begin{pmatrix} \\cos \\theta & \\sin \\theta \\\\ - \\sin \\theta & \\cos \\theta \\end{pmatrix} \\begin{pmatrix} \\nu_1 \\\\ \\nu_2 \\end{pmatrix} \n",
    "$$\n"
   ]
  },
  {
   "cell_type": "markdown",
   "metadata": {
    "slideshow": {
     "slide_type": "slide"
    }
   },
   "source": [
    "Si producimos un neutrino de un determinado sabor, $\\nu_\\alpha$, en un tiempo $t_0  = 0$, con un momento $p$\n",
    "   \n",
    "$$\n",
    "| \\nu_\\alpha \\rangle = \\cos \\theta | \\nu_1 \\rangle + \\sin \\theta | \\nu_2 \\rangle\n",
    "$$\n",
    "    \n",
    "La evolución del neutrino vendrá determinada por la función de onda de partícula libre:\n",
    "\n",
    "$$\n",
    "| \\nu (t) \\rangle  = \\cos \\theta e^{+i({\\bf p x} - E_1t)}| \\nu_1 \\rangle + \\sin \\theta e^{+i({\\bf p x} - E_2t)}| \\nu_2 \\rangle\n",
    "$$\n",
    "\n",
    "donde $E_i = \\sqrt{m^2_i + p^2}$, con $i = 1, 2$\n"
   ]
  },
  {
   "cell_type": "markdown",
   "metadata": {
    "slideshow": {
     "slide_type": "slide"
    }
   },
   "source": [
    "En un determinato tiempo $t$ o equivalente a una distancia $L$ recorrida, detectamos el neutrino como sabor $\\beta$.\n",
    "\n",
    "Recordemos que las interacciones de los neutrinos tienen lugar en sus estados de sabor.\n",
    "\n",
    "Calculamos:\n",
    "\n",
    "$$\n",
    "A_{\\alpha \\beta}(t) = \\langle \\nu_\\beta | \\nu(t) \\rangle = -\\sin\\theta\\cos\\theta e^{-iE_1t} + \\sin\\theta\\cos\\theta e^{-iE_2t} \n",
    "$$\n",
    "\n",
    "recordemos que una fase global en la amplitud, en este caso $e^{i{\\bf px}}$ no afecta a la física del proceso."
   ]
  },
  {
   "cell_type": "markdown",
   "metadata": {
    "slideshow": {
     "slide_type": "slide"
    }
   },
   "source": [
    "Si operamos:    \n",
    "$$\n",
    "A_{\\alpha\\beta}(t) = \\frac{1}{2}\\sin 2 \\theta e^{-iE_1} \\left( 1 + e^{-i(E_2 - E_1)t}\\right)\n",
    "$$\n",
    "\n",
    "de nuevo la fase global $e^{-iE_1t}$ no altera la física, y si desarrollamos:\n",
    "\n",
    "$$\n",
    "E_2 - E_1 \\simeq \\frac{p}{2}  (1 + \\frac{m_2^2}{p^2}) - \\frac{p}{2}  (1 + \\frac{m_1^2}{p^2}) = \\frac{m_2^2 - m^2_1}{2p} \\simeq \\frac{\\Delta m^2_{21}}{2E}\n",
    "$$\n",
    "\n",
    "donde $\\Delta m_{21}^2 = m_2^2 - m^2_1$, y dado que $m_i \\sim 0$ aproximamos $p \\sim E$\n"
   ]
  },
  {
   "cell_type": "markdown",
   "metadata": {
    "slideshow": {
     "slide_type": "slide"
    }
   },
   "source": [
    "La probabilidad de aparición, o de oscilación, de un $\\nu_\\alpha$ como $\\nu_\\beta$ a un tiempo $t$ es:\n",
    "\n",
    "$$\n",
    "P_{\\alpha\\beta}(t) = |A_{\\alpha\\beta}|^2 = \\frac{1}{4} \\sin^2 2 \\theta (1 + e^{-i \\frac{\\Delta m^2_{21}t}{2E}}) (1 + e^{+i \\frac{\\Delta m^2_{21}t}{2E}})  \\\\\n",
    "= \\frac{1}{4} \\sin^2 2 \\theta \\left(2 - 2 \\cos \\frac{\\Delta m^2_{21}t}{2E} \\right)  \\\\\n",
    "= \\sin^2 2 \\theta \\sin^2 \\frac{\\Delta m^2_{21}t}{4E}\n",
    "$$"
   ]
  },
  {
   "cell_type": "markdown",
   "metadata": {
    "slideshow": {
     "slide_type": "slide"
    }
   },
   "source": [
    "Podemos dar la probabilidad de oscilación a una distancia $L$, que corresponde a tiempo, $t$. \n",
    "\n",
    "Notar que los experimentos se situan a una distancia $L$ de la fuente de neutrinos.\n",
    "\n",
    "$$\n",
    "P_{\\alpha\\beta}(L) = \\sin^2 2 \\theta \\sin^2 \\frac{\\Delta m^2_{21}L}{4E}\n",
    "$$\n",
    "\n",
    "Si damos unidades:\n",
    "\n",
    "$$\n",
    "P_{\\alpha\\beta}(L) = \\sin^2 2 \\theta \\sin^2 \\frac{1.27 \\Delta m^2_{21} [\\mathrm{eV}^2]L [\\mathrm{km}]}{4E[\\mathrm{GeV}]}\n",
    "$$\n",
    "\n"
   ]
  },
  {
   "cell_type": "markdown",
   "metadata": {
    "slideshow": {
     "slide_type": "slide"
    }
   },
   "source": [
    "Consideremos el caso de $\\Delta m^2 = 2 \\, 10^{-3}$ eV$^2$ y $\\theta = 47^o$\n",
    "\n",
    "Vamos a calcular la probabilidad de oscilación $P_{\\alpha\\beta}(L)$"
   ]
  },
  {
   "cell_type": "code",
   "execution_count": 7,
   "metadata": {
    "slideshow": {
     "slide_type": "fragment"
    }
   },
   "outputs": [
    {
     "data": {
      "image/png": "[encoded data removed]",
      "text/plain": [
       "<Figure size 432x288 with 1 Axes>"
      ]
     },
     "metadata": {
      "needs_background": "light"
     },
     "output_type": "display_data"
    }
   ],
   "source": [
    "theta    = np.pi * 47/180. # rad\n",
    "ls       = np.linspace(0, 2000, 100) # km\n",
    "ene      = 1. # GeV\n",
    "delta_m2 = 0.0025 # eV^2\n",
    "posc     = lambda d: np.sin(2*theta)**2 * np.sin(1.27 * delta_m2 * d / ene)**2\n",
    "plt.plot(ls, posc(ls))\n",
    "plt.grid(); plt.xlabel(r'$L$ (km)'); plt.ylabel(r'$P_{\\alpha\\beta}(L)$'); plt.ylim((0, 1.));"
   ]
  },
  {
   "cell_type": "markdown",
   "metadata": {
    "slideshow": {
     "slide_type": "slide"
    }
   },
   "source": [
    "### Oscilaciones en tres familias\n",
    "\n",
    "Como existen tres neutrinos hay dos diferencias al cuadrado de sus masas, que controlan la fase de oscilación de los neutrinos solares, $\\Delta m^2_{sol}$ y de los atmosféricos, $\\Delta m^2_{atm}$ [PDG]:\n",
    "\n",
    "$$\n",
    "\\Delta m^2_{sol} \\simeq 7.5 \\ 10^{-5} \\; \\mathrm{eV}^2, \\;\\;\\; |\\Delta m^2_{atm}| \\simeq 2.5 \\; 10^{-3} \\mathrm{eV}^2  \n",
    "$$\n",
    "\n",
    "Notar que los neutrinos son quasi-degenerados en masa."
   ]
  },
  {
   "cell_type": "markdown",
   "metadata": {
    "slideshow": {
     "slide_type": "slide"
    }
   },
   "source": [
    "La relación entre los estados de sabor $\\nu_\\alpha$ con $\\alpha = e, \\mu, \\tau$ con los estados de masas $\\nu_i$ con masas $m_i$ donde $i = 1, 2, 3$, viene dada por una matriz unitaria $U$, conocida como PMNS (Pontecorvo-Maki-Nakagawa-Sakata)\n",
    "\n",
    "La matiz $U$ tiene 3 ángulos de mezcla y una fase compleja (de forma similar a la matriz CKM).\n",
    "\n",
    "Se conocen los tres ángulos [PDG], pero no la fase compleja $\\delta$.\n",
    "\n",
    "$$\n",
    "\\theta_{sol} \\simeq 33^0, \\; \\theta_{atm} \\simeq 47^o \\; \\theta_{13} \\simeq 8^o\n",
    "$$\n",
    "\n",
    "\n"
   ]
  },
  {
   "cell_type": "markdown",
   "metadata": {
    "slideshow": {
     "slide_type": "slide"
    }
   },
   "source": [
    "### El futuro de las oscilaciones de neutrinos\n",
    "\n",
    "En la próxima década el detector Hyper-Kamiokande en Japón y DUNE en los EEUU determinaran seguramente la fase $\\delta$ y fijarán nuestra comprensión de las oscilaciones de neutrinos.\n",
    "\n",
    "HK estudiará las oscilaciones $\\nu_\\mu \\to \\nu_e$ y $\\bar{\\nu}_\\mu \\to \\bar{\\nu}_e$ con energías de 0.6 GeV y una distancia 295 km, desde su producción en J-Parc hasta su detección en HK en la mina de Kamioka.\n",
    "\n",
    "| |\n",
    "| :-- |\n",
    "<img src=\"./imgs/leptons_HK.png\" width = 300 align = \"center\">\n",
    "|Dibujo del detector HK comparado con Notre-Dame de Paris|\n"
   ]
  },
  {
   "cell_type": "markdown",
   "metadata": {
    "slideshow": {
     "slide_type": "slide"
    }
   },
   "source": [
    "### Bibliografía\n",
    "\n",
    " * [AB] Alessandro Bettini, \"Introduction to Elementary Particle Physcs\", Cambridge U. press. Temas 7 y 10.\n",
    "\n",
    " * [MT] Mark Tomsom, \"Modern Particle Physics\", Cambridge U. press. Temas 11, 12 y 13.\n",
    "    \n",
    " * [PDG](https://pdg.lbl.gov/) Particle Data Group.\n",
    "\n",
    " * [WU] C.S. Wu et al, *Phys. Rev.* **D17** 2369 (1957)\n",
    "\n",
    " * [MU] M. Bardon, P. Norton, J. Peoples, A. M. Sachs and J. Lee-Franzini, *Phys. Rev.\n",
    "Lett.* **14**, 449 (1965).\n",
    "\n",
    " * [GOL] M. Goldhaber et al, *Phys Rev* **109** 1015 (1958)\n",
    "\n",
    " * [KATRIN] M. Aker et al. (KATRIN Collaboration)\n",
    "*Phys. Rev. Lett.* **123**, 221802 (2019)\n",
    "\n",
    " * [SK] Y. Ashie et al, SK Collaboration, *Phys. Rev.* **D71** 112005 (2005)\n"
   ]
  }
 ],
 "metadata": {
  "anaconda-cloud": {},
  "celltoolbar": "Slideshow",
  "kernelspec": {
   "display_name": "Python 3 (ipykernel)",
   "language": "python",
   "name": "python3"
  },
  "language_info": {
   "codemirror_mode": {
    "name": "ipython",
    "version": 3
   },
   "file_extension": ".py",
   "mimetype": "text/x-python",
   "name": "python",
   "nbconvert_exporter": "python",
   "pygments_lexer": "ipython3",
   "version": "3.7.11"
  }
 },
 "nbformat": 4,
 "nbformat_minor": 4
}
