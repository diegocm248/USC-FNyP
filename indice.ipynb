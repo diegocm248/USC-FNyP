{
 "cells": [
  {
   "cell_type": "markdown",
   "metadata": {
    "slideshow": {
     "slide_type": "slide"
    }
   },
   "source": [
    "# Introducción a Física de Partículas\n",
    "\n",
    "\n",
    "## Índice del curso\n",
    "\n",
    "\n",
    "Jose A. Hernando\n",
    "\n",
    "*Departamento de Física de Partículas. Universidade de Santiago de Compostela*\n",
    "\n",
    "Septiembre 2021\n"
   ]
  },
  {
   "cell_type": "markdown",
   "metadata": {
    "slideshow": {
     "slide_type": "slide"
    }
   },
   "source": [
    "## [Introducción](introduccion.ipynb)\n",
    "\n",
    " * Introducción a Física de Partículas\n",
    " \n",
    " * Introducción al Modelo Estándar\n",
    " \n",
    " * Observables: secciones eficaces y anchuras de desintegración\n",
    " \n",
    " * Diagramas de Feynman\n"
   ]
  },
  {
   "cell_type": "markdown",
   "metadata": {
    "slideshow": {
     "slide_type": "slide"
    }
   },
   "source": [
    "## [Tema I: detección](./deteccion.ipynb)\n",
    "\n",
    " * introducción a aceleradores y colisionadores\n",
    " \n",
    " * interacción de las partículas con la materia\n",
    " \n",
    "    * ionización\n",
    "    * electrones y fotones\n",
    "    * hadrónica\n",
    "    \n",
    " * Detectores\n",
    "    * detector tipo, de trazas, calorímetros y Cherenkov\n",
    "    * trigger, procesado y presentación de los observables\n"
   ]
  },
  {
   "cell_type": "markdown",
   "metadata": {
    "slideshow": {
     "slide_type": "slide"
    }
   },
   "source": [
    "## [Tema II: leptones](./leptones.ipynb) \n"
   ]
  },
  {
   "cell_type": "markdown",
   "metadata": {
    "slideshow": {
     "slide_type": "slide"
    }
   },
   "source": [
    "## [Tema III: quarks y hadrones](./quarks_hadrones.ipynb) "
   ]
  },
  {
   "cell_type": "markdown",
   "metadata": {
    "slideshow": {
     "slide_type": "slide"
    }
   },
   "source": [
    "## [Tema IV: Modelo Estándar (SM)](./sm.ipynb)"
   ]
  },
  {
   "cell_type": "markdown",
   "metadata": {
    "slideshow": {
     "slide_type": "slide"
    }
   },
   "source": [
    "## [Apéndice: Fundamentos](./apendice-fundamentos.ipynb)\n",
    "\n",
    "  * Unidades Naturales\n",
    "  \n",
    "  * Aplitudes de desintegración y secciones eficaces:\n",
    "  \n",
    "    * desintegración a dos cuerpos\n",
    "    \n",
    "    * interacción de dos cuerpos\n",
    "  \n",
    "  * Invariantes de Mandelstam"
   ]
  },
  {
   "cell_type": "markdown",
   "metadata": {
    "slideshow": {
     "slide_type": "slide"
    }
   },
   "source": [
    "## [Apéndice: Ecuación de Dirac](./apendice-dirac.ipynb)\n",
    "\n",
    " * Ecuación de Dirac\n",
    "    * Ecuación de Dirac y matrices $\\gamma$s\n",
    " * Soluciones de la partícula libre.\n",
    "    * espinores de fermiones y anti-fermiones\n",
    " * Helicidad y quiralidad\n",
    "    * espinores autoestados de helicidad\n",
    "    * proyectores de quiralidad."
   ]
  },
  {
   "cell_type": "markdown",
   "metadata": {
    "slideshow": {
     "slide_type": "slide"
    }
   },
   "source": [
    "## Apéndice : sobre grupos"
   ]
  },
  {
   "cell_type": "markdown",
   "metadata": {
    "slideshow": {
     "slide_type": "slide"
    }
   },
   "source": [
    "## [Extensión: SM](./extension-sm.ipynb)"
   ]
  },
  {
   "cell_type": "markdown",
   "metadata": {
    "slideshow": {
     "slide_type": "slide"
    }
   },
   "source": [
    "## Bibliografía\n",
    "\n",
    "* [AB] \"Elementary Particle Physics\", A. Bettini, Cambridge.\n",
    "\n",
    "* [MT] \"Modern Particle Physics\", Mark Thomson, Cambridge.\n",
    "\n",
    "* [FH] \"Leptons and Quarks\", Francis Halzen, Alan D. Martin, Josh Wiley & Sons\n",
    "\n",
    "* [DG] \"Introduction to Elementary Particles\", D. Griffiths, Wiley-VCH\n",
    "\n",
    "* [MS] \"Particle Physics\", B.R. Martin, G. Shaw, John Wiley & Sons\n",
    "\n",
    "* [BM] \"Nuclear and Particle Physics, (an introduction)\", B. R. Martin, Wiley\n",
    "\n",
    "* [AL] \"Elementary Particle Physcis (an intuitive introduction)\", A. Loarkoski, Cambridge\n"
   ]
  },
  {
   "cell_type": "code",
   "execution_count": null,
   "metadata": {},
   "outputs": [],
   "source": []
  }
 ],
 "metadata": {
  "anaconda-cloud": {},
  "celltoolbar": "Slideshow",
  "kernelspec": {
   "display_name": "Python 3",
   "language": "python",
   "name": "python3"
  },
  "language_info": {
   "codemirror_mode": {
    "name": "ipython",
    "version": 3
   },
   "file_extension": ".py",
   "mimetype": "text/x-python",
   "name": "python",
   "nbconvert_exporter": "python",
   "pygments_lexer": "ipython3",
   "version": "3.8.8"
  }
 },
 "nbformat": 4,
 "nbformat_minor": 4
}
