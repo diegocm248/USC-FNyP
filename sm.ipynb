{
 "cells": [
  {
   "cell_type": "markdown",
   "metadata": {
    "slideshow": {
     "slide_type": "slide"
    }
   },
   "source": [
    "# Introducción a Física de Partículas\n",
    "\n",
    "\n",
    "## Introducción al Modelo Estandard\n",
    "\n",
    "\n",
    "Jose A. Hernando\n",
    "\n",
    "*Departamento de Física de Partículas. Universidade de Santiago de Compostela*\n",
    "\n",
    "Noviembre 2021\n"
   ]
  },
  {
   "cell_type": "code",
   "execution_count": 1,
   "metadata": {
    "slideshow": {
     "slide_type": "fragment"
    }
   },
   "outputs": [
    {
     "name": "stdout",
     "output_type": "stream",
     "text": [
      " Last version  Fri Nov 12 16:56:38 2021\n"
     ]
    }
   ],
   "source": [
    "import time\n",
    "print(' Last version ', time.asctime() )"
   ]
  },
  {
   "cell_type": "code",
   "execution_count": 2,
   "metadata": {},
   "outputs": [],
   "source": [
    "# general imports\n",
    "%matplotlib inline\n",
    "%reload_ext autoreload\n",
    "%autoreload 2\n",
    "\n",
    "# numpy and matplotlib\n",
    "import numpy as np\n",
    "import matplotlib\n",
    "import matplotlib.pyplot as plt\n",
    "\n",
    "import scipy.constants as units"
   ]
  },
  {
   "cell_type": "markdown",
   "metadata": {
    "slideshow": {
     "slide_type": "slide"
    }
   },
   "source": [
    "### Objetivos\n",
    "  \n",
    "Conocer:\n",
    "  \n",
    "  * La unificación electrodébil.\n",
    "  \n",
    "  * El bosón $Z$. La anchura del $Z$ y la existencia de tres neutrinos.\n",
    "  \n",
    "  * El bosón de Higgs y la masa de los bosones $W, Z$ y de los fermiones. Descubrimiento del Higgs."
   ]
  },
  {
   "cell_type": "markdown",
   "metadata": {
    "slideshow": {
     "slide_type": "slide"
    }
   },
   "source": [
    "## Los elementos del SM\n",
    "\n",
    "Varios son los elementos que modelan el SM:\n",
    "\n",
    "  * Las **teorías gauge locales** son las únicas renormalizables.\n",
    "  \n",
    "  * La **unificación electrodébil**, para prevenir la sección eficaz creciente indifinidamente de $e+e^+ \\to W^+ + W^-$\n",
    "  \n",
    "  * El **mecanismo de Higgs y la rotura espontánea de simetría** para dotar de masas a los bosones $W^\\pm, Z$ y las partículas fundamentales.\n"
   ]
  },
  {
   "cell_type": "markdown",
   "metadata": {
    "slideshow": {
     "slide_type": "slide"
    }
   },
   "source": [
    "### Hitos de la creacción del SM\n",
    "\n",
    "  * 1964 Teoría del bosón de Higgs, Englert, Brout. \n",
    "\n",
    "  * 1961-1964-1967 Teoría electrodébil de S. Glashow, A. Salam and S. Weinberg.\n",
    "  \n",
    "  * 1973 Descubrimiento de las corrientes neutras en Gargamelle (CERN)\n",
    "  \n",
    "  * 1973 G.'t Hooft et al, renormalización de la teoría gauge.\n",
    "  \n",
    "  * 1983 Rubbia et al, descubrimiento de los bosones $W^\\pm, Z$ en el CERN.\n",
    "  \n",
    "  * 1990's Los experimentos del CERN confirman el SM, la física del Z y la existencia de tres familias de neutrinos.\n",
    "  \n",
    "  * 2014 Descubrimiento del Higgs en los experimmentos ATLAS y CMS del LHC. \n",
    "  "
   ]
  },
  {
   "cell_type": "markdown",
   "metadata": {
    "slideshow": {
     "slide_type": "slide"
    }
   },
   "source": [
    "## El bosón Z\n",
    "\n",
    "En los 60's se postuló la existencia de un bosón $Z$ neutro que mediaría las corrientes neutras.\n",
    "\n",
    "Se introdujo para evitar que la sección eficaz $e^+ + e \\to W^+ + W^-$, mediada por un fotón, creciera indefinidamente. La presencia del $Z$ interfería negativamente moderando la sección eficaz.\n",
    "\n",
    "En los 70's se observaron en el experimento Gargamelle del CERN las primeras corrientes neutras."
   ]
  },
  {
   "cell_type": "markdown",
   "metadata": {
    "slideshow": {
     "slide_type": "slide"
    }
   },
   "source": [
    "### Gargamelle\n",
    "\n",
    "Era una cámara de burbujas de 15 t de freon, un líquido pesado que actuaba como blanco.\n",
    "\n",
    "El haz estaba compuesto principalmente por $\\nu_\\mu$ \n",
    "\n",
    "El cámara estaba sometida a un campo magnético y con la llegada pautada del haz se tomaban fotografías.\n",
    "\n",
    "Las corrientes cargadas de neutrinos con los nucleones producían un $\\mu$, una partícula altamente penetrante.\n",
    "\n",
    "$$\n",
    "\\nu_\\mu + N \\to \\mu + X\n",
    "$$\n",
    "\n",
    "En las corrientes neutras se esperaba que el neutrino escapase indetectado pero dejase trazas debidas a la ruptura de nucleón.\n",
    "\n",
    "$$\n",
    "\\nu_\\mu + N \\to \\nu_\\mu + X\n",
    "$$\n"
   ]
  },
  {
   "cell_type": "markdown",
   "metadata": {
    "slideshow": {
     "slide_type": "slide"
    }
   },
   "source": [
    "| |\n",
    "|:--:|\n",
    "|<img src=\"./imgs/sm_gargamelle_event.jpeg\" width = 400 align=\"center\">|\n",
    "| Evento de corriente neutra observado en Gargamelle [CERN]|\n",
    "\n",
    "¡El neutrino interacciona con un nucleón sin producir su leptón asociado!"
   ]
  },
  {
   "cell_type": "markdown",
   "metadata": {
    "slideshow": {
     "slide_type": "slide"
    }
   },
   "source": [
    "### Isoespín débil\n",
    "\n",
    "Recordemos que en las corrientes cargadas solo intervienen espinores a izquierdas de los fermiones (y de derechas de los antifermiones).\n",
    "\n",
    "Mientras que en las interacciones electromagnéticas intervienen al mismo nivel los espinores a izquierdas y a derechas.\n",
    "\n",
    "Para representar esta realidad, el SM introduce el grupo de simetría SU(2)$_L$, donde $L$ es por quiralidad a izquierdas."
   ]
  },
  {
   "cell_type": "markdown",
   "metadata": {
    "slideshow": {
     "slide_type": "slide"
    }
   },
   "source": [
    "Y agrupamos los fermiones en dupletes a izquierdas y singletes a derechas del grupo SU(2)$_L$.\n",
    "\n",
    "\n",
    "Cada generación se agrupa en un duplete a izquierdas para leptones y quarks y singletes a derechas:\n",
    "\n",
    "$$\n",
    "\\begin{pmatrix} \\nu_{eL} \\\\ e_L \\end{pmatrix}, \\, e_R; \\;\\;\\;  \n",
    "\\begin{pmatrix} u_L \\\\ d'_L \\end{pmatrix}, \\, u_R, d'_r. \n",
    "$$\n",
    "\n",
    "De igual forma para las otras dos generaciones.\n",
    "\n",
    "Notar que el neutrino no tiene singlete a derechas.\n",
    "\n",
    "Nota adicional: el quark de abajo, $d'$, corresponde al estado de sabor que difere del estado de masas, como se vio en el [tema-hadrones]."
   ]
  },
  {
   "cell_type": "markdown",
   "metadata": {},
   "source": [
    "Casa quiralidad de un fermión tiene asignado un isoespín débil $I_W$, 1/2 para las izquierdas, 0 para derechas.\n",
    "\n",
    "Y una tercera componente de isospín débil, $I^3_W$, que será $1/2$ para los estados de arriba del duplete y $-1/2$ para los de abajo.\n",
    "\n",
    "Los dupletes tienen tercera componente de isoespín débil, $I^3_W$:\n",
    "\n",
    "$$\n",
    "I^3_W(\\nu_{eL}) = 1/2, \\;\\; I^3_W(e_L) = -1/2; \\\\\n",
    "I^3_W(u_L) = 1/2, \\;\\; I^3_W(d'_L) = -1/2 \n",
    "$$\n",
    "\n",
    "Mientras que los singletes no tienen tercera componente de isoespín débil:\n",
    "\n",
    "$$\n",
    "I^3_W (e_R) = I^3_W(u_R) = I^3_W(d'_R) = 0\n",
    "$$"
   ]
  },
  {
   "cell_type": "markdown",
   "metadata": {
    "slideshow": {
     "slide_type": "subslide"
    }
   },
   "source": [
    "\n",
    "Por ejemplo, para el $\\nu_e$:\n",
    "\n",
    "$$\n",
    "\\tau^3 \\begin{pmatrix} \\nu_{eL} \\\\ 0 \\end{pmatrix} = \\frac{1}{2} \n",
    "\\begin{pmatrix} 1 & 0 \\\\ 0  & -1 \\end{pmatrix}\n",
    "\\begin{pmatrix} \\nu_{eL} \\\\ 0 \\end{pmatrix} = \n",
    "+ \\frac{1}{2} \\begin{pmatrix} \\nu_{eL} \\\\ 0 \\end{pmatrix}\n",
    "$$\n"
   ]
  },
  {
   "cell_type": "markdown",
   "metadata": {
    "slideshow": {
     "slide_type": "slide"
    }
   },
   "source": [
    "### Las corrientes electromagnéticas y el vértice del fotón\n",
    "\n",
    "\n",
    "Las corrientes electromagnéticas no cambian la carga, ni el sabor y conservan paridad.\n",
    "\n",
    "| |\n",
    "|:--:|\n",
    "|<img src=\"./imgs/sm_emcur.png\" width = 250 align=\"center\">|\n",
    "| Corriente electromagnética|\n",
    "\n",
    "En el vértice con un fotón, introducimos (en la reglas de Feynman) la constante de acoplo $e$ y la carga, $Q$ del fermión:\n",
    "\n",
    "$$\n",
    "A: \\;\\;\\; Q e \\, \\bar{u} \\gamma^\\mu u = Q e \\, \\left( \\bar{u}_L \\gamma^\\mu u_L + \\bar{u}_R \\gamma^\\mu u_R \\right)\n",
    "$$"
   ]
  },
  {
   "cell_type": "markdown",
   "metadata": {
    "slideshow": {
     "slide_type": "slide"
    }
   },
   "source": [
    "### Las corrientes cargadas y el vértice del $W$\n",
    "\n",
    "Las corrientes cargadas cambian el sabor, la carga en una unidad, y la tercerca componente de isoespín.\n",
    "\n",
    "En las corrientes mediadas por $W^+$ suben una unidad $I^3_W$, y $W^-$ lo bajan.\n",
    "\n",
    "Solo intervienen los estados de quiralidad a izquierdas para los fermiones.\n",
    "\n",
    "| |\n",
    "|:--:|\n",
    "|<img src=\"./imgs/sm_wcur.png\" width = 350 align=\"center\">|\n",
    "| Corriente cargada|"
   ]
  },
  {
   "cell_type": "markdown",
   "metadata": {
    "slideshow": {
     "slide_type": "slide"
    }
   },
   "source": [
    "\n",
    "En el vértice con un $W^+$ introducimos la constante de acoplo $g_W/\\sqrt{2}$ entre dos fermiones de arriba, $f_\\uparrow$ y abajo $f_\\downarrow$ del duplete de quiralidad a izquierdas:\n",
    "\n",
    "$$\n",
    "W^+: \\;\\; \\frac{g_W}{\\sqrt{2}} \\, \\bar{u}(f_\\uparrow)_L \\gamma^\\mu u(f_\\downarrow)_L = \\frac{g_W}{\\sqrt{2}} \\bar{u}(f_\\uparrow) \\gamma^\\mu \\frac{1}{2}(I-\\gamma^5) u(f_\\downarrow), \\\\\n",
    "W^-: \\;\\; \\frac{g_W}{\\sqrt{2}} \\, \\bar{u}(f_\\downarrow)_L \\gamma^\\mu u(f_\\uparrow)_L = \\frac{g_W}{\\sqrt{2}} \\bar{u}(f_\\downarrow) \\gamma^\\mu \\frac{1}{2}(I-\\gamma^5) u(f_\\uparrow),\n",
    "$$\n"
   ]
  },
  {
   "cell_type": "markdown",
   "metadata": {
    "slideshow": {
     "slide_type": "slide"
    }
   },
   "source": [
    "De otra forma podemos decir del vértice de las corrientes cargadas:\n",
    "    \n",
    "  * tiene la constante de acoplo $g_W/\\sqrt{2}$\n",
    "  \n",
    "  * solo afectan a los espinores de izquierdas de los fermiones, o equivalente, aparece un factor $\\frac{1}{2} (I-\\gamma^5)$ en el vértice.\n",
    "  \n",
    "  * suben o bajan la tercera componente o aparece como factor la matriz $\\sigma^\\pm = \\frac{1}{2}(\\sigma^1 \\pm i \\sigma^2)$ que media entre los estados de los dupletes"
   ]
  },
  {
   "cell_type": "markdown",
   "metadata": {
    "slideshow": {
     "slide_type": "subslide"
    }
   },
   "source": [
    "Veámoslo de forma práctica para  el vértice de un $W^+$ con un $e$ y $\\nu_e$:\n",
    "\n",
    "$$\n",
    "\\frac{g_W}{\\sqrt{2}} \\begin{pmatrix}\\bar{u}(\\nu_e), & 0 \\end{pmatrix} \\gamma^\\mu \\frac{1}{2} (I - \\gamma^5) \\sigma^+ \n",
    "\\begin{pmatrix} 0 \\\\ u(e)\\end{pmatrix} = \\frac{g_W}{\\sqrt{2}} \\bar{u}(\\nu_e)_L \\gamma^\\mu u(e)_L \n",
    "$$"
   ]
  },
  {
   "cell_type": "markdown",
   "metadata": {},
   "source": [
    "### La unificación electrodébil\n",
    "\n",
    "El SM incluye la unificación de la fuerza electromagnética y débil. \n",
    "\n",
    "La teoría se desarrolló en los años 60's por A. Salam, S. Weinberg y S. Glashow.\n",
    "\n",
    "Ambos procesos, electromagnetismo y débil, están ligados. \n",
    "\n",
    "El parámetro que determina su \"mezcla\" es el ángulo de Weinberg, $\\sin \\theta_W$."
   ]
  },
  {
   "cell_type": "markdown",
   "metadata": {
    "slideshow": {
     "slide_type": "slide"
    }
   },
   "source": [
    "\n",
    "La intensidad de los acoplos entre las interacciones electromagnética $e$, débil cargada, $g_W$, y débil neutra, $g_Z$, viene dada por:\n",
    "\n",
    "$$\n",
    "e = g_W \\sin \\theta_W = g_Z \\sin \\theta_W \\cos \\theta_W\n",
    "$$\n",
    "\n",
    "Experimentalmente con la medidas de $\\alpha, G_F, M_W$ podemos determinar los acoplos débiles y fijar las corrientes cargadas neutras.\n",
    "\n",
    "Le valor $\\theta_W \\simeq 33^o$, se ha determinado experimentalmente en varios procesos físicos, (ver después):\n",
    "\n",
    "$$\n",
    "\\sin^2 \\theta_W = 0.23146 \\pm 0.000012\n",
    "$$"
   ]
  },
  {
   "cell_type": "markdown",
   "metadata": {
    "slideshow": {
     "slide_type": "slide"
    }
   },
   "source": [
    "### El vértice del Z\n",
    "\n",
    "Las interacciones con el $Z$ no cambian el sabor de la partícula, ni tampoco su carga eléctrica, ni su tercerca componente de isoespín débil.\n",
    "\n",
    "Pero cambia de forma no trivial la paridad.\n",
    "\n",
    "El bosón $Z$ actua diferente para la quiralidad de izquierdas y de derechas, dependiendo del fermión.\n",
    "\n",
    "| |\n",
    "|:--:|\n",
    "|<img src=\"./imgs/sm_zcur.png\" width = 350 align=\"center\">|\n",
    "| Corriente neutra|"
   ]
  },
  {
   "cell_type": "markdown",
   "metadata": {
    "slideshow": {
     "slide_type": "slide"
    }
   },
   "source": [
    "La corriente neutra con el bosón $Z$ tiene la forma:\n",
    "\n",
    "$$\n",
    "Z: \\;\\;\\; g_Z \\left( c_L \\, \\bar{u}_L \\gamma^\\mu \\bar{u}_L + c_R \\, \\bar{u}_R \\gamma^\\mu \\bar{u}_R \\right) = g_Z \\,\\bar{u} \\frac{1}{2}\\left(c_V I - c_A \\gamma^5\\right) u \n",
    "$$\n",
    "\n",
    "donde $g_Z$ es la constante de acoplo y $c_L, c_R$ los factores asociados a la parte de quiralidad.\n",
    "\n",
    "O equivalente, dos factores $c_V, c_A$, vectorial y axial."
   ]
  },
  {
   "cell_type": "markdown",
   "metadata": {
    "slideshow": {
     "slide_type": "slide"
    }
   },
   "source": [
    "En el vértice de Feynman de una iteracción con el bosón $Z$ intervendrán los factores:\n",
    "    \n",
    "   * la intensidad: $g_Z$\n",
    "   \n",
    "   * las parte de quiralidad a izquierdas: $c_L = I^3_W - Q \\sin^2 \\theta_W$, donde $Q$ es la carga eléctrica del fermión en unidades de $e$ e $I^3_W$ la tercerca componente de isoespín débil\n",
    "   \n",
    "   * la parte de quiralidad a derechas: $c_R = -Q \\sin^2 \\theta_W$"
   ]
  },
  {
   "cell_type": "markdown",
   "metadata": {
    "slideshow": {
     "slide_type": "subslide"
    }
   },
   "source": [
    "Por ejemplo para el $\\nu_e$\n",
    "\n",
    "No tiene parte a derechas, ni tampoco carga $Q(\\nu)=0$, solo $I^3_W(\\nu_e) = 1/2$\n",
    "\n",
    "Su componente $c_L = 1/2$ y $c_R = 0$\n",
    "\n",
    "la corriente neutra con el $Z$ será:\n",
    "    \n",
    "$$\n",
    "\\frac{g_Z}{2} \\bar{u}(\\nu_e)_L \\gamma^\\mu u(\\nu_e)_L \n",
    "$$"
   ]
  },
  {
   "cell_type": "markdown",
   "metadata": {
    "slideshow": {
     "slide_type": "subslide"
    }
   },
   "source": [
    "Mientras que para el electrón\n",
    "\n",
    "Tiene carga $Q(e)=-1$ y su parte a izquierdas $I^3_W(e_L) = -1/2$. \n",
    "\n",
    "Por lo tanto $c_L = -\\frac{1}{2} + \\sin^2 \\theta_W$ y $c_R = \\sin^2 \\theta_W$.\n",
    "\n",
    "Así la corriente neutra con el $Z$ es:\n",
    "    \n",
    "$$\n",
    "g_Z \\left(  \\left(-\\frac{1}{2} + \\sin^2 \\theta_W\\right) \\, \\bar{u}_L \\gamma^\\mu u_L  + \\sin^2 \\theta_W \\, \\bar{u}_R \\gamma^\\mu u_R \\right)\n",
    "$$"
   ]
  },
  {
   "cell_type": "markdown",
   "metadata": {
    "slideshow": {
     "slide_type": "slide"
    }
   },
   "source": [
    "De forma equivalente podemos dar las componentes vectorial y axial de las corrientes neutras:\n",
    "    \n",
    "$$\n",
    "c_V = I^3_W - Q \\sin^2 \\theta_W, \\;\\; c_A = I^3_W \n",
    "$$\n"
   ]
  },
  {
   "cell_type": "markdown",
   "metadata": {
    "slideshow": {
     "slide_type": "slide"
    }
   },
   "source": [
    "La siguiente tabla indica el valor $I^3_W, Q, c_V, c_A$ de los fermiones de la primera generación:\n",
    "\n",
    "| fermión | --- $I^3_W$ --- | --- $Q$ --- | --------- $c_V$ --------- | --- $c_A$ --- |\n",
    "| :--:    | :--:    | :--: | :--:  | :--: |\n",
    "| $\\nu_e$ | 1/2     | 0   | 1/2     | 1/2  |\n",
    "| $e$     | -1/2    | -1  | $-1/2 + s^2$ | -1/2|\n",
    "| $u$     | 1/2     | +2/3  | $1/2 - (2/3) s^2$ | 1/2 |\n",
    "| $d$     | -1/2    | -1/3 | $-1/2 + (1/3)s^2$ | -1/2|\n",
    "\n",
    "\n",
    "donde $s^2_W = \\sin^2 \\theta_W$"
   ]
  },
  {
   "cell_type": "markdown",
   "metadata": {
    "slideshow": {
     "slide_type": "slide"
    }
   },
   "source": [
    "y para los antifermiones:\n",
    "\n",
    "| antifermión | --- $I^3_W$ --- | --- $Q$ --- | ---------- $c_V$ ---------- | --- $c_A$ --- |\n",
    "| :--:    | :--:    | :--: | :--:  | :--: |\n",
    "| $e^+$ | 1/2     | +1   | $1/2 - s^2$      | 1/2  |\n",
    "| $\\bar{\\nu}_e$  | -1/2  | 0  | -1/2 | -1/2|\n",
    "| $\\bar{d}$     | 1/2     | +1/3  | $1/2 - (1/3) s^2$ | 1/2 |\n",
    "| $\\bar{u}$     | -1/2    | -2/3 | $-1/2 + (2/3) s^2$ | -1/2|"
   ]
  },
  {
   "cell_type": "markdown",
   "metadata": {
    "slideshow": {
     "slide_type": "slide"
    }
   },
   "source": [
    "### Proceso de aniquilación\n",
    "\n",
    "En la aniquilación $e + e^+ \\to \\mu + \\mu^+$ intervienen el $\\gamma$ y el $Z$.\n",
    "\n",
    "| |\n",
    "|:--:|\n",
    "|<img src=\"./imgs/sm_gz.png\" width = 400 align=\"center\">|\n",
    "| aniquilación $e+e^+ \\to \\mu + \\mu^+$ mediada por el fotín (izda) o el $Z$ (derecha) |\n",
    "\n",
    "Recordemos los propagadores respectivos:\n",
    "\n",
    "$$\n",
    "\\frac{g_{\\mu\\nu}}{q^2}, \\;\\; \\frac{g_{\\mu\\nu}}{q^2 - m_Z^2},\n",
    "$$\n",
    "donde $m_Z = 91.2$ GeV es la masa del $Z$.\n"
   ]
  },
  {
   "cell_type": "markdown",
   "metadata": {
    "slideshow": {
     "slide_type": "slide"
    }
   },
   "source": [
    "La figura muestra la sección eficaz $\\sigma(e+e^+ \\to \\mathrm{hadrons})$ con los datos de diversos experimentos y la curva teórica.\n",
    "\n",
    "Se observa que QED, la contribución del fotón, es dominante a baja energía; y la resonancia del $Z$.\n",
    "                  \n",
    "| |\n",
    "|:--:|\n",
    "|<img src=\"./imgs/sm_sigma_eeqq.png\" width = 400 align=\"center\">|\n",
    "| $\\sigma(e+e^+ \\to \\mathrm{hadrons})$ vs $\\sqrt{s}$ de [MT16.2] [LEP-SLD]|\n",
    "\n",
    "En la región donde $Z$ domine deben aparecer efectos de violación de paridad que dependerán de $\\sin^2 \\theta_W$\n",
    "                                                                                     "
   ]
  },
  {
   "cell_type": "markdown",
   "metadata": {
    "slideshow": {
     "slide_type": "slide"
    }
   },
   "source": [
    "Experimentalmente calculamos asimetrías. \n",
    "\n",
    "La asimetría *forward-backward*, $A_{FB}, $que depende de forma no trivial de $\\sin^2 \\theta_W$ y de $\\sqrt{s}$, se calcula a partir del número de eventos $N_F$ en la que el $\\mu$ va en dirección hacia delante (dada por el $e$) o *forward* y $N_B$ hacia atrás o *backward*:\n",
    "\n",
    "$$\n",
    "A_{FB} = \\frac{N_F - N_B}{N_F + N_B}\n",
    "$$\n",
    "\n",
    "| |\n",
    "|:--|\n",
    "|<img src=\"./imgs/sm_afb.png\" width = 400 align=\"center\">|\n",
    "| Asimetría *forward-backward* $e+e^+ \\to \\mu + \\mu^+$ vs $\\sqrt{s}$|\n",
    "| datos (puntos) del experimento [DELPHI] y predicción del SM para $s^2_W \\simeq 0.23$ (línea)|\n"
   ]
  },
  {
   "cell_type": "markdown",
   "metadata": {
    "slideshow": {
     "slide_type": "subslide"
    }
   },
   "source": [
    "*Nota adicional*\n",
    "\n",
    "Notar que la interferencia en el elemento de Matriz, por el efecto de los propagadores, es proporcional a:\n",
    "\n",
    "$$\n",
    "\\frac{Q^2 \\alpha }{q^2} + \\frac{g^2_Z \\beta_i}{q^2 - m^2_Z}\n",
    "$$\n",
    "\n",
    "el segundo sumando cambia de signo al pasar por el polo del $m_Z$. \n",
    "\n",
    "El factor $\\beta_i$ dependerá de las 4 posibles combinaciones de helicidad."
   ]
  },
  {
   "cell_type": "markdown",
   "metadata": {
    "slideshow": {
     "slide_type": "slide"
    }
   },
   "source": [
    "## Anchura de desintegración del $Z$\n",
    "\n",
    "El colisionador LEP $e+e^+$ que operó durante los 90's verificó con gran detalle las predicciones del SM, especialmente la física del Z.\n",
    "\n",
    "Durante un periodo LEP operó a $\\sqrt{s} = m_Z = 91$ GeV produciendo millones de $Z$.\n",
    "\n",
    "Uno de los estudios más importantes de LEP es la medición de la anchura de desintegración de $Z$."
   ]
  },
  {
   "cell_type": "markdown",
   "metadata": {
    "slideshow": {
     "slide_type": "slide"
    }
   },
   "source": [
    "### Anchura de desintegración parcial\n",
    "\n",
    "Sea la desintegración: $ Z \\to f + \\bar{f}$, a un par de fermión y antifermión.\n",
    "\n",
    "La anchura de desintegración viene dada por:\n",
    "\n",
    "$$\n",
    "\\Gamma = \\frac{p^*}{8 \\pi s} \\langle |M_{fi}|^2 \\rangle\n",
    "$$\n",
    "\n",
    "donde en este caso $\\sqrt{s} = m_Z$ y $p^* = m_z/2$, si despreciamos la masa del fermión en comparación con la del $m_Z$"
   ]
  },
  {
   "cell_type": "markdown",
   "metadata": {
    "slideshow": {
     "slide_type": "slide"
    }
   },
   "source": [
    "El cálculo del $M_{fi}$, aunque no es complicado, escapa al nivel de este curso.\n",
    "\n",
    "aunque ya sabemos que debe involucrar a la corriente neutra:\n",
    "\n",
    "$$\n",
    "g_z \\left( c_L \\bar{u}_L \\gamma^\\mu v_L + c_R \\bar{u}_R \\gamma^\\mu v_R \\right)\n",
    "$$\n",
    "\n",
    "Su valor es:\n",
    "\n",
    "$$\n",
    "\\langle |M_{fi}|^2 \\rangle = \\frac{2}{3} (c^2_L + c^2_R) g^2_Z m^2_Z\n",
    "$$\n",
    "\n"
   ]
  },
  {
   "cell_type": "markdown",
   "metadata": {
    "slideshow": {
     "slide_type": "slide"
    }
   },
   "source": [
    "La anchura parcial de desintegración $Z \\to f + \\bar{f}$ es:\n",
    "\n",
    "$$\n",
    "\\Gamma(Z \\to f + \\bar{f}) = \\frac{m_Z}{16 \\pi m^2_Z} \\frac{2}{3} (c^2_L + c^2_R) g^2_Z m^2_Z = \\frac{g^2_Z m_Z}{24 \\pi} (c^2_L + c^2_R)\n",
    "$$"
   ]
  },
  {
   "cell_type": "markdown",
   "metadata": {
    "slideshow": {
     "slide_type": "slide"
    }
   },
   "source": [
    "Por ejemplo para $\\nu_e$ como $c^2_L = 1/4$\n",
    "\n",
    "$$\n",
    "\\Gamma (Z \\to \\nu_e + \\bar{\\nu}_e) = \\frac{g^2_Z m_Z}{96 \\pi} = 166 \\; \\mathrm{MeV}\n",
    "$$"
   ]
  },
  {
   "cell_type": "markdown",
   "metadata": {
    "slideshow": {
     "slide_type": "subslide"
    }
   },
   "source": [
    "*Cuestión*: Calcula las anchuras de desintegración parciales y totales de $Z$ y sus fracciones de desintegración."
   ]
  },
  {
   "cell_type": "code",
   "execution_count": 3,
   "metadata": {
    "slideshow": {
     "slide_type": "subslide"
    }
   },
   "outputs": [
    {
     "name": "stdout",
     "output_type": "stream",
     "text": [
      "gw    0.6526\n",
      "gz    0.7403\n",
      "Gamma nue 0.1657 GeV\n"
     ]
    }
   ],
   "source": [
    "GF  = units.value(\"Fermi coupling constant\")\n",
    "s2t = units.value(\"weak mixing angle\")\n",
    "MW  = 80.34 # GeV \n",
    "MZ  = 91.19 # GeV\n",
    "g2w = 8 * MW**2 * GF /np.sqrt(2)\n",
    "g2z = g2w/(1-s2t) \n",
    "gamma_nu = g2z*MZ/(96*np.pi)\n",
    "print('gw    {:5.4f}'.format(np.sqrt(g2w)))\n",
    "print('gz    {:5.4f}'.format(np.sqrt(g2z)))\n",
    "print('Gamma nue {:5.4f} GeV'.format(gamma_nu))"
   ]
  },
  {
   "cell_type": "code",
   "execution_count": 4,
   "metadata": {
    "slideshow": {
     "slide_type": "subslide"
    }
   },
   "outputs": [
    {
     "name": "stdout",
     "output_type": "stream",
     "text": [
      "Gamma e 0.0838 GeV\n",
      "Gamma nue 0.1657 GeV\n",
      "Gamma u 0.2894 GeV\n",
      "Gamma d 0.3713 GeV\n"
     ]
    }
   ],
   "source": [
    "nc   = 3 # 3 colors for the quarks\n",
    "pars = {'e':(-0.5+s2t, s2t), 'nue': (0.5, 0), 'u' : (0.5-2*s2t/3, -2*s2t/3), 'd': (-0.5+s2t/3, s2t/3)}\n",
    "gamma = lambda cl, cr: g2z*MZ/(24*np.pi)*(cl**2 + cr**2)\n",
    "gammas = {}\n",
    "for key in pars.keys():\n",
    "    cl, cr = pars[key]\n",
    "    gammai = gamma(cl, cr)\n",
    "    gammai = nc * gammai if key in ('u', 'd') else gammai\n",
    "    comment = 'Gamma ' + key + ' {:5.4f} GeV'.format(gammai) \n",
    "    print(comment)\n",
    "    gammas[key] = gammai"
   ]
  },
  {
   "cell_type": "code",
   "execution_count": 5,
   "metadata": {
    "slideshow": {
     "slide_type": "slide"
    }
   },
   "outputs": [
    {
     "name": "stdout",
     "output_type": "stream",
     "text": [
      "Total Gamma 2.4414 GeV \n",
      "BR e 3.4 %\n",
      "BR nue 6.8 %\n",
      "BR u 11.9 %\n",
      "BR d 15.2 %\n"
     ]
    }
   ],
   "source": [
    "gamma_total = 3 * gammas['nue'] + 3 * gammas['e'] + 2 * gammas['u'] + 3 * gammas['d']\n",
    "print('Total Gamma {:5.4f} GeV '.format(gamma_total))\n",
    "for key in gammas.keys():\n",
    "    #n  = 2 if key == 'u' else 3\n",
    "    br = 100 * gammas[key]/gamma_total\n",
    "    print('BR ' + key + ' {:3.1f} %'.format(br))"
   ]
  },
  {
   "cell_type": "markdown",
   "metadata": {
    "slideshow": {
     "slide_type": "slide"
    }
   },
   "source": [
    "### Sección eficaz\n",
    "\n",
    "Aunque no la calcularemos, vamos a presentar ahora los distintos elementos que se necesitan en la sección eficaz de $e+e^+ \\to f + \\bar{f}$ en el $Z$, donde recordemos la contribución del $\\gamma$ es pequeña.\n",
    "\n",
    "Sabemos que la sección eficaz viene dada por:\n",
    "\n",
    "$$\n",
    "\\sigma = \\frac{1}{64 \\pi^2 s} \\frac{p^*_f}{p^*_i} \\int_\\Omega \\langle |M_{fi}|^2 \\rangle \\, \\mathrm{d}\\Omega\n",
    "$$\n",
    "\n",
    "Donde en este caso $p^*_i = p^*_f = m_Z/2$ si despreciamos las masas de los fermiones en comparación con $m_Z$."
   ]
  },
  {
   "cell_type": "markdown",
   "metadata": {
    "slideshow": {
     "slide_type": "slide"
    }
   },
   "source": [
    "Al estar tan próximos del polo del $Z$ debemos incluir en el propagador la parte asociada a su anchura $\\Gamma_Z$ que habitualmente despreciamos:\n",
    "\n",
    "$$\n",
    "\\frac{1}{q^2 - m^2_Z} \\to \\frac{1}{q^2 - (m_Z - i \\Gamma_Z/2)^2} \\simeq \\frac{1}{q^2 - m^2_Z +i m_z\\Gamma_Z}\n",
    "$$\n",
    "\n",
    "que al elevar al cuadrado nos da la expresión:\n",
    "\n",
    "$$\n",
    "P_Z(s) \\equiv \\left|\\frac{1}{q^2 - m^2_Z +i m_z\\Gamma_Z} \\right|^2 = \\frac{1}{(s-m^2_Z)^2 + m^2_Z \\Gamma^2_Z} \n",
    "$$"
   ]
  },
  {
   "cell_type": "markdown",
   "metadata": {
    "slideshow": {
     "slide_type": "subslide"
    }
   },
   "source": [
    "#### Inciso: sobre la anchura y masa\n",
    "\n",
    "El cálculo correcto del propagador se realiza en TQC, aquí solo damos una aproximación:\n",
    "\n",
    "Si una partícula, con masa $m$, es estable su función de ondas en reposo:\n",
    "\n",
    "$$\n",
    "\\Psi \\propto e^{-imt}.\n",
    "$$\n",
    "\n",
    "Si consideramos que es inestable con una anchura $\\Gamma = 1/\\tau$, modificamos la función de onda:\n",
    "\n",
    "$$\n",
    "\\Psi \\propto e^{-imt} e ^{-\\Gamma t/2}\n",
    "$$\n",
    "\n",
    "Que es equivalente, a reemplazar:\n",
    "\n",
    "$$\n",
    "m \\to m - i \\Gamma/2\n",
    "$$"
   ]
  },
  {
   "cell_type": "markdown",
   "metadata": {
    "slideshow": {
     "slide_type": "slide"
    }
   },
   "source": [
    "el proceso $e+e^+\\to \\mu+\\mu^+$, mediado solo por el fotón, lo estudiamos ya (ver hadrones).\n",
    "\n",
    "Las distintas combinaciones de helicidad son las mismas:\n",
    "\n",
    "| | \n",
    "| :--: |\n",
    "|  <img src=\"./imgs/hadrons_eemumu_helicities_2.png\" width = 600 align=\"center\"> |\n",
    "| Las posibles combinaciones de helicidad de $e^++e \\to \\mu^+ + \\mu$ en el CM en el régimen relativista |\n",
    "\n",
    "En el elemento de matriz cuando antes nos apareció $e^2$ ahora aparecerá $g^2_Z$ y los acoplos $c_L, c_R$ correspondientes."
   ]
  },
  {
   "cell_type": "markdown",
   "metadata": {
    "slideshow": {
     "slide_type": "slide"
    }
   },
   "source": [
    "\n",
    "Los $M_{fi}$ contienen los acoplos de las corrientes y las distribuciones angulares siguientes:\n",
    "\n",
    "|      | | | | \n",
    "| :--: | :--: | :--: | :--: |\n",
    "| $LR \\to LR$ | $LR \\to RL$ | $RL \\to LR$ | $RL \\to RL$ |\n",
    "| $g^2_Z s (1+\\cos \\theta)$| $g^2_z s (1-\\cos \\theta)$ | $g^2_Z s (1-\\cos\\theta)$ | $g^2_Z s (1+\\cos\\theta)$ | \n",
    "| $c_L(e) \\, c_L(\\mu)$ |$c_L(e) \\, c_R(\\mu)$ | $c_R(e) \\, c_L(\\mu)$| $c_R(e) \\, c_R(\\mu)$ |\n"
   ]
  },
  {
   "cell_type": "markdown",
   "metadata": {
    "slideshow": {
     "slide_type": "slide"
    }
   },
   "source": [
    "Para dar la sección eficaz calculamos el promedio de los cuatro elementos de matriz e integramos en el ángulo sólido.\n",
    "\n",
    "No hacemos el cálculo, pero damos el resultado. \n",
    "\n",
    "La sección eficaz es:  \n",
    "\n",
    "$$\n",
    "\\sigma (e+e^+\\to Z \\to \\mu+\\mu^+)= \\frac{1}{64\\pi^2 s} \\frac{1}{4}\\frac{g^4_z s^2}{(s-m^2_Z)^2 + m^2_Z\\Gamma^2_Z} \n",
    "\\frac{16\\pi}{3} [c^2_L(e) + c^2_R(e)] [c^2_L(\\mu) + c^2_R(\\mu)] = \\\\\n",
    " \\frac{1}{48\\pi} \\frac{g^4_z s}{(s-m^2_Z)^2 + m^2_Z\\Gamma^2_Z}  [c^2_L(e) + c^2_R(e)] [c^2_L(\\mu) + c^2_R(\\mu)]\n",
    "$$\n",
    "\n",
    "En la segunda igualdad pueden identificarse los distintos factores que intervienen."
   ]
  },
  {
   "cell_type": "markdown",
   "metadata": {
    "slideshow": {
     "slide_type": "slide"
    }
   },
   "source": [
    "Que podemos reescribir introduciendo las anchuras de desintegración parciales:\n",
    "\n",
    "$$\n",
    "\\Gamma_{ee} = \\frac{g^2_z m_z}{24} [c^2_L(e) + c^2_R(e)] \\\\\n",
    "\\Gamma_{\\mu\\mu} = \\frac{g^2_z m_z}{24} [c^2_L(\\mu) + c^2_R(\\mu)] \\\\\n",
    "$$\n",
    "\n",
    "Por lo tanto:\n",
    "\n",
    "$$\n",
    "\\sigma (e+e^+\\to Z \\to \\mu+\\mu^+)= \\frac{12 \\pi s}{m^2_Z} \\frac{\\Gamma_{ee} \\Gamma_{\\mu\\mu}}{(s-m^2_Z)^2 + m^2_Z\\Gamma^2_Z} \n",
    "$$\n"
   ]
  },
  {
   "cell_type": "markdown",
   "metadata": {
    "slideshow": {
     "slide_type": "slide"
    }
   },
   "source": [
    "Observamos:\n",
    "    \n",
    "  * Se trata de una función de tipo Breit-Wigner\n",
    "  \n",
    "  * En el polo $\\sqrt{s} = m_z$ obtenemos el máximo de la sección eficaz:\n",
    "  \n",
    "  $$\n",
    "  \\sigma_{\\max} = \\frac{12\\pi}{m^2_Z} \\frac{\\Gamma_{ee}\\Gamma_{\\mu\\mu}}{\\Gamma^2_Z} \n",
    "  $$\n",
    "  \n",
    "  * En los valores $\\sqrt{s} = m_Z \\pm \\Gamma_Z/2$ la sección eficaz:\n",
    "  \n",
    "  $$\n",
    "  \\sigma \\left(\\sqrt{s} = m_Z \\pm \\Gamma_Z/2 \\right) = \\frac{\\sigma_{\\max}}{2}\n",
    "  $$\n",
    "  \n",
    "  O lo que es lo mismo la anchura a mitad de altura, FWHM, es $\\Gamma_Z$"
   ]
  },
  {
   "cell_type": "markdown",
   "metadata": {
    "slideshow": {
     "slide_type": "subslide"
    }
   },
   "source": [
    "*Cuestión* Calcula el máximo de la sección eficaz para $e+e^+\\to \\mu+\\mu^+$ y $e+e^+\\to \\mathrm{hadrones}$ y la curva se la sección eficaz para hadrones en el pico del $Z$."
   ]
  },
  {
   "cell_type": "code",
   "execution_count": 6,
   "metadata": {
    "slideshow": {
     "slide_type": "subslide"
    }
   },
   "outputs": [
    {
     "name": "stdout",
     "output_type": "stream",
     "text": [
      "sigma max (ee->mumu) 2.1 nbarns \n",
      "sigma max (ee->had) 41.6 nbarns \n"
     ]
    }
   ],
   "source": [
    "Gee = 0.0838 # GeV \n",
    "Gmm = 0.0838 # GeV\n",
    "Guu = 0.2894 # GeV\n",
    "Gdd = 0.3713 # GeV\n",
    "Ghad = 2 * Guu + 3 * Gdd\n",
    "mz  = 91.19  # GeV\n",
    "Gz  =  2.45  # GeV\n",
    "sigma_mumu = (12 * np.pi)/(mz**2) * (Gee * Gmm)/Gz**2\n",
    "sigma_had  = (12 * np.pi)/(mz**2) * (Gee * Ghad)/Gz**2\n",
    "hbarc  = 0.197 * units.femto # GeV m\n",
    "barn =  1e-28 # m^2\n",
    "sigma_to_barn = (hbarc**2) / barn\n",
    "print('sigma max (ee->mumu) {:3.1f} nbarns '.format(sigma_to_barn * sigma_mumu / units.nano))\n",
    "print('sigma max (ee->had) {:3.1f} nbarns '.format(sigma_to_barn * sigma_had /units.nano))"
   ]
  },
  {
   "cell_type": "code",
   "execution_count": 7,
   "metadata": {
    "slideshow": {
     "slide_type": "subslide"
    }
   },
   "outputs": [
    {
     "data": {
      "image/png": "[encoded data removed]",
      "text/plain": [
       "<Figure size 432x288 with 1 Axes>"
      ]
     },
     "metadata": {
      "needs_background": "light"
     },
     "output_type": "display_data"
    }
   ],
   "source": [
    "def sigma(s, Gff = Gmm):\n",
    "    return (12 * np.pi *s)/(mz**2) * (Gee*Gff/((s-mz**2)**2 + (mz*Gz)**2))\n",
    "ss = np.linspace(mz-8, mz+8, 100)\n",
    "plt.plot(ss, sigma_to_barn * sigma(ss*ss, Ghad) / units.nano); \n",
    "plt.grid(); plt.xlabel(r'$\\sqrt{s}$ (GeV)'); plt.ylabel(r'$\\sigma$ (nbarn)');"
   ]
  },
  {
   "cell_type": "markdown",
   "metadata": {
    "slideshow": {
     "slide_type": "slide"
    }
   },
   "source": [
    "### Tres familias de neutrinos\n",
    "\n",
    "Uno de los resultados más importantes de la era LEP es la determinación del número de neutrinos.\n",
    "\n",
    "Se obtiene a partir de la anchura de desintegración, $\\gamma_Z$, del $Z$."
   ]
  },
  {
   "cell_type": "markdown",
   "metadata": {
    "slideshow": {
     "slide_type": "slide"
    }
   },
   "source": [
    "\n",
    "| | \n",
    "| :--: |\n",
    "|  <img src=\"./imgs/sm_zresonance.png\" width = 350 align=\"center\"> |\n",
    "| $\\sigma(e+e^+ \\to \\mathrm{hadrons})$ vs $\\sqrt{s}$ de los experimentos de LEP [PDG]|\n",
    "\n",
    "La siguiente figura muestra la sección eficaz $\\sigma(e+e^+ \\to \\mathrm{hadrons})$  en función de $\\sqrt{s}$ obtenida por los experimentos de LEP: ALEPH, DELPHI, L3, OPAL. \n",
    "\n",
    "\n",
    "Se muestra sobreimpuesta la curva teórica cuando consideramos $N_\\nu$ neutrinos."
   ]
  },
  {
   "cell_type": "markdown",
   "metadata": {},
   "source": [
    "\n",
    "Recordemos que el número de neutrinos, $N_\\nu$, entra en la anchura de desintegración:\n",
    "\n",
    "$$\n",
    "\\Gamma_Z = 3 \\Gamma_{ee} + 2 \\Gamma_{uu} + 3 \\Gamma_{dd} + N_\\nu \\, \\Gamma_{\\nu\\nu}\n",
    "$$\n",
    "\n",
    "A parti de la medida de $\\Gamma_Z = 2.4952 \\pm 0.0023$ y del valor esperado $\\Gamma_{\\nu\\nu}$ obtenemos:\n",
    "\n",
    "$$\n",
    "N_\\nu = 2.9840\\pm 0.0082\n",
    "$$\n",
    "\n",
    "por lo tanto, **existen tres familias de neutrinos**."
   ]
  },
  {
   "cell_type": "markdown",
   "metadata": {
    "slideshow": {
     "slide_type": "slide"
    }
   },
   "source": [
    "En la figura, la vista transversal de varios eventos en ALEP, $e+e^+ \\to Z$ y $Z \\to$ hadrons, $e+^+, \\mu+\\mu^+, \\tau+\\tau^+$:\n",
    "\n",
    "| | \n",
    "| :--: |\n",
    "|  <img src=\"./imgs/sm_Zevents_ALEPH.png\" width = 400 align=\"center\"> |\n",
    "| $Z\\to$ hadrons, $e+e^+$, $\\mu+\\mu^+$, $\\tau + \\tau^+$ [ALEPH]|"
   ]
  },
  {
   "cell_type": "markdown",
   "metadata": {
    "slideshow": {
     "slide_type": "slide"
    }
   },
   "source": [
    "## El bosón de Higgs\n",
    "\n",
    "La teoría electrodébil necesita para ser coherente del mecanismo de Higgs.\n",
    "\n",
    "El modelo de Higgs da respuesta (quizás la única posible) a los siguientes problemas graves:\n",
    "\n",
    "  * Los bosones débiles son masivos, sin embargo las teorías gauge exisgen bosones sin masa. ¿Cómo dotar de masa a los bosones $W^\\pm, Z$?\n",
    "\n",
    "\n",
    "  * La simetría electrodébil, U(1)$_Y$ SU(2)$_L$, separa fermiones a derechas e izquierdas, $f_L, f_R$, y exige que no tengan masas.\n",
    "\n",
    "\n",
    "  * otras sección eficaz, $W^+ + W^- \\to W^+ + W^-$, crece indefinidamente a no ser que un escalar con los acoplos apropiados la controle.\n",
    "  "
   ]
  },
  {
   "cell_type": "markdown",
   "metadata": {
    "slideshow": {
     "slide_type": "slide"
    }
   },
   "source": [
    "El mecanismo de Higgs permite resolver los tres problemas de una forma económica.\n",
    "\n",
    "Es imposible discutir sobre el mecanismo de Higgs sin recurrir a TQC y el lagrangiano del SM.\n",
    "\n",
    "Vamos a dar solo unas ideas que nos permitan entender su comportamiento y descubrimiento."
   ]
  },
  {
   "cell_type": "markdown",
   "metadata": {
    "slideshow": {
     "slide_type": "slide"
    }
   },
   "source": [
    "### El bosón Higgs y sus implicaciones\n",
    "\n",
    "La forma más económica del mecanismo de Higgs es considerar la existencia de un campo escalar complejo, $\\phi$, que interacciona consigo mismo con un potencial $V(\\phi)$.\n",
    "\n",
    "El campo es un doblete de U(1)$_Y$SU(2)$_L$:\n",
    "\n",
    "$$\n",
    "\\phi = \\begin{pmatrix} \\phi^+ \\\\ \\phi^o \\end{pmatrix}\n",
    "$$\n",
    "donde $\\phi^0, \\phi^+$ son campos complejos\n",
    "\n",
    "El potencial $V(\\Phi)$ viene dado por:\n",
    "\n",
    "$$\n",
    "V(\\phi) = \\frac{\\mu^2}{2} (\\phi^\\dagger \\phi) + \\frac{\\lambda}{4} (\\phi^\\dagger \\phi)^2\n",
    "$$"
   ]
  },
  {
   "cell_type": "markdown",
   "metadata": {
    "slideshow": {
     "slide_type": "slide"
    }
   },
   "source": [
    "Las siguientes figuras muestran el potencial del sombrero mexicano para el caso $\\mu^2>0, \\mu^2<0$"
   ]
  },
  {
   "cell_type": "code",
   "execution_count": 8,
   "metadata": {
    "slideshow": {
     "slide_type": "fragment"
    }
   },
   "outputs": [
    {
     "data": {
      "image/png": "[encoded data removed]",
      "text/plain": [
       "<Figure size 432x288 with 2 Axes>"
      ]
     },
     "metadata": {
      "needs_background": "light"
     },
     "output_type": "display_data"
    }
   ],
   "source": [
    "higgs_potential = lambda phi, mu, xlambda : ((mu**2).real * phi**2)/2 + (xlambda/4) * (phi**2)**2\n",
    "phis = np.linspace(-10, 10, 100)\n",
    "mu  = 6; xlambda = 1\n",
    "plt.subplot(1, 2, 1); plt.plot(phis, higgs_potential(phis, mu, xlambda));\n",
    "plt.subplot(1, 2, 2); plt.plot(phis, higgs_potential(phis, mu*(1j), xlambda));"
   ]
  },
  {
   "cell_type": "markdown",
   "metadata": {
    "slideshow": {
     "slide_type": "slide"
    }
   },
   "source": [
    "El el caso $\\mu^2 >0$ el potencial tiene un mínimo en $v = 0$\n",
    "\n",
    "Mientras que el caso $\\mu^2 <0$ tiene mínimos en:\n",
    "\n",
    "$$\n",
    "v = \\pm  \\sqrt{\\frac{-\\mu^2}{\\lambda}}\n",
    "$$\n",
    "\n",
    "a $v$ denomina **valor esperado en el vacío** (*vev*).\n",
    "\n"
   ]
  },
  {
   "cell_type": "markdown",
   "metadata": {
    "slideshow": {
     "slide_type": "slide"
    }
   },
   "source": [
    "En el caso de que $\\phi$ sea un complejo obtenemos la curva del potencial conocida como sobrero mexicano:\n",
    "\n",
    "| | \n",
    "| :--: |\n",
    "|  <img src=\"./imgs/sm_mexican_hat.png\" width = 300 align=\"center\"> |\n",
    "| potencial del campo complejo de Higgs $V(\\phi)$ [Wikipedia]|"
   ]
  },
  {
   "cell_type": "markdown",
   "metadata": {},
   "source": [
    "La elección de unos de sus mínimos se denomina **rotura espontánea de simetría**.\n",
    "\n",
    "Expresamos el campo de Higgs, $h(x)$ como una perturbación respecto el valor en el vacío: \n",
    "\n",
    "$$\n",
    " \\phi(x)  = \\frac{1}{\\sqrt{2}}\\begin{pmatrix}  0 \\\\ v + h(x) \\end{pmatrix}\n",
    "$$\n",
    "\n",
    "Este elección se conoce como **gauge unitaria**.\n",
    "\n",
    "La elección no cambia la física subyacente pero nos da lugar a los campos físicos conocidos.\n",
    "\n",
    "*Nota adicional:* Matemáticamente de los 4 grados de libertad iniciales de $\\phi$ quedan reducidos a uno, el bosón de Higgs, $h(x)$, los otros tres se trasladarán a las componentes logitudinales de los bosones $W^\\pm, Z$."
   ]
  },
  {
   "cell_type": "markdown",
   "metadata": {
    "slideshow": {
     "slide_type": "slide"
    }
   },
   "source": [
    "Al establecer invariancia gauge, el campo de Higgs da lugar a las interacciones:\n",
    "\n",
    " * entre los bosones débiles, $W^\\pm, Z$ y el valor $v$ del vacío, que interpretamos como la **masa de los bosones $W^\\pm, Z$**.\n",
    " \n",
    " * entre las dos componentes de quiralidad de los fermiones y $v$, lo que da lugar a las **masas de los fermiones**.\n",
    " \n",
    " * a interacciones entre el higgs, $h(x)$, y los bosones débiles, $W, Z$, y dar lugar a **desintegraciones del Higgs a los bosones vectoriales**\n",
    " \n",
    " * a interacciones entre el higgs, $h(x)$, y los fermiones, que a su vez da lugar a **desintegraciones a pares fermión-antifermión**\n",
    " \n",
    "*nota adicional* Además el higgs se acopla consigo mismo en vértices de tres y cuatro ramas, y con los bosones vectorales débiles en vértices de cuatro ramas."
   ]
  },
  {
   "cell_type": "markdown",
   "metadata": {
    "slideshow": {
     "slide_type": "slide"
    }
   },
   "source": [
    "### Las masas\n",
    "\n",
    "La fricción de los bosones y los fermiones con el *vev* da lugar a las masas:\n",
    "\n",
    "| | \n",
    "| :--: |\n",
    "|  <img src=\"./imgs/sm_vev_mass.png\" width = 400 align=\"center\"> |\n",
    "| acción del *vev* sobre los fermiones y los bosones débiles |\n",
    "\n",
    "En la tabla se muestra la relación entre las masas se relacionan con el *vev* y las costantes de acoplo:\n",
    "\n",
    "|  ---- fermión ---- |  ---- bosones $W^\\pm$  -----  | ------ bosón $Z$ ------ | ----- Higgs ----- |\n",
    "| :--: | :--: | :--: | :--: |\n",
    "| $m_f = \\frac{1}{\\sqrt{2}}\\lambda_f v $ | $m_W = \\frac{1}{2} g_W v$| $ m_Z = \\frac{1}{2} \\frac{g_W}{\\cos \\theta_W} v$ | $m_H = 2 \\lambda v^2$|"
   ]
  },
  {
   "cell_type": "markdown",
   "metadata": {
    "slideshow": {
     "slide_type": "slide"
    }
   },
   "source": [
    "Observamos:\n",
    "    \n",
    "   * Hay un parámetro del modelo $\\lambda_f$, que se llama **acoplo de Yukawa**, para dar la masa de cada fermión y del vev $v$. ¡Hay tantos acoplos de Yukawa como fermiones cargados!\n",
    "    \n",
    "   * Que la masa de los bosones vectoriales, $m_W, m_Z$ está fijada por $v$ y los acoplos, $g_W, g_Z$.\n",
    "   \n",
    "   * Que la masa del Higgs depende de $v^2$ y $\\lambda$. El parámetro $\\lambda$ solo interviene en la masa del Higgs.\n",
    "    \n",
    "El mecanismo de Higgs establece **una relación entre la masa de los bosones vectoriales**:\n",
    "\n",
    "$$\n",
    " \\cos \\theta_W = \\frac{m_W}{m_Z}\n",
    "$$"
   ]
  },
  {
   "cell_type": "markdown",
   "metadata": {
    "slideshow": {
     "slide_type": "slide"
    }
   },
   "source": [
    "A partir de los datos experimentales, $M_z, \\sin^2 \\theta_W$, el SM predice:\n",
    "\n",
    "$$\n",
    "m_W \\simeq 80.34 \\;\\; \\mathrm{GeV}\n",
    "$$\n",
    "\n",
    "Que se aproxima mucho al valor experimental.\n",
    "\n",
    "Esta relación dio credibilidad al mecanismo de Higgs antes de que se el Higgs se descubriera.\n",
    "\n",
    "*Nota adicional*: En la determinación de la masa debemos considerar también diagramas de más dimensiones, las correcciones que introducen son de tipo logaritmico, cuya dependencia principal está relacionada con la masa del $t$.\n",
    "\n",
    "Estar correcciones predijeron que la masa del $t$ ~175 GeV. El top se descubrió con el Tevatron de Fermilab en 1995."
   ]
  },
  {
   "cell_type": "code",
   "execution_count": 9,
   "metadata": {
    "slideshow": {
     "slide_type": "slide"
    }
   },
   "outputs": [
    {
     "name": "stdout",
     "output_type": "stream",
     "text": [
      " W mass esperada a primer orde 80.385 GeV, medida 80.378 GeV\n"
     ]
    }
   ],
   "source": [
    "s2t = units.value(\"weak mixing angle\")\n",
    "MW  = 80.378 # GeV \n",
    "MZ  = 91.1876 # GeV\n",
    "cw = np.sqrt(1 - s2t)\n",
    "mw_pred = MZ * cw\n",
    "print(' W mass esperada a primer orde {:4.3f} GeV, medida {:4.3f} GeV'.format(mw_pred, MW))"
   ]
  },
  {
   "cell_type": "markdown",
   "metadata": {
    "slideshow": {
     "slide_type": "slide"
    }
   },
   "source": [
    "Finalmente el valor del $v$ se puede determinar a partir de $g_W, m_W$, o simplemente de $G_F$:\n",
    "\n",
    "$$\n",
    "v = \\frac{2m_W}{g_W} = \\sqrt{\\frac{1}{\\sqrt{2} G_F}} = 246 \\; \\mathrm{GeV}\n",
    "$$\n"
   ]
  },
  {
   "cell_type": "code",
   "execution_count": 10,
   "metadata": {
    "slideshow": {
     "slide_type": "subslide"
    }
   },
   "outputs": [
    {
     "name": "stdout",
     "output_type": "stream",
     "text": [
      "valor esperado del vacío 246.2 GeV\n"
     ]
    }
   ],
   "source": [
    "GF = units.value(\"Fermi coupling constant\") # 1/GeV^2\n",
    "v  = np.sqrt(1/(np.sqrt(2)*GF))\n",
    "print('valor esperado del vacío {:4.1f} GeV'.format(v))"
   ]
  },
  {
   "cell_type": "markdown",
   "metadata": {
    "slideshow": {
     "slide_type": "slide"
    }
   },
   "source": [
    "### La desintegración\n",
    "\n",
    "La interacción del Higgs con los fermiones y bosones vectoriales determina sus fracciones de desintegración.\n",
    "\n",
    "| | \n",
    "| :--: |\n",
    "|  <img src=\"./imgs/sm_higgs_decay.png\" width = 400 align=\"center\"> |\n",
    "| Canales de desintegración principales del Higgs |\n",
    "\n",
    "Notar que el Higgs se acopla a sus canales de desintegración proporcionalmente a la masa de éstos:\n",
    "\n",
    "\n",
    "|  ---- fermión ---- |  ---- bosones $W^\\pm$  -----  | ------ bosón $Z$ ------ |\n",
    "| :--: | :--: | :--: |\n",
    "| $\\frac{\\lambda_f}{\\sqrt{2}} = \\frac{m_f}{v} $ | $g_Z m_W $| $ g_Z m_Z$ |\n",
    "\n",
    "*Nota adicional*: El macanimos introduce vértices adicionales tripes entre tres higgs, y cuadrupes, entre cuatro higgs y dos higgs y dos bosones vectoriales débiles."
   ]
  },
  {
   "cell_type": "markdown",
   "metadata": {
    "slideshow": {
     "slide_type": "slide"
    }
   },
   "source": [
    "Las fracciones de desintegracción de Higgs dependeran a qué canales pueda desintegrarse dependiendo de su masa.\n",
    "\n",
    "Como el acoplo del Higgs es proporcional a la masa, aquellos canales permitidos con mayor masa son los favorecidos.\n",
    "\n",
    "| --------- canal ------- | ----- $Br$ ----- |\n",
    "| :--          | --: | \n",
    "| $H\\to b + \\bar{b}$ | 57.8 % |\n",
    "| $H \\to W^+ + W^-$  | 21.6 % |\n",
    "| $H \\to \\tau + \\tau^+$| 6.4 % |\n",
    "| $H \\to g + g$         |  8.6 % |\n",
    "| $H \\to c + \\bar{c}$   | 2.9 % |\n",
    "| $H \\to Z + Z^*$       | 2.7 % |\n",
    "| $H \\to \\gamma + \\gamma$| 0.2 % |\n",
    "\n",
    "En la tabla se muestran las fracciones de desintegración del Higgs para $m_H = 125$ GeV.\n",
    "\n",
    "*Nota adicional* Las desintegraciones $H\\to \\gamma + \\gamma, H \\to g + g$ ocurren a través de diagramas de lazo, por ejemplo, con el intercambio en triángulo de un $t$."
   ]
  },
  {
   "cell_type": "markdown",
   "metadata": {
    "slideshow": {
     "slide_type": "slide"
    }
   },
   "source": [
    "## Descubrimiento del bosón de Higgs\n",
    "\n",
    "El bosón de Higgs se descubrió en 2012 en los experimentos ATLAS y CMS del LHC del CERN.\n",
    "\n",
    "Con anterioridad los experimentos de LEP y los experimentos CDF y D0 de Fermilab habían constreñido el valor de su masa más ligera entre: $115-150$ GeV.\n",
    "\n",
    "Los experimentos y el acelerador LHC se diseñaron en los 90's y su operación se inición a finales de los 2000's.\n",
    "\n",
    "En el LHC colisionan $p+p$ a una energía $\\sqrt{s}= 7- 13$ TeV y con una luminosidad $\\mathcal{L}(t) = 10^{34}$ cm$^{-2}$. Hay $10^{11}$ protones por paquete y una frecuencia de colisión de 40 MHz (cada 25 ns).\n",
    "\n",
    "El número de colisiones $10^{9}$ por segundo y por cada cruce hay como máximo $35$ colisiones, lo que de denomila *pile-up* (apilamiento)."
   ]
  },
  {
   "cell_type": "markdown",
   "metadata": {
    "slideshow": {
     "slide_type": "slide"
    }
   },
   "source": [
    "Las sección eficaz $p+p$ is del ~100 mbars en el LHC.\n",
    "\n",
    "Las sección eficaz medida de producción del $H$ para $\\sqrt{s}=13$ TeV es 54 pbarns.\n",
    "\n",
    "Los canales de desintegración dónde la señal es más fácil distinguible del fondo son $H\\to Z+Z^+$ y $H \\to \\gamma \\gamma$.\n",
    "\n",
    "Eso equivale a buscar una desintegración relevante entre $10^{13}$."
   ]
  },
  {
   "cell_type": "markdown",
   "metadata": {
    "slideshow": {
     "slide_type": "slide"
    }
   },
   "source": [
    "### Detectores\n",
    "\n",
    "En la figura se muestra el esquema del experimento CMS del LHC:\n",
    "\n",
    "| |\n",
    "|:-- |\n",
    "| <img src=\"./imgs/det_CMS_subdetectors.png\" width = 500 align = \"center\"> |\n",
    "| Esquema de un sector del *Compact Muon Selenoid* ([CMS](https://cms.cern/detector)) del LHC|\n"
   ]
  },
  {
   "cell_type": "markdown",
   "metadata": {
    "slideshow": {
     "slide_type": "slide"
    }
   },
   "source": [
    "### El descubrimiento del Higgs"
   ]
  },
  {
   "cell_type": "markdown",
   "metadata": {
    "slideshow": {
     "slide_type": "slide"
    }
   },
   "source": [
    "El Higgs se descubrió en dos canales limpios (donde los sucesos de contaminación son o afectan menos).\n",
    "\n",
    "  * $H \\to \\gamma + \\gamma$, buscando dos deposiciones en el calorímetro electromagnético, $\\gamma$s.\n",
    "  \n",
    "  Se calcula la masa invariante de los $\\gamma$s que provienen del punto de interacción.\n",
    "\n",
    "\n",
    "  * En el canal $H \\to Z + Z^* \\to (l+l^+) + (l'+l'^+)$, en cuatro leptones ($4l$), agrupados en dos parejas del mismo sabor y carga opuesta.\n",
    "  \n",
    "  Una pareja proviene de un $Z$ real, *on-shell*, y su masa invariantes es próxima al $Z$, y otra del $Z^*$ *off-shell*, que tiene menor masa invariante que el $Z$. \n"
   ]
  },
  {
   "cell_type": "markdown",
   "metadata": {
    "slideshow": {
     "slide_type": "slide"
    }
   },
   "source": [
    "La siguiente figura muestra la presenta la distribución de la masa invariante de $2 \\gamma$ (izda) para el caso de CMS y de $(4 l)$ para el caso de ATLAS con la estadística de Run-I del LHC \n",
    "\n",
    "| | \n",
    "| :--: |\n",
    "|  <img src=\"./imgs/sm_higgs_CMS_ATLAS.png\" width = 600 align=\"center\"> |\n",
    "| masa invariante para $H \\to \\gamma \\gamma$ (izda, [CMS]) y $H \\to Z+ Z^* \\to 4 l$ (derecha, [ATLAS])|\n"
   ]
  },
  {
   "cell_type": "markdown",
   "metadata": {
    "slideshow": {
     "slide_type": "slide"
    }
   },
   "source": [
    "Observamos:\n",
    "    \n",
    "   * La presencia de un pico en la masa invariante en ambas distribuciones a 125 GeV.\n",
    "   \n",
    "   * Ese pico es incompatible con el fondo, en combinación a ~6 desviaciones estandars. \n",
    "  \n",
    "Con los datos del run-I del LHC se pudo concluir además:\n",
    "   \n",
    "   * que se trataba de una partícula escalar a partir de las distribuciones angulares de los $(4l)$ en el canal $H\\to 4 l$.\n",
    "   \n",
    "   * que el acoplo a otros canales $\\tau\\tau^+, b \\bar{b}$ es el esperado por el SM"
   ]
  },
  {
   "cell_type": "markdown",
   "metadata": {
    "slideshow": {
     "slide_type": "slide"
    }
   },
   "source": [
    "En la figura dos eventos de ATLAS, identificados como $H \\to \\gamma\\gamma$ (izda) y $H \\to e+e^++\\mu+\\mu^+$\n",
    "\n",
    "| | |\n",
    "| :--: | :--: |\n",
    "|  <img src=\"./imgs/sm_atlas_h2gammas_event.png\" width = 320 align=\"center\"> | <img src=\"./imgs/sm_atlas_h4leptons_event.png\" width = 320 align=\"center\"> |\n",
    "| $H \\to \\gamma + \\gamma$ event | $H \\to 4l$ event [ATLAS events](https://twiki.cern.ch/twiki/bin/view/AtlasPublic/EventDisplaysFromHiggsSearches) |"
   ]
  },
  {
   "cell_type": "markdown",
   "metadata": {
    "slideshow": {
     "slide_type": "slide"
    }
   },
   "source": [
    "## Conclusions\n",
    "\n",
    "El SM:\n",
    "\n",
    "  * El SM clasifica las partículas conocidas y describe con precisión las interacciones entre ellas.\n",
    "  \n",
    "  * El SM se ha verificado en una gran cantidad de procesos físicos.\n",
    "  \n",
    "  * No obstante sabemos que los neutrinos tienen masa, lo que implica que debemos extender el SM.\n",
    "  \n",
    "Pero:\n",
    "  \n",
    "  * No incluye otra física conocida, como la materia oscura, ¿qué partículas la forman?\n",
    "  \n",
    "  * El modelo tiene cinco parámetros fundamentales $e, g_W, g_S, v, \\lambda$, dos de ellos corresponden al Higgs. Experimentalmente $\\alpha, G_L, \\alpha_S, m_Z, M_H$.\n",
    "\n",
    "  * Tiene 9 parámetros adcionales, los acoplos de Yukawa; 4 más para acomodar la matriz CKM de los quarks, y 3 o 4 más para la PNMS de los leptones. \n"
   ]
  },
  {
   "cell_type": "markdown",
   "metadata": {
    "slideshow": {
     "slide_type": "slide"
    }
   },
   "source": [
    "### cuestiones abiertas\n",
    "\n",
    " * ¿Es el neutrino su propia antipartícula? ¿Cómo se acopla al Higgs?\n",
    "\n",
    " * ¿Cuál es el origen de los valores de masas? ¿Por qué es tan pequeña la del neutrino?\n",
    "\n",
    " * ¿Por qué hay 3 familias? ¿Qué releación guardan, si la hay, la matriz CKM y PNMS?\n",
    "\n",
    " * ¿El el Higgs único? ¿Es el Higgs compuesto?\n",
    " \n",
    " * ¿Cuál es el origen del potecial del bosón de Higgs, $V(\\Phi)$?\n",
    " \n",
    " * ¿Hasta qué escala de energía, $\\Lambda$, es válido el SM? ¿A qué energía aparecerá nueva física?\n"
   ]
  },
  {
   "cell_type": "markdown",
   "metadata": {},
   "source": [
    "## Bibliografía\n",
    "\n",
    "\n",
    "  * [MT] Mark Tomsom, \"Modern Particle Physics\", Cambridge U. press, Temas 15, 16 y 17.\n",
    "  \n",
    "  * [AB] Alessandro Bettini, \"Introduction to Elementary Particle Physcs\", Cambridge U. press, Tema 9. \n",
    "  \n",
    "  * [PK] M. Peskik, Lectures on the Theory of the Weak Interaction, SLAC–PUB–17142, (2017), [arXiv:1708.0943v1](https://arxiv.org/abs/1708.09043)\n",
    "  \n",
    "  * [PDG](https://pdg.lbl.gov/) Particle Data Group.\n",
    "  \n",
    "  * [LEP-SLD] LEP and SLD Collaborations. 2006. Phys. Rept., 427, 257–454.\n",
    "  \n",
    "  * [DELPHI] P. Abreu et al., DELPHI Collaboration, *Eur. Phys. J.* **C 11**, 383 (1999).\n",
    "  \n",
    "  * [ALEPH] D. Decamp et al., ALEPH Collaboration, *Z. Phys.* **C 48**, 365 (1990)\n",
    "\n",
    "  * [CMS] V. Khachatryan et al., CMS Collaboration, *Eur. Phys. J.* **C 74**, no. 10, 3076 (2014) [arXiv:1407.0558](https://arxiv.org/abs/1407.0558) \n",
    "  \n",
    "  * [ATLAS] G. Aad et al., ATLAS Collaboration, *Phys. Lett.* **B 726**, 88 (2013) Erratum: [Phys. Lett. B 734, 406 (2014)] [arXiv:1307.1427](https://arxiv.org/abs/1307.1427)"
   ]
  }
 ],
 "metadata": {
  "anaconda-cloud": {},
  "celltoolbar": "Slideshow",
  "kernelspec": {
   "display_name": "Python 3",
   "language": "python",
   "name": "python3"
  },
  "language_info": {
   "codemirror_mode": {
    "name": "ipython",
    "version": 3
   },
   "file_extension": ".py",
   "mimetype": "text/x-python",
   "name": "python",
   "nbconvert_exporter": "python",
   "pygments_lexer": "ipython3",
   "version": "3.8.8"
  }
 },
 "nbformat": 4,
 "nbformat_minor": 4
}
